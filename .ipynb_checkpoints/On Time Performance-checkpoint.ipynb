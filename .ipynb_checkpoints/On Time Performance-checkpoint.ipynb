{
 "cells": [
  {
   "cell_type": "markdown",
   "metadata": {},
   "source": [
    "# Project 2: Predicting Ontime Performance for Mystery Airline\n",
    "\n",
    "#### Dennis Murray and Alex Deshowitz\n",
    "#### MSDS ...\n"
   ]
  },
  {
   "cell_type": "markdown",
   "metadata": {},
   "source": [
    "# Project Overview and Objectives\n",
    "\n",
    "This project seeks to classify 2 main objectives:\n",
    "  * **Ontime performance** - as defined by the DOT (see data dictionary for definition)\n",
    "  \n",
    "  * **D0** -  Whether a flight departs ontime\n",
    "    \n",
    "This task is a hard problem to solve.  We recognize that our dataset may not have all of the correct attributes to correctly and appropriately predict all scenarios.  In the real world, we would be able to iterate and add to our dataset.  However, for the sake of timliness and actually finishing this project and initial analysis, we will simply work with the attributes that we are given.  That being said, our objective is to best predict both D0 and ontime performance with the information that we have available.  Our hope is to leverage this information in order to add to and build better models in the future.\n",
    "\n",
    "##### Modeling and Evaluation metrics\n",
    "\n",
    "To evaluate the models that we attempted, we had to think about the ramifications of getting the answers incorrect.  We also had to consider that since we are trying to predict something that only happens 20% of the time (late flights) accuracy may not be the best choice for evaluation.  We may see levels that look unnecessarily good.  From the standpoint of the organization, false positives could be a huge problem.  The reasoning for this is because airlines plan schedules for crew, ground operations, gate operations, customer service operations both by the number of flights that are expected and the overall ontime percentage that is expected.  If a station expects that a higher than normal number of flights will be ontime, they will generally choose to use fewer staff members to work the flights, because the workload is theoretically lighter.  Additionally, if the operation is expected to perform rather poorly, the stations may choose to add an extra head or two to the schedule.  While it sounds as though adding additional people to the schedule could be expensive, the alternative under an unexpectedly poor performance scenario is that an entire shift of individuals could windup extending their workday at 2-3 times their normal pay rate.  The cost is essentially exponential.  Therefore we will be using both **accuracy** and **precision** to make our modeling decisions and recommendations.  However, we will also provide recall and F1.  \n",
    "\n",
    "##### Cross Validation Methodology\n",
    "\n",
    "For this model, we chose to use a 10-fold stratified cross validation.  There were several reasons for taking this approach.  First, this approach is generally a better scheme when thinking about bias and variance versus regular \"holdout\" cross-validation.  Additionally, for this modeling exercise, the class that we are modeling for OTP has an 80/20 distribution as in flights are generally ontime about 80% of the time.  Therefore, we wanted to hold the distribution of the classes constant in our modeling.  Stratified cross-validation allows us to keep the distribution of the classes the same within each fold of the data.  Therefore this is a really good approach given the classification variables at hand.\n",
    "\n",
    "##### Other Notes\n",
    "\n",
    "It might be noticed that some of the code for different models in this report is repeated.  This is not a naive approach to modeling.  This approach ensures that code blocks are not dependent upon previous code blocks that took an egregious about of time to render.\n",
    "\n"
   ]
  },
  {
   "cell_type": "markdown",
   "metadata": {},
   "source": [
    "## Data Dictionary\n",
    "\n",
    "#### Overview\n",
    "This dataset contains one month of flight(leg) level information for an airline.  This dataset was created with the intent to forecast ontime performance for an airline.  Ontime performance as defined by the US department of transportation as any flight arriving within 15 minutes of its scheduled arrival time in the destination city\n",
    "\n",
    "* **Origin** - The DOT airport code denoting the starting point of a flight leg (see link for list of codes:####)\n",
    "* **Destination** - The DOT airport code denoting the ending point of a flight leg.  This list contains the same values as the origin field as an origin can be a destination and a destination can be an origin.  All airlines serve markets in this fashion.  For example, if Delta Airlines serves ATL-MSY (Dallas-New Orleans), they also serve the market in the opposite direction: MSY-ATL. \n",
    "* **Market** - A market is any origin and destination pair.  For example: ATL-TPA is a market.  Airlines always serve markets in a balanced fashion.  This means that if the airline serves ATL-MSY 11 times a day, the airline also serves the MSY-ATL 11 times a day.  The airline can still arbitrage the capacity in directions which have imbalanced demand patterns via changes in aircraft size (gauge).  For instance, Delta may serve MSY-ATL with 11 regional jets and ATL-MSY with 11 Boeing 757s (considerably larger aircraft). However, most airlines use far more sophisticated methods.  Markets tend to have time of day seat (gauge) patterns that attempt to best match demand patterns.  This means that we expect to see markets with mixed gauge patterns throughout the day.\n",
    "* **Origin Latitude** - The latitude of the origin airport\n",
    "* **Origin Longitude** - The longitude of the origin airport\n",
    "* **Destination Latitude** - The latitude of the Destination airport\n",
    "* **Destination Longitude** - The longitude of the Destination airport\n",
    "* **Origin Country** - The country of origin for the flight leg.  Note that SJU (San Juan) is not included as international in this dataset per DOT specification.\n",
    "* **Origin Country** - The destination country for the flight leg.  Note that SJU (San Juan) is not included as international in this dataset per DOT specification.\n",
    "* **Flight Number** - Distinct number denoting a specific flight on a specific day.  While flight numbers can repeat on a day level, they cannot repeat at the same airport within 6 hours for obvious issues associated with the potential to have multiple flights in air with the same number at the same time from the same airline.  The number for scheduled flights ranges from 1-6999.  However, mistakes do happen, so it is best not to hard code filter any of these numbers.\n",
    "* **Miles Flown** - Great circle mileage calculation for miles flown.  Note that this does not vary by market as this is simply the scheduled mileage and does not take into account flight path diversions.\n",
    "* **Departure Date** - The date of departure between 5/1/2016 and 5/31/2016\n",
    "* **Day of Week** - The day of week that a flight departs with 1 being equivalent to Monday\n",
    "* **Flight Type Code** - One of 3 values indicating the flight type for DOT purposes.  This dataset was prefiltered to include only those types considered by the DOT for Ontime departures.\n",
    "    * **Blank Value**- Records that have no value for the flight type code were scheduled flights that flew as scheduled\n",
    "    * **Code S**- Records with flight type code S represent stub originator flights.  Stub originators are flights that were not scheduled to be originators on the flight line, but had an aircraft swap that made the route appear to have multiple orginator flights.  An originator is an aircraft's first flight of the day.  On average, aircraft in this dataset fly 6 flight legs per day.  A flight line could have both an originator and a stub originator with the given scenario.  Flight 1 on flight line number 150 from DAL-HOU departed HOU at 6am, and arrived in DAL at 7am.  The aircraft on flight route 150 was scheduled to continue on from HOU to ATL at 9am.  However, another flight line, say line 200, that was supposed to begin its day flying HOU-MCO at 8am had an aircraft go down for maintenance.  This line now has no aircraft to fly.  The dispatchers may decide that the aircraft on line 150 can take over line 200 and the aircraft on line 200 can take over line 150 because it leaves later and the maintenance issue can be fixed in time for the 9am HOU-ATL flight.  The flight that takes over line 150 is now considered a stub originator, flight type code 's.'  \n",
    "    * **Code X**- Flight type code X denotes a flight that was cancelled.  Due to the sparse nature of the attributes in this dataset, we will calculate OTP with \n",
    "* **Flight Route Number**: The route number denotes an aircraft's line of flying for the day.  These will repeat for a given aircraft for a day for all flights in the flight line.\n",
    "* **Route Sequence Number**: A number between 1 and 10 that denotes the aircraft's leg number on the flight line.\n",
    "* **Aircraft Type Code** : The type of aircraft flying the flight.  All aircraft in this dataset are Boeing 737 variants\n",
    "    *  WIll come back and fill these in later.  May need to change in the dataset.\n",
    "* **Flight Cancellation code**: Code denoting the cancellation reason if the flight is cancelled.  Unlikely to use this for predictive purposes.\n",
    "* **Alternate Airport**: If a flight has to divert for any reason to a different airport, this field will show the airport code where the aircraft landed\n",
    "* **Push Delay Mins**: The number of minutes after the scheduled departure time that the aircraft pushed from the gate.  This is not used by the DOT.\n",
    "* **Delay Type**: When a flight takes any type of departure delay, the departure station codes a reason for the delay.  The most common codes are : HD- some sort of hold, OP - operational, WX - weather, IF - inflight\n",
    "* **Aircraft Tow Weight**: The weight of the aircraft prior to departure\n",
    "* **Aicraft Landing Weight**: The standard landing weight of the aircraft.  This landing weight is aircraft specific and used for calculating landing fees at the destination airport.\n",
    "* **Fuel Loaded**: Weight of the fuel loaded in thousands of pounds\n",
    "* **Central Scheduled Departure Time**: Scheduled departure time of the aircraft in Central time.  \n",
    "* **Local Scheduled Departure Time**: Scheduled departure time of the aircraft in Local time.  \n",
    "* **Central Scheduled Arrival Time**: Scheduled arrival time of the aircraft in Central time. \n",
    "* **Local Scheduled Arrival Time**: Scheduled arrival time of the aircraft in Local time. \n",
    "* **Total Passengers**: Total number of people onboard the aircraft\n",
    "* **Local Passengers**: The number of passengers traveling nonstop on the flight.  These people are not and will not be making a connection.\n",
    "* **Connect Passengers**: The number of passengers making a connection at some point in their itinerary.\n",
    "* **Thru Passengers**: The number of passengers onboard the aircraft who had flown on a previous flight on that aircraft and rather than making a connection stay on the aircraft.\n",
    "* **Unaccompanied Minors**: The count of minors of age 5-11 not traveling with someone else at least age 12 or greater.\n",
    "* **Total Nonrev Passengers**: The number of passengers onboard not paying a fare.  The individuals could be employees travleing for work or leisure, companion passholders, guest pass users, etc.\n",
    "* **DOT Security Delay Time**: The delay time accounted for by security backups\n",
    "* **NAS Delay Minutes**: The number of delay minutes due to National Airspace issues.\n",
    "* **Weather Delay Minutes**: Delay minutes attributed to weather issues\n",
    "* **DOT Delay Minutes**: Difference between actual arrival time and the scheduled arrival time.\n",
    "* **Flight attendant change Indicator**: Field indicating whether there was a crew change for the flight attendants on a flight\n",
    "* **Total Bags** : The number of checked bags on the flight\n",
    "* **Bag Weight**: The weight of the bags on the flight\n",
    "* **Freight Weight Total**: The weight of the total freight onboard the aircraft\n",
    "* **Scheduled Turn Minutes**: The scheduled amount of time in the origin city that the ground grew has to unload passengers and bags, load passengers and bags, refuel, restock, and prep the plane for the next departure.\n",
    "* ** Itins In**: The total number of itineraries scheduled that could have inbound connections on the leg.  \n",
    "* ** Itins Out**: The total number of itineraries that the flight connects to\n",
    "* ** Total Itins on Leg**: The total number of possible itineraries on the flight leg.  This number is not necessarily the aggregation of itins in and itins out.  There are nuances that can cause this number to be slightly higher or lower since an itin in can also be an itin out.\n",
    "\n"
   ]
  },
  {
   "cell_type": "code",
   "execution_count": 49,
   "metadata": {
    "collapsed": false
   },
   "outputs": [],
   "source": [
    "# import packages\n",
    "\n",
    "import pandas as pd \n",
    "import seaborn as sns\n",
    "import numpy as np\n",
    "import matplotlib.pyplot as plt\n",
    "import scipy.stats \n",
    "import sklearn as sk\n",
    "import statsmodels.api as sm\n",
    "#import statsmodels.formula.api as smf\n",
    "from statsmodels.stats.outliers_influence import variance_inflation_factor\n",
    "\n",
    "import pandas as pd\n",
    "from pandas.tools.plotting import scatter_plot\n",
    "from pandas.tools.plotting import scatter_matrix\n",
    "\n",
    "from sklearn.preprocessing import scale, StandardScaler\n",
    "from sklearn import preprocessing, cross_validation, svm\n",
    "from sklearn.linear_model import LinearRegression, Lasso, Lars, SGDRegressor\n",
    "\n",
    "from sklearn.decomposition import PCA \n",
    "from sklearn.cluster import KMeans\n",
    "from sklearn.neighbors import KNeighborsRegressor\n",
    "from sklearn.pipeline import Pipeline\n",
    "from sklearn.neighbors import KNeighborsClassifier\n",
    "from sklearn.model_selection import StratifiedKFold\n",
    "from sklearn.preprocessing import StandardScaler\n",
    "import numpy as np\n",
    "from sklearn import metrics as mt\n",
    "\n",
    "\n",
    "#import locale\n",
    "#locale.setlocale( locale.LC_ALL, 'en_US.UTF-8' ) \n",
    "\n",
    "from pandas.tools.plotting import scatter_matrix\n",
    "\n",
    "from sklearn.svm import SVR\n",
    "from sklearn.feature_selection import RFE, RFECV\n",
    "\n",
    "from sklearn.decomposition import PCA \n",
    "from sklearn.pipeline import Pipeline\n",
    "\n",
    "\n",
    "#configure the random seed so we our randomness is reproducible for selection of learn/test sets\n",
    "np.random.seed(0)\n",
    "\n",
    "%matplotlib inline"
   ]
  },
  {
   "cell_type": "code",
   "execution_count": 25,
   "metadata": {
    "collapsed": false
   },
   "outputs": [],
   "source": [
    "#read in the data file\n",
    "OnTime=pd.read_csv(\"Data/20170112_DataMiningI_TestDataSet_v01.csv\", header=0)"
   ]
  },
  {
   "cell_type": "code",
   "execution_count": 26,
   "metadata": {
    "collapsed": false
   },
   "outputs": [
    {
     "data": {
      "text/plain": [
       "origin                         object\n",
       "origin_latitude               float64\n",
       "origin_longitude              float64\n",
       "destination                    object\n",
       "destination_latitude          float64\n",
       "destination_longitude         float64\n",
       "origin_country                 object\n",
       "destination_country            object\n",
       "flight_number                   int64\n",
       "miles_flown                     int64\n",
       "departure_date                 object\n",
       "day_of_week                     int64\n",
       "flight_type_code               object\n",
       "flight_route_number             int64\n",
       "route_sequence_number           int64\n",
       "aircraft_type_cde               int64\n",
       "flight_cancellation_code       object\n",
       "alternate_airport              object\n",
       "push_delay_mins                 int64\n",
       "delay_type                     object\n",
       "delay_id                       object\n",
       "aircraft_seat_count             int64\n",
       "aircraft_tow_weight             int64\n",
       "aircraft_landing_weight         int64\n",
       "fuel_loaded                     int64\n",
       "central_scheduled_dep_time      int64\n",
       "local_scheduled_dep_time        int64\n",
       "central_scheduled_arr_time      int64\n",
       "local_schedulced_arr_time       int64\n",
       "total_passengers                int64\n",
       "local_passengers                int64\n",
       "connecting_passengers           int64\n",
       "thru_passengers                 int64\n",
       "unaccompanied_minors            int64\n",
       "total_nonrev_passengers         int64\n",
       "dot_security_delay_time         int64\n",
       "NAS_delay_minutes               int64\n",
       "weather_delay_minutes           int64\n",
       "dot_delay_mins                  int64\n",
       "flt_attendant_change_ind       object\n",
       "total_bags                      int64\n",
       "bag_weight_total                int64\n",
       "freight_weight_total            int64\n",
       "scheduled_turn_minutes          int64\n",
       "itins_in                        int64\n",
       "itins_out                       int64\n",
       "itins_on_leg                    int64\n",
       "dtype: object"
      ]
     },
     "execution_count": 26,
     "metadata": {},
     "output_type": "execute_result"
    }
   ],
   "source": [
    "# look at datatypes\n",
    "OnTime.dtypes"
   ]
  },
  {
   "cell_type": "code",
   "execution_count": 27,
   "metadata": {
    "collapsed": false,
    "scrolled": true
   },
   "outputs": [
    {
     "data": {
      "text/plain": [
       "count     112059\n",
       "unique         3\n",
       "top             \n",
       "freq      110711\n",
       "Name: flight_type_code, dtype: object"
      ]
     },
     "execution_count": 27,
     "metadata": {},
     "output_type": "execute_result"
    }
   ],
   "source": [
    "OnTime['flight_type_code'].describe()"
   ]
  },
  {
   "cell_type": "markdown",
   "metadata": {},
   "source": [
    "# Data Cleaning"
   ]
  },
  {
   "cell_type": "markdown",
   "metadata": {},
   "source": [
    "The first thing we want to get rid of in this dataset is cancelled flights.  While a cancelled flight is technically not considered ontime, the data in this set is too sparse to forecast cancellations. We would need additional attributes to be able to forecast cancellations"
   ]
  },
  {
   "cell_type": "code",
   "execution_count": 29,
   "metadata": {
    "collapsed": false
   },
   "outputs": [
    {
     "data": {
      "text/plain": [
       "1004"
      ]
     },
     "execution_count": 29,
     "metadata": {},
     "output_type": "execute_result"
    }
   ],
   "source": [
    "len(OnTime) - len(OnTime.loc[OnTime['flight_type_code']!= 'X'])"
   ]
  },
  {
   "cell_type": "markdown",
   "metadata": {},
   "source": [
    "looks like we are filtering out about 1004 records"
   ]
  },
  {
   "cell_type": "code",
   "execution_count": 30,
   "metadata": {
    "collapsed": false
   },
   "outputs": [],
   "source": [
    "OnTime = OnTime.loc[OnTime['flight_type_code']!= 'X']"
   ]
  },
  {
   "cell_type": "code",
   "execution_count": 31,
   "metadata": {
    "collapsed": false
   },
   "outputs": [
    {
     "data": {
      "text/plain": [
       "count     111055\n",
       "unique         2\n",
       "top             \n",
       "freq      110711\n",
       "Name: flight_type_code, dtype: object"
      ]
     },
     "execution_count": 31,
     "metadata": {},
     "output_type": "execute_result"
    }
   ],
   "source": [
    "OnTime['flight_type_code'].describe()"
   ]
  },
  {
   "cell_type": "markdown",
   "metadata": {},
   "source": [
    "Now we have a dataset that excludes those sparse records."
   ]
  },
  {
   "cell_type": "markdown",
   "metadata": {},
   "source": [
    "The route sequence number is loaded into the file as a multiple of one-hundred million.  We would like this to be a more readable format.  Additionally, it makes more notional sense given that this value is the sequence number in the line.  Therefore a number between 1 and 10 makes sense to display"
   ]
  },
  {
   "cell_type": "code",
   "execution_count": 32,
   "metadata": {
    "collapsed": false
   },
   "outputs": [
    {
     "name": "stdout",
     "output_type": "stream",
     "text": [
      "0    3.0\n",
      "1    2.0\n",
      "2    7.0\n",
      "3    3.0\n",
      "4    6.0\n",
      "Name: route_sequence_number, dtype: float64\n"
     ]
    }
   ],
   "source": [
    "# need to fix route sequence number\n",
    "\n",
    "#print(OnTime['route_sequence_number'].unique(), (OnTime['route_sequence_number']/100000000).unique())\n",
    "\n",
    "print((OnTime['route_sequence_number']/100000000).head())"
   ]
  },
  {
   "cell_type": "code",
   "execution_count": 33,
   "metadata": {
    "collapsed": false
   },
   "outputs": [
    {
     "name": "stdout",
     "output_type": "stream",
     "text": [
      "0    3.0\n",
      "1    2.0\n",
      "2    7.0\n",
      "3    3.0\n",
      "4    6.0\n",
      "Name: route_sequence_number, dtype: float64 [  3.   2.   7.   6.   1.   5.   4.   9.  10.   8.]\n"
     ]
    }
   ],
   "source": [
    "OnTime['route_sequence_number'] = OnTime['route_sequence_number']/100000000\n",
    "\n",
    "print(OnTime['route_sequence_number'].head(), OnTime['route_sequence_number'].unique())\n"
   ]
  },
  {
   "cell_type": "code",
   "execution_count": 34,
   "metadata": {
    "collapsed": false
   },
   "outputs": [
    {
     "data": {
      "image/png": "[encoded data removed]",
      "text/plain": [
       "<matplotlib.figure.Figure at 0x21c50f77e48>"
      ]
     },
     "metadata": {},
     "output_type": "display_data"
    }
   ],
   "source": [
    "ax  = sns.countplot(OnTime['route_sequence_number'])\n",
    "ax = plt.ylabel('Route Sequence Number Count')\n",
    "ax = plt.xlabel('Route Sequence Number')\n",
    "plt.show()"
   ]
  },
  {
   "cell_type": "markdown",
   "metadata": {},
   "source": [
    "The countplots look good with the removal of the cancelled flights.  Previously, we had some route sequence numbers >10.  This is not possible, because the most legs a line can contain in this dataset is 10"
   ]
  },
  {
   "cell_type": "code",
   "execution_count": 35,
   "metadata": {
    "collapsed": false
   },
   "outputs": [],
   "source": [
    "#Create indicator for ontime performance, where 1 = OnTime and 0 = LATE\n",
    "OnTime['OnTimeIndicator'] = np.where(OnTime['dot_delay_mins']>=15, 0, 1)\n",
    "\n",
    "#############################\n",
    "## THINK I FIXED THESE ISSUES>>> there were commas in the excel formatting of these columns will send good file\n",
    "\n",
    "#Need to fix the time of day first\n",
    "#OnTime['local_scheduled_dep_time']=OnTime['local_scheduled_dep_time'].apply(locale.atoi)\n",
    "\n",
    "#Fix weight fields to be numeric\n",
    "#OnTime['bag_weight_total']=OnTime['bag_weight_total'].apply(locale.atoi)\n",
    "#OnTime['freight_weight_total']=OnTime['freight_weight_total'].apply(locale.atoi)\n",
    "#OnTime['aircraft_landing_weight']=OnTime['aircraft_landing_weight'].apply(locale.atoi)\n",
    "#OnTime['aircraft_tow_weight']=OnTime['aircraft_tow_weight'].apply(locale.atoi)\n",
    "#OnTime['miles_flown']=OnTime['miles_flown'].apply(locale.atoi)\n"
   ]
  },
  {
   "cell_type": "markdown",
   "metadata": {},
   "source": [
    "The DOT defines a flight as being on time if it arrives within 15 minutes of the scheduled arrival time.\n",
    "\n",
    "We need to create time of day buckets.  Luckily there are predefined bins that we can use."
   ]
  },
  {
   "cell_type": "code",
   "execution_count": 36,
   "metadata": {
    "collapsed": false
   },
   "outputs": [
    {
     "name": "stdout",
     "output_type": "stream",
     "text": [
      "   local_scheduled_dep_time   TimeBucket\n",
      "0                      1205      pm_meat\n",
      "1                       925      am_meat\n",
      "2                      2200  shoulder_pm\n",
      "3                      1105      am_meat\n",
      "4                      1825      pm_meat\n"
     ]
    }
   ],
   "source": [
    "#Need some Time of Day buckets\n",
    "OnTime['TimeBucket']=pd.cut(OnTime['local_scheduled_dep_time'],[0, 600, 700, 1200, 2000, 2200,2800],6, \n",
    "       labels=[\"deep_shoulder_am\", \"shoulder_am\", \"am_meat\", \"pm_meat\", \"shoulder_pm\",\"deep_shoulder_pm\"])\n",
    "\n",
    "# test the variable\n",
    "\n",
    "print(OnTime[['local_scheduled_dep_time','TimeBucket']].head())"
   ]
  },
  {
   "cell_type": "markdown",
   "metadata": {},
   "source": [
    "It looks like this variable is working well"
   ]
  },
  {
   "cell_type": "code",
   "execution_count": 37,
   "metadata": {
    "collapsed": true
   },
   "outputs": [],
   "source": [
    "#Need an \"International\" code\n",
    "OnTime['International'] = np.where(OnTime['origin_country']!=OnTime['destination_country'], 1, 0)"
   ]
  },
  {
   "cell_type": "code",
   "execution_count": 38,
   "metadata": {
    "collapsed": false
   },
   "outputs": [
    {
     "name": "stdout",
     "output_type": "stream",
     "text": [
      "0         United States of America\n",
      "1         United States of America\n",
      "2         United States of America\n",
      "3         United States of America\n",
      "4         United States of America\n",
      "5         United States of America\n",
      "6         United States of America\n",
      "7         United States of America\n",
      "8         United States of America\n",
      "9         United States of America\n",
      "10        United States of America\n",
      "11        United States of America\n",
      "12        United States of America\n",
      "13        United States of America\n",
      "14        United States of America\n",
      "15        United States of America\n",
      "16        United States of America\n",
      "17        United States of America\n",
      "18        United States of America\n",
      "19        United States of America\n",
      "20        United States of America\n",
      "21        United States of America\n",
      "22        United States of America\n",
      "23        United States of America\n",
      "24        United States of America\n",
      "25        United States of America\n",
      "26        United States of America\n",
      "27        United States of America\n",
      "28        United States of America\n",
      "29        United States of America\n",
      "                    ...           \n",
      "112029    United States of America\n",
      "112030    United States of America\n",
      "112031    United States of America\n",
      "112032    United States of America\n",
      "112033    United States of America\n",
      "112034    United States of America\n",
      "112035    United States of America\n",
      "112036    United States of America\n",
      "112037    United States of America\n",
      "112038    United States of America\n",
      "112039    United States of America\n",
      "112040    United States of America\n",
      "112041    United States of America\n",
      "112042    United States of America\n",
      "112043    United States of America\n",
      "112044    United States of America\n",
      "112045    United States of America\n",
      "112046    United States of America\n",
      "112047    United States of America\n",
      "112048    United States of America\n",
      "112049    United States of America\n",
      "112050    United States of America\n",
      "112051    United States of America\n",
      "112052    United States of America\n",
      "112053    United States of America\n",
      "112054    United States of America\n",
      "112055    United States of America\n",
      "112056    United States of America\n",
      "112057    United States of America\n",
      "112058    United States of America\n",
      "Name: origin_country, dtype: object 0         United States of America\n",
      "1         United States of America\n",
      "2         United States of America\n",
      "3         United States of America\n",
      "4         United States of America\n",
      "5         United States of America\n",
      "6         United States of America\n",
      "7         United States of America\n",
      "8         United States of America\n",
      "9                       Costa Rica\n",
      "10        United States of America\n",
      "11        United States of America\n",
      "12        United States of America\n",
      "13        United States of America\n",
      "14        United States of America\n",
      "15        United States of America\n",
      "16        United States of America\n",
      "17        United States of America\n",
      "18        United States of America\n",
      "19        United States of America\n",
      "20                          Mexico\n",
      "21        United States of America\n",
      "22        United States of America\n",
      "23        United States of America\n",
      "24        United States of America\n",
      "25        United States of America\n",
      "26        United States of America\n",
      "27        United States of America\n",
      "28        United States of America\n",
      "29        United States of America\n",
      "                    ...           \n",
      "112029    United States of America\n",
      "112030    United States of America\n",
      "112031    United States of America\n",
      "112032    United States of America\n",
      "112033    United States of America\n",
      "112034    United States of America\n",
      "112035    United States of America\n",
      "112036    United States of America\n",
      "112037    United States of America\n",
      "112038    United States of America\n",
      "112039    United States of America\n",
      "112040    United States of America\n",
      "112041    United States of America\n",
      "112042    United States of America\n",
      "112043    United States of America\n",
      "112044    United States of America\n",
      "112045    United States of America\n",
      "112046    United States of America\n",
      "112047    United States of America\n",
      "112048    United States of America\n",
      "112049    United States of America\n",
      "112050    United States of America\n",
      "112051    United States of America\n",
      "112052    United States of America\n",
      "112053    United States of America\n",
      "112054    United States of America\n",
      "112055    United States of America\n",
      "112056    United States of America\n",
      "112057    United States of America\n",
      "112058    United States of America\n",
      "Name: destination_country, dtype: object 0         0\n",
      "1         0\n",
      "2         0\n",
      "3         0\n",
      "4         0\n",
      "5         0\n",
      "6         0\n",
      "7         0\n",
      "8         0\n",
      "9         1\n",
      "10        0\n",
      "11        0\n",
      "12        0\n",
      "13        0\n",
      "14        0\n",
      "15        0\n",
      "16        0\n",
      "17        0\n",
      "18        0\n",
      "19        0\n",
      "20        1\n",
      "21        0\n",
      "22        0\n",
      "23        0\n",
      "24        0\n",
      "25        0\n",
      "26        0\n",
      "27        0\n",
      "28        0\n",
      "29        0\n",
      "         ..\n",
      "112029    0\n",
      "112030    0\n",
      "112031    0\n",
      "112032    0\n",
      "112033    0\n",
      "112034    0\n",
      "112035    0\n",
      "112036    0\n",
      "112037    0\n",
      "112038    0\n",
      "112039    0\n",
      "112040    0\n",
      "112041    0\n",
      "112042    0\n",
      "112043    0\n",
      "112044    0\n",
      "112045    0\n",
      "112046    0\n",
      "112047    0\n",
      "112048    0\n",
      "112049    0\n",
      "112050    0\n",
      "112051    0\n",
      "112052    0\n",
      "112053    0\n",
      "112054    0\n",
      "112055    0\n",
      "112056    0\n",
      "112057    0\n",
      "112058    0\n",
      "Name: International, dtype: int32\n"
     ]
    }
   ],
   "source": [
    "print(OnTime['origin_country'], OnTime['destination_country'], OnTime['International'])"
   ]
  },
  {
   "cell_type": "markdown",
   "metadata": {},
   "source": [
    "We also need to look at the FA change indicator.  It looked suspect in previous work."
   ]
  },
  {
   "cell_type": "code",
   "execution_count": 39,
   "metadata": {
    "collapsed": false
   },
   "outputs": [
    {
     "data": {
      "image/png": "[encoded data removed]",
      "text/plain": [
       "<matplotlib.figure.Figure at 0x21c50db1ef0>"
      ]
     },
     "metadata": {},
     "output_type": "display_data"
    }
   ],
   "source": [
    "#OnTime['flt_att_chg'] = np.where(OnTime['flt_attendant_change_ind'] == 'Y', 1, 0)\n",
    "#print(OnTime[['flt_att_chg','flt_attendant_change_ind']].tail(100))\n",
    "ax = sns.countplot(y =  OnTime['flt_attendant_change_ind'])\n",
    "\n",
    "plt.show()\n"
   ]
  },
  {
   "cell_type": "code",
   "execution_count": 40,
   "metadata": {
    "collapsed": true
   },
   "outputs": [],
   "source": [
    "# we need to drop FA change because it is nearly all Y, which isn't possible.\n",
    "del OnTime['flt_attendant_change_ind']"
   ]
  },
  {
   "cell_type": "code",
   "execution_count": 41,
   "metadata": {
    "collapsed": false
   },
   "outputs": [
    {
     "name": "stdout",
     "output_type": "stream",
     "text": [
      "   Originator_ind  route_sequence_number\n",
      "0               0                    3.0\n",
      "1               0                    2.0\n",
      "2               0                    7.0\n",
      "3               0                    3.0\n",
      "4               0                    6.0\n",
      "5               1                    1.0\n",
      "6               0                    7.0\n",
      "7               0                    2.0\n",
      "8               0                    5.0\n",
      "9               0                    2.0\n"
     ]
    }
   ],
   "source": [
    "# add an originator indicator\n",
    "\n",
    "OnTime['Originator_ind'] = np.where(OnTime['route_sequence_number']== 1.0,1,0)\n",
    "\n",
    "print(OnTime[['Originator_ind','route_sequence_number']].head(10))"
   ]
  },
  {
   "cell_type": "code",
   "execution_count": 42,
   "metadata": {
    "collapsed": false
   },
   "outputs": [
    {
     "name": "stdout",
     "output_type": "stream",
     "text": [
      "   D_zero_ind  push_delay_mins\n",
      "0           0                6\n",
      "1           1                0\n",
      "2           0                9\n",
      "3           0                2\n",
      "4           1                0\n",
      "5           0               23\n",
      "6           1                0\n",
      "7           1                0\n",
      "8           1                0\n",
      "9           1                0\n"
     ]
    }
   ],
   "source": [
    "# add D0 for other classification problem\n",
    "\n",
    "OnTime['D_zero_ind'] = np.where(OnTime['push_delay_mins']== 0,1,0)\n",
    "\n",
    "print(OnTime[['D_zero_ind','push_delay_mins']].head(10))"
   ]
  },
  {
   "cell_type": "code",
   "execution_count": 43,
   "metadata": {
    "collapsed": false
   },
   "outputs": [
    {
     "data": {
      "image/png": "[encoded data removed]",
      "text/plain": [
       "<matplotlib.figure.Figure at 0x21c50f78470>"
      ]
     },
     "metadata": {},
     "output_type": "display_data"
    }
   ],
   "source": [
    "#show classes, we need to ensure there isn't a major class imbalance\n",
    "ax = sns.countplot(y =  OnTime['OnTimeIndicator'])\n",
    "\n",
    "plt.show()"
   ]
  },
  {
   "cell_type": "markdown",
   "metadata": {},
   "source": [
    "This is actually probably a big enough class imbalance that we need to address it and possibly boost for late flights.\n",
    "\n",
    "However, we do know that we are trying to predict something that happens 20% of the time or so.  We also know that there is a higher cost to predicting false positives.  The operation at the airline will ultimately plan staffing, gating, and shift schedules based on both the schedule and our prediction of ontime performance.  Therefore, if we predict that the airline will run ontime, and it doesnt we will potentially cost the company a great deal of money in overtime (up to 3X pay).  Therefore, it probably makes sense to look at both accuracy and precision in our resultset.  We could make the argument for recall.  However, it is much more expensive to pay an entire staff triple-time than to have a few extra folks on hand.  While no scenario is ideal, the first is the most costly.  "
   ]
  },
  {
   "cell_type": "code",
   "execution_count": 21,
   "metadata": {
    "collapsed": false
   },
   "outputs": [
    {
     "data": {
      "text/plain": [
       "array(['origin', 'origin_latitude', 'origin_longitude', 'destination',\n",
       "       'destination_latitude', 'destination_longitude', 'origin_country',\n",
       "       'destination_country', 'flight_number', 'miles_flown',\n",
       "       'departure_date', 'day_of_week', 'flight_type_code',\n",
       "       'flight_route_number', 'route_sequence_number', 'aircraft_type_cde',\n",
       "       'flight_cancellation_code', 'alternate_airport', 'push_delay_mins',\n",
       "       'delay_type', 'delay_id', 'aircraft_seat_count',\n",
       "       'aircraft_tow_weight', 'aircraft_landing_weight', 'fuel_loaded',\n",
       "       'central_scheduled_dep_time', 'local_scheduled_dep_time',\n",
       "       'central_scheduled_arr_time', 'local_schedulced_arr_time',\n",
       "       'total_passengers', 'local_passengers', 'connecting_passengers',\n",
       "       'thru_passengers', 'unaccompanied_minors',\n",
       "       'total_nonrev_passengers', 'dot_security_delay_time',\n",
       "       'NAS_delay_minutes', 'weather_delay_minutes', 'dot_delay_mins',\n",
       "       'total_bags', 'bag_weight_total', 'freight_weight_total',\n",
       "       'scheduled_turn_minutes', 'itins_in', 'itins_out', 'itins_on_leg',\n",
       "       'OnTimeIndicator', 'TimeBucket', 'International', 'Originator_ind',\n",
       "       'D_zero_ind'], dtype=object)"
      ]
     },
     "execution_count": 21,
     "metadata": {},
     "output_type": "execute_result"
    }
   ],
   "source": [
    "OnTime.columns.values"
   ]
  },
  {
   "cell_type": "code",
   "execution_count": 22,
   "metadata": {
    "collapsed": false
   },
   "outputs": [],
   "source": [
    "#One Hot Encode any categorical variables\n",
    "#Definitely origin and destination variables\n",
    "#Aircraft Code\n",
    "\n",
    "##### NOTE ####\n",
    "\n",
    "# I am thinking that origin and destination may not need to be one-hot coded, because we have the lat/long, using a \n",
    "# standardized version of these should be enough and would remove some of hte sparsity from the dataset.\n",
    "# Also, I would recommend that we take the delay code information out of the model since we will not know what these values\n",
    "# are ahead of the forecast time- These are added after the fact so we would have to build a forecast of these values\n",
    "\n",
    "cols_to_encode = ['origin', 'destination', 'aircraft_type_cde', 'day_of_week', 'TimeBucket', \n",
    "                  'flight_type_code', 'International', 'delay_type', 'delay_id']\n",
    "OnTime = pd.get_dummies(OnTime,columns = cols_to_encode)"
   ]
  },
  {
   "cell_type": "code",
   "execution_count": 44,
   "metadata": {
    "collapsed": false
   },
   "outputs": [],
   "source": [
    "####################################\n",
    "###### ALTERNATE ONE HOT CODE ######\n",
    "####################################\n",
    "\n",
    "cols_to_encode = ['aircraft_type_cde', 'day_of_week', 'TimeBucket', \n",
    "                'International']\n",
    "OnTime = pd.get_dummies(OnTime,columns = cols_to_encode)\n"
   ]
  },
  {
   "cell_type": "code",
   "execution_count": 45,
   "metadata": {
    "collapsed": false,
    "scrolled": false
   },
   "outputs": [
    {
     "data": {
      "text/html": [
       "<div>\n",
       "<table border=\"1\" class=\"dataframe\">\n",
       "  <thead>\n",
       "    <tr style=\"text-align: right;\">\n",
       "      <th></th>\n",
       "      <th>origin_latitude</th>\n",
       "      <th>origin_longitude</th>\n",
       "      <th>destination_latitude</th>\n",
       "      <th>destination_longitude</th>\n",
       "      <th>flight_number</th>\n",
       "      <th>miles_flown</th>\n",
       "      <th>flight_route_number</th>\n",
       "      <th>route_sequence_number</th>\n",
       "      <th>push_delay_mins</th>\n",
       "      <th>aircraft_seat_count</th>\n",
       "      <th>...</th>\n",
       "      <th>day_of_week_6</th>\n",
       "      <th>day_of_week_7</th>\n",
       "      <th>TimeBucket_deep_shoulder_am</th>\n",
       "      <th>TimeBucket_shoulder_am</th>\n",
       "      <th>TimeBucket_am_meat</th>\n",
       "      <th>TimeBucket_pm_meat</th>\n",
       "      <th>TimeBucket_shoulder_pm</th>\n",
       "      <th>TimeBucket_deep_shoulder_pm</th>\n",
       "      <th>International_0</th>\n",
       "      <th>International_1</th>\n",
       "    </tr>\n",
       "  </thead>\n",
       "  <tbody>\n",
       "    <tr>\n",
       "      <th>count</th>\n",
       "      <td>111055.000000</td>\n",
       "      <td>111055.000000</td>\n",
       "      <td>111055.000000</td>\n",
       "      <td>111055.000000</td>\n",
       "      <td>111055.000000</td>\n",
       "      <td>111055.000000</td>\n",
       "      <td>111055.000000</td>\n",
       "      <td>111055.000000</td>\n",
       "      <td>111055.000000</td>\n",
       "      <td>111055.000000</td>\n",
       "      <td>...</td>\n",
       "      <td>111055.000000</td>\n",
       "      <td>111055.000000</td>\n",
       "      <td>111055.000000</td>\n",
       "      <td>111055.000000</td>\n",
       "      <td>111055.000000</td>\n",
       "      <td>111055.000000</td>\n",
       "      <td>111055.000000</td>\n",
       "      <td>111055.000000</td>\n",
       "      <td>111055.000000</td>\n",
       "      <td>111055.000000</td>\n",
       "    </tr>\n",
       "    <tr>\n",
       "      <th>mean</th>\n",
       "      <td>36.000711</td>\n",
       "      <td>-97.204804</td>\n",
       "      <td>36.003330</td>\n",
       "      <td>-97.208694</td>\n",
       "      <td>2135.389123</td>\n",
       "      <td>760.316618</td>\n",
       "      <td>312.861069</td>\n",
       "      <td>3.527720</td>\n",
       "      <td>3.829841</td>\n",
       "      <td>146.832687</td>\n",
       "      <td>...</td>\n",
       "      <td>0.105317</td>\n",
       "      <td>0.150547</td>\n",
       "      <td>0.039908</td>\n",
       "      <td>0.068858</td>\n",
       "      <td>0.304804</td>\n",
       "      <td>0.477871</td>\n",
       "      <td>0.092207</td>\n",
       "      <td>0.016352</td>\n",
       "      <td>0.980289</td>\n",
       "      <td>0.019711</td>\n",
       "    </tr>\n",
       "    <tr>\n",
       "      <th>std</th>\n",
       "      <td>5.055974</td>\n",
       "      <td>16.076966</td>\n",
       "      <td>5.059994</td>\n",
       "      <td>16.090650</td>\n",
       "      <td>1365.850855</td>\n",
       "      <td>464.998176</td>\n",
       "      <td>181.796940</td>\n",
       "      <td>1.931696</td>\n",
       "      <td>13.977466</td>\n",
       "      <td>11.447985</td>\n",
       "      <td>...</td>\n",
       "      <td>0.306963</td>\n",
       "      <td>0.357608</td>\n",
       "      <td>0.195744</td>\n",
       "      <td>0.253213</td>\n",
       "      <td>0.460326</td>\n",
       "      <td>0.499512</td>\n",
       "      <td>0.289319</td>\n",
       "      <td>0.126827</td>\n",
       "      <td>0.139006</td>\n",
       "      <td>0.139006</td>\n",
       "    </tr>\n",
       "    <tr>\n",
       "      <th>min</th>\n",
       "      <td>9.992500</td>\n",
       "      <td>-122.595000</td>\n",
       "      <td>9.992500</td>\n",
       "      <td>-122.595000</td>\n",
       "      <td>1.000000</td>\n",
       "      <td>137.000000</td>\n",
       "      <td>1.000000</td>\n",
       "      <td>1.000000</td>\n",
       "      <td>0.000000</td>\n",
       "      <td>122.000000</td>\n",
       "      <td>...</td>\n",
       "      <td>0.000000</td>\n",
       "      <td>0.000000</td>\n",
       "      <td>0.000000</td>\n",
       "      <td>0.000000</td>\n",
       "      <td>0.000000</td>\n",
       "      <td>0.000000</td>\n",
       "      <td>0.000000</td>\n",
       "      <td>0.000000</td>\n",
       "      <td>0.000000</td>\n",
       "      <td>0.000000</td>\n",
       "    </tr>\n",
       "    <tr>\n",
       "      <th>25%</th>\n",
       "      <td>32.846940</td>\n",
       "      <td>-115.158890</td>\n",
       "      <td>32.846940</td>\n",
       "      <td>-115.158890</td>\n",
       "      <td>939.000000</td>\n",
       "      <td>377.000000</td>\n",
       "      <td>158.000000</td>\n",
       "      <td>2.000000</td>\n",
       "      <td>0.000000</td>\n",
       "      <td>143.000000</td>\n",
       "      <td>...</td>\n",
       "      <td>0.000000</td>\n",
       "      <td>0.000000</td>\n",
       "      <td>0.000000</td>\n",
       "      <td>0.000000</td>\n",
       "      <td>0.000000</td>\n",
       "      <td>0.000000</td>\n",
       "      <td>0.000000</td>\n",
       "      <td>0.000000</td>\n",
       "      <td>1.000000</td>\n",
       "      <td>0.000000</td>\n",
       "    </tr>\n",
       "    <tr>\n",
       "      <th>50%</th>\n",
       "      <td>36.079720</td>\n",
       "      <td>-95.278610</td>\n",
       "      <td>36.079720</td>\n",
       "      <td>-95.278610</td>\n",
       "      <td>2110.000000</td>\n",
       "      <td>650.000000</td>\n",
       "      <td>316.000000</td>\n",
       "      <td>3.000000</td>\n",
       "      <td>0.000000</td>\n",
       "      <td>143.000000</td>\n",
       "      <td>...</td>\n",
       "      <td>0.000000</td>\n",
       "      <td>0.000000</td>\n",
       "      <td>0.000000</td>\n",
       "      <td>0.000000</td>\n",
       "      <td>0.000000</td>\n",
       "      <td>0.000000</td>\n",
       "      <td>0.000000</td>\n",
       "      <td>0.000000</td>\n",
       "      <td>1.000000</td>\n",
       "      <td>0.000000</td>\n",
       "    </tr>\n",
       "    <tr>\n",
       "      <th>75%</th>\n",
       "      <td>39.858330</td>\n",
       "      <td>-83.344440</td>\n",
       "      <td>39.858330</td>\n",
       "      <td>-83.344440</td>\n",
       "      <td>3118.000000</td>\n",
       "      <td>997.000000</td>\n",
       "      <td>464.000000</td>\n",
       "      <td>5.000000</td>\n",
       "      <td>2.000000</td>\n",
       "      <td>143.000000</td>\n",
       "      <td>...</td>\n",
       "      <td>0.000000</td>\n",
       "      <td>0.000000</td>\n",
       "      <td>0.000000</td>\n",
       "      <td>0.000000</td>\n",
       "      <td>1.000000</td>\n",
       "      <td>1.000000</td>\n",
       "      <td>0.000000</td>\n",
       "      <td>0.000000</td>\n",
       "      <td>1.000000</td>\n",
       "      <td>0.000000</td>\n",
       "    </tr>\n",
       "    <tr>\n",
       "      <th>max</th>\n",
       "      <td>47.620000</td>\n",
       "      <td>-66.002220</td>\n",
       "      <td>47.620000</td>\n",
       "      <td>-66.002220</td>\n",
       "      <td>6980.000000</td>\n",
       "      <td>2627.000000</td>\n",
       "      <td>647.000000</td>\n",
       "      <td>10.000000</td>\n",
       "      <td>779.000000</td>\n",
       "      <td>175.000000</td>\n",
       "      <td>...</td>\n",
       "      <td>1.000000</td>\n",
       "      <td>1.000000</td>\n",
       "      <td>1.000000</td>\n",
       "      <td>1.000000</td>\n",
       "      <td>1.000000</td>\n",
       "      <td>1.000000</td>\n",
       "      <td>1.000000</td>\n",
       "      <td>1.000000</td>\n",
       "      <td>1.000000</td>\n",
       "      <td>1.000000</td>\n",
       "    </tr>\n",
       "  </tbody>\n",
       "</table>\n",
       "<p>8 rows × 57 columns</p>\n",
       "</div>"
      ],
      "text/plain": [
       "       origin_latitude  origin_longitude  destination_latitude  \\\n",
       "count    111055.000000     111055.000000         111055.000000   \n",
       "mean         36.000711        -97.204804             36.003330   \n",
       "std           5.055974         16.076966              5.059994   \n",
       "min           9.992500       -122.595000              9.992500   \n",
       "25%          32.846940       -115.158890             32.846940   \n",
       "50%          36.079720        -95.278610             36.079720   \n",
       "75%          39.858330        -83.344440             39.858330   \n",
       "max          47.620000        -66.002220             47.620000   \n",
       "\n",
       "       destination_longitude  flight_number    miles_flown  \\\n",
       "count          111055.000000  111055.000000  111055.000000   \n",
       "mean              -97.208694    2135.389123     760.316618   \n",
       "std                16.090650    1365.850855     464.998176   \n",
       "min              -122.595000       1.000000     137.000000   \n",
       "25%              -115.158890     939.000000     377.000000   \n",
       "50%               -95.278610    2110.000000     650.000000   \n",
       "75%               -83.344440    3118.000000     997.000000   \n",
       "max               -66.002220    6980.000000    2627.000000   \n",
       "\n",
       "       flight_route_number  route_sequence_number  push_delay_mins  \\\n",
       "count        111055.000000          111055.000000    111055.000000   \n",
       "mean            312.861069               3.527720         3.829841   \n",
       "std             181.796940               1.931696        13.977466   \n",
       "min               1.000000               1.000000         0.000000   \n",
       "25%             158.000000               2.000000         0.000000   \n",
       "50%             316.000000               3.000000         0.000000   \n",
       "75%             464.000000               5.000000         2.000000   \n",
       "max             647.000000              10.000000       779.000000   \n",
       "\n",
       "       aircraft_seat_count       ...         day_of_week_6  day_of_week_7  \\\n",
       "count        111055.000000       ...         111055.000000  111055.000000   \n",
       "mean            146.832687       ...              0.105317       0.150547   \n",
       "std              11.447985       ...              0.306963       0.357608   \n",
       "min             122.000000       ...              0.000000       0.000000   \n",
       "25%             143.000000       ...              0.000000       0.000000   \n",
       "50%             143.000000       ...              0.000000       0.000000   \n",
       "75%             143.000000       ...              0.000000       0.000000   \n",
       "max             175.000000       ...              1.000000       1.000000   \n",
       "\n",
       "       TimeBucket_deep_shoulder_am  TimeBucket_shoulder_am  \\\n",
       "count                111055.000000           111055.000000   \n",
       "mean                      0.039908                0.068858   \n",
       "std                       0.195744                0.253213   \n",
       "min                       0.000000                0.000000   \n",
       "25%                       0.000000                0.000000   \n",
       "50%                       0.000000                0.000000   \n",
       "75%                       0.000000                0.000000   \n",
       "max                       1.000000                1.000000   \n",
       "\n",
       "       TimeBucket_am_meat  TimeBucket_pm_meat  TimeBucket_shoulder_pm  \\\n",
       "count       111055.000000       111055.000000           111055.000000   \n",
       "mean             0.304804            0.477871                0.092207   \n",
       "std              0.460326            0.499512                0.289319   \n",
       "min              0.000000            0.000000                0.000000   \n",
       "25%              0.000000            0.000000                0.000000   \n",
       "50%              0.000000            0.000000                0.000000   \n",
       "75%              1.000000            1.000000                0.000000   \n",
       "max              1.000000            1.000000                1.000000   \n",
       "\n",
       "       TimeBucket_deep_shoulder_pm  International_0  International_1  \n",
       "count                111055.000000    111055.000000    111055.000000  \n",
       "mean                      0.016352         0.980289         0.019711  \n",
       "std                       0.126827         0.139006         0.139006  \n",
       "min                       0.000000         0.000000         0.000000  \n",
       "25%                       0.000000         1.000000         0.000000  \n",
       "50%                       0.000000         1.000000         0.000000  \n",
       "75%                       0.000000         1.000000         0.000000  \n",
       "max                       1.000000         1.000000         1.000000  \n",
       "\n",
       "[8 rows x 57 columns]"
      ]
     },
     "execution_count": 45,
     "metadata": {},
     "output_type": "execute_result"
    }
   ],
   "source": [
    "OnTime.describe()"
   ]
  },
  {
   "cell_type": "markdown",
   "metadata": {},
   "source": [
    "When we look at our new one-hot coded values, they make sense.  We expect between 20% - 23% of all flights to be in the shoulder periods and that is exactly what we have here.  We also see that about 2% of the flights are international flights.  This is reflective of the 'mystery' airline's network structure.  we also see an accurate representation in the day of week buckets.  Therefore the data looks pretty clean now."
   ]
  },
  {
   "cell_type": "markdown",
   "metadata": {},
   "source": [
    "# Variable selection for Modeling"
   ]
  },
  {
   "cell_type": "markdown",
   "metadata": {},
   "source": [
    "We know that there are some fields that should not be included in the model for several reasons:\n",
    "    1.) They have no statistical bearing\n",
    "    2.) They are too hard to model\n",
    "    3.) Contextually, we would not have this information available to us at the time of forecasting (pre-flight)\n",
    "\n",
    "With this in mind we will select those variables accordingly.\n",
    "\n",
    "**Selected Variables**:\n",
    "    \n",
    "    * origin lat/long\n",
    "    2.) destination lat/long\n",
    "    3.) miles_flown\n",
    "    4.) one hot encoded day of week\n",
    "    5.) route_sequence_number\n",
    "    6.) originator_indicator\n",
    "    7.) one hot encoded aircraft type\n",
    "    8.) push delay minutes - remember this is different than DOT delay mins\n",
    "    9.) aircraft_seat_count\n",
    "    10.) aircraft tow weight\n",
    "    11.) fuel loaded\n",
    "    12.) local scheduled departure time\n",
    "    13.) total passengers\n",
    "    14.) local passengers\n",
    "    15.) connecting passengers\n",
    "    16.) thru passengers\n",
    "    17.) unaccompanied minors\n",
    "    18.) total nonrev passengers\n",
    "    19.) total bags\n",
    "    20.) bag weight total\n",
    "    21.) freight weight total\n",
    "    22.) scheduled turn minutes\n",
    "    23.) itins in\n",
    "    24.) itins out\n",
    "    25.) itins on leg\n",
    " \n",
    "    \n"
   ]
  },
  {
   "cell_type": "code",
   "execution_count": 46,
   "metadata": {
    "collapsed": false
   },
   "outputs": [
    {
     "data": {
      "text/plain": [
       "array(['origin_latitude', 'origin_longitude', 'destination_latitude',\n",
       "       'destination_longitude', 'miles_flown', 'route_sequence_number',\n",
       "       'push_delay_mins', 'aircraft_seat_count', 'fuel_loaded',\n",
       "       'local_scheduled_dep_time', 'total_passengers', 'local_passengers',\n",
       "       'connecting_passengers', 'thru_passengers', 'unaccompanied_minors',\n",
       "       'total_nonrev_passengers', 'total_bags', 'bag_weight_total',\n",
       "       'freight_weight_total', 'scheduled_turn_minutes', 'itins_in',\n",
       "       'itins_out', 'itins_on_leg', 'Originator_ind',\n",
       "       'aircraft_type_cde_2', 'aircraft_type_cde_3', 'aircraft_type_cde_5',\n",
       "       'aircraft_type_cde_6', 'aircraft_type_cde_8', 'day_of_week_1',\n",
       "       'day_of_week_2', 'day_of_week_3', 'day_of_week_4', 'day_of_week_5',\n",
       "       'day_of_week_6', 'day_of_week_7', 'TimeBucket_deep_shoulder_am',\n",
       "       'TimeBucket_shoulder_am', 'TimeBucket_am_meat',\n",
       "       'TimeBucket_pm_meat', 'TimeBucket_shoulder_pm',\n",
       "       'TimeBucket_deep_shoulder_pm', 'International_0', 'International_1'], dtype=object)"
      ]
     },
     "execution_count": 46,
     "metadata": {},
     "output_type": "execute_result"
    }
   ],
   "source": [
    "#Y set: \n",
    "Y=np.array(OnTime['OnTimeIndicator'])\n",
    "\n",
    "\n",
    "#columnstotake=np.r_[1, 2, 3, 4, 8, 14, 15, 16, 17, 18, 25:30, 31:40, 41:285]\n",
    "#columnstotake=np.r_[1, 2, 3, 4, 8, 14, 15, 16, 17, 18, 25:30]\n",
    "\n",
    "columnstotake = np.r_[2, 3, 5, 6, 10, 14, 17, 20, 23, 25, 28:34, 38:45, 46, 48:68]\n",
    "columnstotake = columnstotake - 1\n",
    "\n",
    "#X Set:\n",
    "#X=OnTime.ix[:, [-'OnTimeIndicator']]\n",
    "X=OnTime.ix[:,columnstotake]\n",
    "X.columns.values"
   ]
  },
  {
   "cell_type": "code",
   "execution_count": 47,
   "metadata": {
    "collapsed": false
   },
   "outputs": [],
   "source": [
    "# OnTime.dtypes - was just here for audit"
   ]
  },
  {
   "cell_type": "code",
   "execution_count": 145,
   "metadata": {
    "collapsed": false
   },
   "outputs": [
    {
     "data": {
      "text/plain": [
       "array(['origin_latitude', 'origin_longitude', 'destination_latitude',\n",
       "       'destination_longitude', 'miles_flown', 'push_delay_mins',\n",
       "       'aircraft_seat_count', 'aircraft_tow_weight',\n",
       "       'aircraft_landing_weight', 'fuel_loaded', 'connecting_passengers',\n",
       "       'thru_passengers', 'unaccompanied_minors',\n",
       "       'total_nonrev_passengers', 'dot_security_delay_time',\n",
       "       'weather_delay_minutes', 'dot_delay_mins', 'total_bags',\n",
       "       'bag_weight_total', 'freight_weight_total',\n",
       "       'scheduled_turn_minutes', 'itins_in', 'itins_out', 'itins_on_leg',\n",
       "       'origin_ABQ', 'origin_ALB', 'origin_AMA', 'origin_ATL',\n",
       "       'origin_AUA', 'origin_AUS', 'origin_BDL', 'origin_BHM',\n",
       "       'origin_BNA', 'origin_BOI', 'origin_BOS', 'origin_BUF',\n",
       "       'origin_BUR', 'origin_BWI', 'origin_BZE', 'origin_CAK',\n",
       "       'origin_CHS', 'origin_CLE', 'origin_CLT', 'origin_CMH',\n",
       "       'origin_CRP', 'origin_CUN', 'origin_DAL', 'origin_DAY',\n",
       "       'origin_DCA', 'origin_DEN', 'origin_DSM', 'origin_DTW',\n",
       "       'origin_ECP', 'origin_ELP', 'origin_EWR', 'origin_FLL',\n",
       "       'origin_FNT', 'origin_GEG', 'origin_GRR', 'origin_GSP',\n",
       "       'origin_HOU', 'origin_HRL', 'origin_IAD', 'origin_ICT',\n",
       "       'origin_IND', 'origin_ISP', 'origin_JAX', 'origin_LAS',\n",
       "       'origin_LAX', 'origin_LBB', 'origin_LGA', 'origin_LIR',\n",
       "       'origin_LIT', 'origin_MAF', 'origin_MBJ', 'origin_MCI',\n",
       "       'origin_MCO', 'origin_MDW', 'origin_MEM', 'origin_MEX',\n",
       "       'origin_MHT', 'origin_MKE', 'origin_MSP', 'origin_MSY',\n",
       "       'origin_NAS', 'origin_OAK', 'origin_OKC', 'origin_OMA',\n",
       "       'origin_ONT', 'origin_ORF', 'origin_PBI', 'origin_PDX',\n",
       "       'origin_PHL', 'origin_PHX', 'origin_PIT', 'origin_PNS',\n",
       "       'origin_PUJ', 'origin_PVD', 'origin_PVR', 'origin_PWM',\n",
       "       'origin_RDU', 'origin_RIC', 'origin_RNO', 'origin_ROC',\n",
       "       'origin_RSW', 'origin_SAN', 'origin_SAT', 'origin_SDF',\n",
       "       'origin_SEA', 'origin_SFO', 'origin_SJC', 'origin_SJD',\n",
       "       'origin_SJO', 'origin_SJU', 'origin_SLC', 'origin_SMF',\n",
       "       'origin_SNA', 'origin_STL', 'origin_TPA', 'origin_TUL',\n",
       "       'origin_TUS', 'destination_ABQ', 'destination_ALB',\n",
       "       'destination_AMA', 'destination_ATL', 'destination_AUA',\n",
       "       'destination_AUS', 'destination_BDL', 'destination_BHM',\n",
       "       'destination_BNA', 'destination_BOI', 'destination_BOS',\n",
       "       'destination_BUF', 'destination_BUR', 'destination_BWI',\n",
       "       'destination_BZE', 'destination_CAK', 'destination_CHS',\n",
       "       'destination_CLE', 'destination_CLT', 'destination_CMH',\n",
       "       'destination_CRP', 'destination_CUN', 'destination_DAL',\n",
       "       'destination_DAY', 'destination_DCA', 'destination_DEN',\n",
       "       'destination_DSM', 'destination_DTW', 'destination_ECP',\n",
       "       'destination_ELP', 'destination_EWR', 'destination_FLL',\n",
       "       'destination_FNT', 'destination_GEG', 'destination_GRR',\n",
       "       'destination_GSP', 'destination_HOU', 'destination_HRL',\n",
       "       'destination_IAD', 'destination_ICT', 'destination_IND',\n",
       "       'destination_ISP', 'destination_JAX', 'destination_LAS',\n",
       "       'destination_LAX', 'destination_LBB', 'destination_LGA',\n",
       "       'destination_LIR', 'destination_LIT', 'destination_MAF',\n",
       "       'destination_MBJ', 'destination_MCI', 'destination_MCO',\n",
       "       'destination_MDW', 'destination_MEM', 'destination_MEX',\n",
       "       'destination_MHT', 'destination_MKE', 'destination_MSP',\n",
       "       'destination_MSY', 'destination_NAS', 'destination_OAK',\n",
       "       'destination_OKC', 'destination_OMA', 'destination_ONT',\n",
       "       'destination_ORF', 'destination_PBI', 'destination_PDX',\n",
       "       'destination_PHL', 'destination_PHX', 'destination_PIT',\n",
       "       'destination_PNS', 'destination_PUJ', 'destination_PVD',\n",
       "       'destination_PVR', 'destination_PWM', 'destination_RDU',\n",
       "       'destination_RIC', 'destination_RNO', 'destination_ROC',\n",
       "       'destination_RSW', 'destination_SAN', 'destination_SAT',\n",
       "       'destination_SDF', 'destination_SEA', 'destination_SFO',\n",
       "       'destination_SJC', 'destination_SJD', 'destination_SJO',\n",
       "       'destination_SJU', 'destination_SLC', 'destination_SMF',\n",
       "       'destination_SNA', 'destination_STL', 'destination_TPA',\n",
       "       'destination_TUL', 'destination_TUS', 'aircraft_type_cde_2',\n",
       "       'aircraft_type_cde_3', 'aircraft_type_cde_5', 'aircraft_type_cde_6',\n",
       "       'aircraft_type_cde_8', 'day_of_week_1', 'day_of_week_2',\n",
       "       'day_of_week_3', 'day_of_week_4', 'day_of_week_5', 'day_of_week_6',\n",
       "       'day_of_week_7', 'TimeBucket_PreDawn', 'TimeBucket_AMRush',\n",
       "       'TimeBucket_MidDay', 'TimeBucket_PMRush', 'TimeBucket_LateNight',\n",
       "       'flight_type_code_ ', 'flight_type_code_S',\n",
       "       'flt_attendant_change_ind_N', 'flt_attendant_change_ind_Y',\n",
       "       'International_0', 'International_1', 'delay_type_  ',\n",
       "       'delay_type_DP', 'delay_type_EA', 'delay_type_FO', 'delay_type_HD',\n",
       "       'delay_type_IF', 'delay_type_MX', 'delay_type_OP', 'delay_type_PV',\n",
       "       'delay_type_SD', 'delay_id_  ', 'delay_id_1', 'delay_id_10',\n",
       "       'delay_id_11', 'delay_id_12', 'delay_id_13', 'delay_id_14',\n",
       "       'delay_id_15', 'delay_id_16', 'delay_id_2', 'delay_id_3',\n",
       "       'delay_id_4', 'delay_id_5', 'delay_id_6', 'delay_id_7',\n",
       "       'delay_id_8', 'delay_id_9'], dtype=object)"
      ]
     },
     "execution_count": 145,
     "metadata": {},
     "output_type": "execute_result"
    }
   ],
   "source": [
    "####################################\n",
    "######## ORIGINAL CODING ###########\n",
    "####################################\n",
    "\n",
    "#Define our X and Y Sets\n",
    "\n",
    "#Y set: \n",
    "Y=np.array(OnTime['OnTimeIndicator'])\n",
    "\n",
    "\n",
    "\n",
    "columnstotake=np.r_[1, 2, 3, 4, 8, 14, 15, 16, 17, 18, 25:30, 31:40, 41:285]\n",
    "#columnstotake=np.r_[1, 2, 3, 4, 8, 14, 15, 16, 17, 18, 25:30]\n",
    "\n",
    "columnstotake = columnstotake - 1\n",
    "\n",
    "#X Set:\n",
    "#X=OnTime.ix[:, [-'OnTimeIndicator']]\n",
    "X=OnTime.ix[:,columnstotake]\n",
    "X.columns.values"
   ]
  },
  {
   "cell_type": "markdown",
   "metadata": {},
   "source": [
    "# Modeling - Classification Task 1 - DOT Ontime Performance"
   ]
  },
  {
   "cell_type": "markdown",
   "metadata": {},
   "source": [
    "### Logistic Regression"
   ]
  },
  {
   "cell_type": "code",
   "execution_count": 84,
   "metadata": {
    "collapsed": false
   },
   "outputs": [
    {
     "name": "stdout",
     "output_type": "stream",
     "text": [
      "-------------------------------\n",
      "Logistic Regression Output\n",
      "0.864823735987\n",
      "[[ 6840 13000]\n",
      " [ 2012 89203]]\n",
      "Precision:  0.772706732942 Recall:  0.344758064516 F-measure:  0.476787954831\n",
      "Wall time: 14.5 s\n"
     ]
    }
   ],
   "source": [
    "%%time\n",
    "# first attempt with defaults\n",
    "\n",
    "from sklearn.linear_model import LogisticRegression\n",
    "from sklearn.model_selection import ShuffleSplit\n",
    "\n",
    "yhat = np.zeros(Y.shape) # we will fill this with predictions\n",
    "\n",
    "scl = StandardScaler() # import the standardscaler\n",
    "XScl = scl.fit_transform(X) # scale the x-variables\n",
    "\n",
    "cv = StratifiedKFold(n_splits=10) \n",
    "\n",
    "clf = LogisticRegression(penalty='l2', C=1.0, class_weight=None)\n",
    "\n",
    "for train, test in cv.split(XScl,Y):\n",
    "    clf.fit(XScl[train],Y[train])\n",
    "    yhat[test] = clf.predict(XScl[test])\n",
    "\n",
    "total_accuracy_log_reg_1 = mt.accuracy_score(Y,yhat)\n",
    "conf_matrix_1 = mt.confusion_matrix(Y,yhat)\n",
    "\n",
    "precision = conf_matrix_1[0,0] / (conf_matrix_1[0,0]+ conf_matrix_1[1,0])\n",
    "recall = conf_matrix_1[0,0] / (conf_matrix_1[0,0]+ conf_matrix_1[0,1])\n",
    "f_measure = (2* conf_matrix_1[0,0]) / ((2* conf_matrix_1[0,0])+ conf_matrix_1[0,1] + conf_matrix_1[1,0])\n",
    "\n",
    "print('-------------------------------')\n",
    "print('Logistic Regression Output')\n",
    "print( total_accuracy_log_reg_1)\n",
    "print(conf_matrix_1)\n",
    "print('Precision: ',precision, 'Recall: ',recall, 'F-measure: ', f_measure)\n"
   ]
  },
  {
   "cell_type": "code",
   "execution_count": 82,
   "metadata": {
    "collapsed": false
   },
   "outputs": [
    {
     "name": "stdout",
     "output_type": "stream",
     "text": [
      "the best parameters solving for accuracy  are:  {'C': 1}\n",
      "the best parameters solving for precision  are:  {'C': 1}\n",
      "the best parameters solving for recall  are:  {'C': 1}\n"
     ]
    }
   ],
   "source": [
    "%%time\n",
    "# using a gridsearch on logistic regression to solve for 'C' with accuracy as a target measure\n",
    "\n",
    "# source: http://scikit-learn.org/stable/auto_examples/model_selection/grid_search_digits.html\n",
    "\n",
    "from sklearn.model_selection import GridSearchCV\n",
    "\n",
    "yhat = np.zeros(Y.shape)\n",
    "\n",
    "cv = 10 # the model does stratified k-fold by default\n",
    "\n",
    "tuned_parameters = [{'C': [0.5, 1, 10, 100, 1000]}]\n",
    "\n",
    "scores = ['accuracy','precision','recall',]\n",
    "                    \n",
    "for score in scores:\n",
    "    clf = GridSearchCV(LogisticRegression(penalty='l2', C=0.5, class_weight=None), param_grid = tuned_parameters, cv= cv,\n",
    "                       scoring= 'accuracy')\n",
    "    clf.fit(XScl[train],Y[train])\n",
    "    \n",
    "    print('the best parameters solving for', score,' are: ', clf.best_params_)\n",
    "\n"
   ]
  },
  {
   "cell_type": "code",
   "execution_count": 85,
   "metadata": {
    "collapsed": false
   },
   "outputs": [
    {
     "name": "stdout",
     "output_type": "stream",
     "text": [
      "-------------------------------\n",
      "Logistic Regression Output\n",
      "0.864823735987\n",
      "[[ 6840 13000]\n",
      " [ 2012 89203]]\n",
      "Precision:  0.772706732942 Recall:  0.344758064516 F-measure:  0.476787954831\n",
      "Wall time: 14.3 s\n"
     ]
    }
   ],
   "source": [
    "%%time\n",
    "\n",
    "# this model looks like the best.  Let's see which variables are most important.\n",
    "\n",
    "\n",
    "from sklearn.linear_model import LogisticRegression\n",
    "from sklearn.model_selection import ShuffleSplit\n",
    "\n",
    "yhat = np.zeros(Y.shape) # we will fill this with predictions\n",
    "\n",
    "scl = StandardScaler() # import the standardscaler\n",
    "XScl = scl.fit_transform(X) # scale the x-variables\n",
    "\n",
    "cv = StratifiedKFold(n_splits=10) \n",
    "\n",
    "clf = LogisticRegression(penalty='l2', C=1.0, class_weight=None)\n",
    "\n",
    "for train, test in cv.split(XScl,Y):\n",
    "    clf.fit(XScl[train],Y[train])\n",
    "    yhat[test] = clf.predict(XScl[test])\n",
    "\n",
    "total_accuracy_log_reg_1 = mt.accuracy_score(Y,yhat)\n",
    "conf_matrix_1 = mt.confusion_matrix(Y,yhat)\n",
    "\n",
    "precision = conf_matrix_1[0,0] / (conf_matrix_1[0,0]+ conf_matrix_1[1,0])\n",
    "recall = conf_matrix_1[0,0] / (conf_matrix_1[0,0]+ conf_matrix_1[0,1])\n",
    "f_measure = (2* conf_matrix_1[0,0]) / ((2* conf_matrix_1[0,0])+ conf_matrix_1[0,1] + conf_matrix_1[1,0])\n",
    "\n",
    "print('-------------------------------')\n",
    "print('Logistic Regression Output')\n",
    "print( total_accuracy_log_reg_1)\n",
    "print(conf_matrix_1)\n",
    "print('Precision: ',precision, 'Recall: ',recall, 'F-measure: ', f_measure)"
   ]
  },
  {
   "cell_type": "code",
   "execution_count": 122,
   "metadata": {
    "collapsed": false
   },
   "outputs": [
    {
     "data": {
      "image/png": "[encoded data removed]",
      "text/plain": [
       "<matplotlib.figure.Figure at 0x21c5136e908>"
      ]
     },
     "metadata": {},
     "output_type": "display_data"
    }
   ],
   "source": [
    "\n",
    "weights = pd.Series(clf.coef_[0], index = list([np.array(X.columns.values)]))\n",
    "\n",
    "#weights = pd.Series(clf.coef_, index = list([np.array(X.columns.values)]))\n",
    "\n",
    "ax = weights.plot(kind = 'bar')\n",
    "\n"
   ]
  },
  {
   "cell_type": "markdown",
   "metadata": {},
   "source": [
    "#### Commentary\n",
    "\n",
    "In the initial run. we were able to get 86% accuracy with the scaled variables.  That being said, we cheated a little bit by including the push delay minutes as part of the X-variables dataset.  This could be a really good forecasting methodology when we are trying to predict at the origin airport whether or not a flight will be delayed.  However, for longer term planning, this variable will not be known.  We also ran a grid search on this logistic regression solving for c and found that the default value of 1 seems to be the best parameter for regularization.  In this case, given that we have a great deal of observations, this is not all that surprising, because we would expect that we might be including more values than necessary by widening the parameter.\n",
    "\n",
    "##### Weights\n",
    "The weight interpretation is very interesting for this model. As mentioned before, we cheated a little bit by including push delays in predicting ontime performance, and we see that this is the most important variable in the dataset.  However, another very important term is the scheduled departure time.  This makes a ton of sense.  We know that OTP varies by time of day and that the mere intrinsic property of being at a certain time of day means that more things tend to go wrong and hence OTP suffers.  We also notice that whether a flight is an originator is very important.  These have a very high OTP.  The amount of turn time is also important in the model.  Also, this makes sense.  The more time you have to turn an aircraft, the more likely you are to be ontime.  It also looks like the number of connecting passgengers, while a relatively low weight, plays an important role in the model.  Additionally, the miles flown makes a huge difference in the OTP as well.  Given these results, we may remove the departure delay minutes and see if we get the same results."
   ]
  },
  {
   "cell_type": "markdown",
   "metadata": {},
   "source": [
    "# Logistic Regression 2"
   ]
  },
  {
   "cell_type": "markdown",
   "metadata": {},
   "source": [
    "In this run, we remove the telltale variable of delay minutes to see what impacts that has on the model."
   ]
  },
  {
   "cell_type": "code",
   "execution_count": 179,
   "metadata": {
    "collapsed": false
   },
   "outputs": [
    {
     "name": "stdout",
     "output_type": "stream",
     "text": [
      "the best parameters solving for accuracy  are:  {'C': 10}\n",
      "the best parameters solving for precision  are:  {'C': 10}\n",
      "the best parameters solving for recall  are:  {'C': 10}\n",
      "Wall time: 3min\n"
     ]
    }
   ],
   "source": [
    "%%time\n",
    "#reset the variables by removing delay minutes\n",
    "columnstotake = np.r_[2, 3, 5, 6, 10, 14, 20, 23, 25, 28:34, 38:45, 46, 48:68]\n",
    "columnstotake = columnstotake - 1\n",
    "\n",
    "\n",
    "\n",
    "X=OnTime.ix[:,columnstotake]\n",
    "\n",
    "\n",
    "scl = StandardScaler() # import the standardscaler\n",
    "XScl = scl.fit_transform(X) # scale the x-variables\n",
    "\n",
    "\n",
    "\n",
    "cv = 10 # the model does stratified k-fold by default\n",
    "\n",
    "tuned_parameters = [{'C': [0.5, 1, 10, 100, 1000]}]\n",
    "\n",
    "scores = ['accuracy','precision','recall']\n",
    "                    \n",
    "for score in scores:\n",
    "    clf = GridSearchCV(LogisticRegression(penalty='l2', C=0.5, class_weight=None), param_grid = tuned_parameters, cv= cv,\n",
    "                       scoring= 'accuracy')\n",
    "    clf.fit(XScl[train],Y[train])\n",
    "    \n",
    "    print('the best parameters solving for', score,' are: ', clf.best_params_)\n"
   ]
  },
  {
   "cell_type": "markdown",
   "metadata": {},
   "source": [
    "It looks like C = 10 is the best regularization to use.  We run our previous model to see what everything looks like.  This is very encouraging since we took out our heaviest weighting from the previous model."
   ]
  },
  {
   "cell_type": "code",
   "execution_count": null,
   "metadata": {
    "collapsed": false
   },
   "outputs": [],
   "source": []
  },
  {
   "cell_type": "code",
   "execution_count": 160,
   "metadata": {
    "collapsed": false
   },
   "outputs": [
    {
     "name": "stdout",
     "output_type": "stream",
     "text": [
      "-------------------------------\n",
      "Logistic Regression Output\n",
      "0.822007113592\n",
      "[[  387 19453]\n",
      " [  314 90901]]\n",
      "Precision:  0.351241587375 Recall:  0.152570564516 F-measure:  0.212734556188\n",
      "Wall time: 11.7 s\n"
     ]
    }
   ],
   "source": [
    "%%time\n",
    "\n",
    "scl = StandardScaler() # import the standardscaler\n",
    "XScl = scl.fit_transform(X) # scale the x-variables\n",
    "\n",
    "yhat = np.zeros(Y.shape)\n",
    "\n",
    "cv = StratifiedKFold(n_splits=10) \n",
    "\n",
    "clf = LogisticRegression(penalty='l2', C=10.0, class_weight=None)\n",
    "\n",
    "for train, test in cv.split(XScl,Y):\n",
    "    clf.fit(XScl[train],Y[train])\n",
    "    yhat[test] = clf.predict(XScl[test])\n",
    "\n",
    "total_accuracy_log_reg_2 = mt.accuracy_score(Y,yhat)\n",
    "conf_matrix_2 = mt.confusion_matrix(Y,yhat)\n",
    "\n",
    "precision_2 = conf_matrix_2[0,0] / (conf_matrix_2[0,0]+ conf_matrix_2[1,0])\n",
    "recall_2 = conf_matrix_2[0,0] / (conf_matrix_2[0,0]+ conf_matrix_2[0,1])\n",
    "f_measure_2 = (2* conf_matrix_2[0,0]) / ((2* conf_matrix_2[0,0])+ conf_matrix_2[0,1] + conf_matrix_2[1,0])\n",
    "\n",
    "print('-------------------------------')\n",
    "print('Logistic Regression Output')\n",
    "print( total_accuracy_log_reg_2)\n",
    "print(conf_matrix_2)\n",
    "print('Precision: ',precision, 'Recall: ',recall, 'F-measure: ', f_measure)"
   ]
  },
  {
   "cell_type": "markdown",
   "metadata": {},
   "source": [
    "Well, we now see a very large drop in our precision.  Just like we talked about in class, this is concerning.  It means that when something is ontime, we are only predicting flights that are ontime correctly 55% of the time, the rest of the time, we incorrectly classify them as DOT late."
   ]
  },
  {
   "cell_type": "code",
   "execution_count": 129,
   "metadata": {
    "collapsed": false
   },
   "outputs": [
    {
     "data": {
      "image/png": "[encoded data removed]",
      "text/plain": [
       "<matplotlib.figure.Figure at 0x21c51233160>"
      ]
     },
     "metadata": {},
     "output_type": "display_data"
    }
   ],
   "source": [
    "weights = pd.Series(clf.coef_[0], index = list([np.array(X.columns.values)]))\n",
    "\n",
    "#weights = pd.Series(clf.coef_, index = list([np.array(X.columns.values)]))\n",
    "\n",
    "ax = weights.plot(kind = 'bar')"
   ]
  },
  {
   "cell_type": "markdown",
   "metadata": {},
   "source": [
    "#### Commentary\n",
    "\n",
    "Well, we now see a very large drop in our precision.  Just like we talked about in class, this is concerning.  It means that when something is ontime, we are only predicting flights that are ontime correctly 55% of the time, the rest of the time, we incorrectly classify them as DOT late.\n",
    "\n",
    "##### Weights\n",
    "The weights are very interesting in this case.  We see that the local departure time is very important, along with whether a flight is an originator.  We see that the am shoulder and the PM meat are very important in the time of say realm.  We also see that the route sequence number is very important in this case as well.  The turn minutes continue to be an important factor as well.  Additionally, Thursdays seem to be a day of week that could be scrutinized further.\n",
    "\n"
   ]
  },
  {
   "cell_type": "markdown",
   "metadata": {},
   "source": [
    "# KNN classifier"
   ]
  },
  {
   "cell_type": "markdown",
   "metadata": {},
   "source": [
    "We know that KNN suffers from the curse of dimensionality and that we should probably trim our dataset down a bit prior to running this classifier; however, let's just take a run with this one to see how long it takes.  We can modify subsequent models."
   ]
  },
  {
   "cell_type": "code",
   "execution_count": 157,
   "metadata": {
    "collapsed": false
   },
   "outputs": [
    {
     "name": "stdout",
     "output_type": "stream",
     "text": [
      "-------------------------------\n",
      "KNN Output\n",
      "0.798262122372\n",
      "[[ 3027 16813]\n",
      " [ 5591 85624]]\n",
      "Precision:  0.351241587375 Recall:  0.152570564516 F-measure:  0.212734556188\n",
      "Wall time: 16min 44s\n"
     ]
    }
   ],
   "source": [
    "%%time\n",
    "# Trying a regular KNN - takes 16 minutes DO NOT RERENDER\n",
    "\n",
    "from sklearn.neighbors import KNeighborsClassifier\n",
    "\n",
    "yhat = np.zeros(Y.shape)\n",
    "\n",
    "cv = StratifiedKFold(n_splits=10) \n",
    "\n",
    "clf = KNeighborsClassifier(n_neighbors=5, weights='uniform', metric = 'euclidean')\n",
    "\n",
    "for train, test in cv.split(XScl,Y):\n",
    "    clf.fit(XScl[train],Y[train])\n",
    "    yhat[test] = clf.predict(XScl[test])\n",
    "\n",
    "total_accuracy_3 = mt.accuracy_score(Y,yhat)\n",
    "conf_matrix_3 = mt.confusion_matrix(Y,yhat)\n",
    "\n",
    "precision = conf_matrix_3[0,0] / (conf_matrix_3[0,0]+ conf_matrix_3[1,0])\n",
    "recall = conf_matrix_3[0,0] / (conf_matrix_3[0,0]+ conf_matrix_3[0,1])\n",
    "f_measure = (2* conf_matrix_3[0,0]) / ((2* conf_matrix_3[0,0])+ conf_matrix_3[0,1] + conf_matrix_3[1,0])\n",
    "\n",
    "print('-------------------------------')\n",
    "print('KNN Output')\n",
    "print( total_accuracy_3)\n",
    "print(conf_matrix_3)\n",
    "print('Precision: ',precision, 'Recall: ',recall, 'F-measure: ', f_measure)\n",
    "    \n",
    "    \n"
   ]
  },
  {
   "cell_type": "markdown",
   "metadata": {},
   "source": [
    "We know that KNN suffers from the curse of dimensionality, and has a hard time with all of the data we have thrown at it.  Therefore, we will reduce the number of variables few into the model and see if we can iterate through the model better based on what we learned in the logistic regression."
   ]
  },
  {
   "cell_type": "code",
   "execution_count": 188,
   "metadata": {
    "collapsed": false
   },
   "outputs": [
    {
     "name": "stdout",
     "output_type": "stream",
     "text": [
      "-------------------------------\n",
      "KNN Output\n",
      "0.790545225339\n",
      "[[ 2823 17017]\n",
      " [ 6244 84971]]\n",
      "Precision:  0.311348847469 Recall:  0.142288306452 F-measure:  0.195316013422\n",
      "Wall time: 30.6 s\n"
     ]
    }
   ],
   "source": [
    "%%time\n",
    "from sklearn.neighbors import KNeighborsClassifier\n",
    "\n",
    "yhat = np.zeros(Y.shape)\n",
    "\n",
    "X2 = X[['origin_longitude', 'local_scheduled_dep_time','Originator_ind','scheduled_turn_minutes','aircraft_seat_count']]\n",
    "\n",
    "scl = StandardScaler() # import the standardscaler\n",
    "XScl2 = scl.fit_transform(X2)\n",
    "\n",
    "cv = StratifiedKFold(n_splits=10) \n",
    "\n",
    "clf = KNeighborsClassifier(n_neighbors=5, weights='uniform', metric = 'euclidean')\n",
    "\n",
    "for train, test in cv.split(XScl2,Y):\n",
    "    clf.fit(XScl2[train],Y[train])\n",
    "    yhat[test] = clf.predict(XScl2[test])\n",
    "\n",
    "total_accuracy_5 = mt.accuracy_score(Y,yhat)\n",
    "conf_matrix_5 = mt.confusion_matrix(Y,yhat)\n",
    "\n",
    "precision = conf_matrix_5[0,0] / (conf_matrix_5[0,0]+ conf_matrix_5[1,0])\n",
    "recall = conf_matrix_5[0,0] / (conf_matrix_5[0,0]+ conf_matrix_5[0,1])\n",
    "f_measure = (2* conf_matrix_5[0,0]) / ((2* conf_matrix_5[0,0])+ conf_matrix_5[0,1] + conf_matrix_5[1,0])\n",
    "\n",
    "print('-------------------------------')\n",
    "print('KNN Output')\n",
    "print( total_accuracy_5)\n",
    "print(conf_matrix_5)\n",
    "print('Precision: ',precision, 'Recall: ',recall, 'F-measure: ', f_measure)"
   ]
  },
  {
   "cell_type": "markdown",
   "metadata": {},
   "source": [
    "Alright, that ran much faster, but we did see a 4 point drop in our precision, which is not desireable.  Since we have so many records, we may worry that some of our forecasts happen by chance.  Let's do a gridsearch on K to see what the best combination of attributes is."
   ]
  },
  {
   "cell_type": "code",
   "execution_count": 189,
   "metadata": {
    "collapsed": false
   },
   "outputs": [
    {
     "name": "stdout",
     "output_type": "stream",
     "text": [
      "the best parameters solving for accuracy  are:  {'metric': 'manhattan', 'n_neighbors': 7}\n",
      "the best parameters solving for precision  are:  {'metric': 'manhattan', 'n_neighbors': 7}\n",
      "the best parameters solving for recall  are:  {'metric': 'manhattan', 'n_neighbors': 7}\n",
      "Wall time: 29min 5s\n"
     ]
    }
   ],
   "source": [
    "%%time\n",
    "\n",
    "from sklearn.neighbors import KNeighborsClassifier\n",
    "\n",
    "\n",
    "tuned_parameters = [{'metric': ['minkowski'],'n_neighbors': [3, 4, 5, 6, 7]},\n",
    "                    {'metric': ['euclidean'],'n_neighbors': [3, 4, 5, 6, 7]},\n",
    "                    {'metric': ['manhattan'],'n_neighbors': [3, 4, 5, 6, 7]}]\n",
    "\n",
    "scores = ['accuracy','precision','recall']\n",
    "                    \n",
    "for score in scores:\n",
    "    clf = GridSearchCV(KNeighborsClassifier(n_neighbors=5, weights='uniform', metric = 'euclidean', n_jobs = -1), param_grid = tuned_parameters, cv= cv,\n",
    "                       scoring= 'accuracy')\n",
    "    clf.fit(XScl2[train],Y[train])\n",
    "    \n",
    "    print('the best parameters solving for', score,' are: ', clf.best_params_)"
   ]
  },
  {
   "cell_type": "markdown",
   "metadata": {},
   "source": [
    "It looks like the best model would have 7 neighbors and use manhattan distance no matter how we measure the model's strength.  We will run those values below."
   ]
  },
  {
   "cell_type": "code",
   "execution_count": 191,
   "metadata": {
    "collapsed": false
   },
   "outputs": [
    {
     "name": "stdout",
     "output_type": "stream",
     "text": [
      "-------------------------------\n",
      "KNN Output\n",
      "0.799549772635\n",
      "[[ 2354 17486]\n",
      " [ 4775 86440]]\n",
      "Precision:  0.330200589143 Recall:  0.118649193548 F-measure:  0.174570803515\n",
      "Wall time: 30.7 s\n"
     ]
    }
   ],
   "source": [
    "%%time\n",
    "from sklearn.neighbors import KNeighborsClassifier\n",
    "\n",
    "yhat = np.zeros(Y.shape)\n",
    "\n",
    "X2 = X[['origin_longitude', 'local_scheduled_dep_time','Originator_ind','scheduled_turn_minutes','aircraft_seat_count']]\n",
    "\n",
    "scl = StandardScaler() # import the standardscaler\n",
    "XScl2 = scl.fit_transform(X2)\n",
    "\n",
    "cv = StratifiedKFold(n_splits=10) \n",
    "\n",
    "clf = KNeighborsClassifier(n_neighbors=7, weights='uniform', metric = 'manhattan')\n",
    "\n",
    "for train, test in cv.split(XScl2,Y):\n",
    "    clf.fit(XScl2[train],Y[train])\n",
    "    yhat[test] = clf.predict(XScl2[test])\n",
    "\n",
    "total_accuracy_5 = mt.accuracy_score(Y,yhat)\n",
    "conf_matrix_5 = mt.confusion_matrix(Y,yhat)\n",
    "\n",
    "precision = conf_matrix_5[0,0] / (conf_matrix_5[0,0]+ conf_matrix_5[1,0])\n",
    "recall = conf_matrix_5[0,0] / (conf_matrix_5[0,0]+ conf_matrix_5[0,1])\n",
    "f_measure = (2* conf_matrix_5[0,0]) / ((2* conf_matrix_5[0,0])+ conf_matrix_5[0,1] + conf_matrix_5[1,0])\n",
    "\n",
    "print('-------------------------------')\n",
    "print('KNN Output')\n",
    "print( total_accuracy_5)\n",
    "print(conf_matrix_5)\n",
    "print('Precision: ',precision, 'Recall: ',recall, 'F-measure: ', f_measure)"
   ]
  },
  {
   "cell_type": "markdown",
   "metadata": {},
   "source": [
    "So this model got us a couple more points of accuracy and a little more precision, this will be our final KNN model."
   ]
  },
  {
   "cell_type": "markdown",
   "metadata": {},
   "source": [
    "# Decision Tree"
   ]
  },
  {
   "cell_type": "code",
   "execution_count": 143,
   "metadata": {
    "collapsed": false
   },
   "outputs": [
    {
     "name": "stdout",
     "output_type": "stream",
     "text": [
      "-------------------------------\n",
      "Decision Tree Output\n",
      "0.724541893656\n",
      "[[ 5942 13898]\n",
      " [16693 74522]]\n",
      "Precision:  0.262513806053 Recall:  0.299495967742 F-measure:  0.279788110653\n",
      "Wall time: 16.1 s\n"
     ]
    }
   ],
   "source": [
    "%%time\n",
    "\n",
    "# we will also try a simple decision tree\n",
    "\n",
    "from sklearn.tree import DecisionTreeClassifier\n",
    "\n",
    "yhat = np.zeros(Y.shape)\n",
    "\n",
    "cv = StratifiedKFold(n_splits=10) \n",
    "\n",
    "clf = DecisionTreeClassifier()\n",
    "\n",
    "for train, test in cv.split(XScl,Y):\n",
    "    clf.fit(XScl[train],Y[train])\n",
    "    yhat[test] = clf.predict(XScl[test])\n",
    "\n",
    "total_accuracy_4 = mt.accuracy_score(Y,yhat)\n",
    "conf_matrix_4 = mt.confusion_matrix(Y,yhat)\n",
    "\n",
    "precision = conf_matrix_4[0,0] / (conf_matrix_4[0,0]+ conf_matrix_4[1,0])\n",
    "recall = conf_matrix_4[0,0] / (conf_matrix_4[0,0]+ conf_matrix_4[0,1])\n",
    "f_measure = (2* conf_matrix_4[0,0]) / ((2* conf_matrix_4[0,0])+ conf_matrix_4[0,1] + conf_matrix_4[1,0])\n",
    "\n",
    "print('-------------------------------')\n",
    "print('Decision Tree Output')\n",
    "print( total_accuracy_4)\n",
    "print(conf_matrix_4)\n",
    "print('Precision: ',precision, 'Recall: ',recall, 'F-measure: ', f_measure)\n",
    "\n"
   ]
  },
  {
   "cell_type": "markdown",
   "metadata": {},
   "source": [
    "Well, this model does no better than our original logistic regression model.  We may try changing from the Gini to Entropy, but these usually yield about the same answer.  If we make the trees any more specific we will more than likely lose accuracy (as seen in ICA2).  "
   ]
  },
  {
   "cell_type": "code",
   "execution_count": 164,
   "metadata": {
    "collapsed": false
   },
   "outputs": [
    {
     "name": "stdout",
     "output_type": "stream",
     "text": [
      "-------------------------------\n",
      "Decision Tree Output\n",
      "0.728350817163\n",
      "[[ 5672 14168]\n",
      " [16000 75215]]\n",
      "Precision:  0.261720191953 Recall:  0.285887096774 F-measure:  0.273270379649\n",
      "Wall time: 18.3 s\n"
     ]
    }
   ],
   "source": [
    "%%time\n",
    "\n",
    "# decision tree with entropy\n",
    "\n",
    "from sklearn.tree import DecisionTreeClassifier\n",
    "\n",
    "yhat = np.zeros(Y.shape)\n",
    "\n",
    "cv = StratifiedKFold(n_splits=10) \n",
    "\n",
    "clf = DecisionTreeClassifier(criterion ='entropy')\n",
    "\n",
    "for train, test in cv.split(XScl,Y):\n",
    "    clf.fit(XScl[train],Y[train])\n",
    "    yhat[test] = clf.predict(XScl[test])\n",
    "\n",
    "total_accuracy_5 = mt.accuracy_score(Y,yhat)\n",
    "conf_matrix_5 = mt.confusion_matrix(Y,yhat)\n",
    "\n",
    "precision = conf_matrix_5[0,0] / (conf_matrix_5[0,0]+ conf_matrix_5[1,0])\n",
    "recall = conf_matrix_5[0,0] / (conf_matrix_5[0,0]+ conf_matrix_5[0,1])\n",
    "f_measure = (2* conf_matrix_5[0,0]) / ((2* conf_matrix_5[0,0])+ conf_matrix_5[0,1] + conf_matrix_5[1,0])\n",
    "\n",
    "print('-------------------------------')\n",
    "print('Decision Tree Output')\n",
    "print( total_accuracy_5)\n",
    "print(conf_matrix_5)\n",
    "print('Precision: ',precision, 'Recall: ',recall, 'F-measure: ', f_measure)"
   ]
  },
  {
   "cell_type": "markdown",
   "metadata": {},
   "source": [
    "Just as predicted, our results are very similar.  This is probably not a good model to use going forward."
   ]
  },
  {
   "cell_type": "code",
   "execution_count": 153,
   "metadata": {
    "collapsed": false
   },
   "outputs": [
    {
     "data": {
      "image/png": "[encoded data removed]",
      "text/plain": [
       "<matplotlib.figure.Figure at 0x21c52241668>"
      ]
     },
     "metadata": {},
     "output_type": "display_data"
    }
   ],
   "source": [
    "importances =  pd.Series(clf.feature_importances_, index = list([np.array(X.columns.values)]))\n",
    "\n",
    "ax = importances.plot(kind = 'bar')\n"
   ]
  },
  {
   "cell_type": "markdown",
   "metadata": {},
   "source": [
    "It is interesting that this model has very different feature importances than the logistic regression.  The importances of the logistic regression seemed to make a bit more sense from the position of practical significance. "
   ]
  },
  {
   "cell_type": "code",
   "execution_count": 166,
   "metadata": {
    "collapsed": false
   },
   "outputs": [],
   "source": [
    "# let's make a graphic for this model\n",
    "\n",
    "from sklearn.tree import export_graphviz\n",
    "\n",
    "export_graphviz(clf, out_file = 'tree.dot')"
   ]
  },
  {
   "cell_type": "markdown",
   "metadata": {},
   "source": [
    "Wow!  The graphic (not shown here) is so complex that graphviz had to shrink the image and it is not even intelligible.  Let's just see what a simplified model gives us with the most important variables and limited depth.  The tree can be viewed in the github repository for this report (https://github.com/dpmurraygt/OnTime.git)"
   ]
  },
  {
   "cell_type": "code",
   "execution_count": 199,
   "metadata": {
    "collapsed": false
   },
   "outputs": [
    {
     "name": "stdout",
     "output_type": "stream",
     "text": [
      "-------------------------------\n",
      "Decision Tree Output\n",
      "0.821394804376\n",
      "[[   37 19803]\n",
      " [   32 91183]]\n",
      "Precision:  0.536231884058 Recall:  0.00186491935484 F-measure:  0.00371691194937\n",
      "Wall time: 874 ms\n"
     ]
    }
   ],
   "source": [
    "%%time\n",
    "\n",
    "\n",
    "yhat = np.zeros(Y.shape)\n",
    "\n",
    "cv = StratifiedKFold(n_splits=10) \n",
    "\n",
    "clf = DecisionTreeClassifier(criterion ='entropy', max_depth = 6 ) # old was 6\n",
    "\n",
    "for train, test in cv.split(XScl2,Y):\n",
    "    clf.fit(XScl2[train],Y[train])\n",
    "    yhat[test] = clf.predict(XScl2[test])\n",
    "\n",
    "total_accuracy = mt.accuracy_score(Y,yhat)\n",
    "conf_matrix = mt.confusion_matrix(Y,yhat)\n",
    "\n",
    "precision = conf_matrix[0,0] / (conf_matrix[0,0]+ conf_matrix[1,0])\n",
    "recall = conf_matrix[0,0] / (conf_matrix[0,0]+ conf_matrix[0,1])\n",
    "f_measure = (2* conf_matrix[0,0]) / ((2* conf_matrix[0,0])+ conf_matrix[0,1] + conf_matrix[1,0])\n",
    "\n",
    "print('-------------------------------')\n",
    "print('Decision Tree Output')\n",
    "print( total_accuracy)\n",
    "print(conf_matrix)\n",
    "print('Precision: ',precision, 'Recall: ',recall, 'F-measure: ', f_measure)"
   ]
  },
  {
   "cell_type": "markdown",
   "metadata": {},
   "source": [
    "It is very interesting that our simplified decision tree did much better than the more complex model.  Notice though, that the tree figured out that it can forecast the false features correctly and make a model that appears to be really good.  Let's make a visual of the output.  However, recall fell off of a cliff and our f-measure is pretty poor."
   ]
  },
  {
   "cell_type": "code",
   "execution_count": 195,
   "metadata": {
    "collapsed": false
   },
   "outputs": [],
   "source": [
    "from sklearn.tree import export_graphviz\n",
    "\n",
    "export_graphviz(clf, out_file = 'tree2.dot', feature_names = ['origin_longitude', 'local_scheduled_dep_time',\n",
    "                                                              'Originator_ind','scheduled_turn_minutes',\n",
    "                                                              'aircraft_seat_count'])"
   ]
  },
  {
   "cell_type": "raw",
   "metadata": {},
   "source": [
    "This tree (saved in the github file) is still too complex to visualize.  Let's just use scheduled turn minutes and departure time to model the tree and see what we get."
   ]
  },
  {
   "cell_type": "code",
   "execution_count": 201,
   "metadata": {
    "collapsed": false
   },
   "outputs": [
    {
     "data": {
      "image/png": "[encoded data removed]",
      "text/plain": [
       "<matplotlib.figure.Figure at 0x21c007c5668>"
      ]
     },
     "metadata": {},
     "output_type": "display_data"
    }
   ],
   "source": [
    "importances =  pd.Series(clf.feature_importances_, index = ['origin_longitude', 'local_scheduled_dep_time',\n",
    "                                                              'Originator_ind','scheduled_turn_minutes',\n",
    "                                                              'aircraft_seat_count'] )\n",
    "\n",
    "ax = importances.plot(kind = 'bar')\n"
   ]
  },
  {
   "cell_type": "code",
   "execution_count": 202,
   "metadata": {
    "collapsed": false
   },
   "outputs": [
    {
     "name": "stdout",
     "output_type": "stream",
     "text": [
      "-------------------------------\n",
      "Decision Tree Output\n",
      "0.82134978164\n",
      "[[    0 19840]\n",
      " [    0 91215]]\n",
      "Precision:  nan Recall:  0.0 F-measure:  0.0\n"
     ]
    }
   ],
   "source": [
    "yhat = np.zeros(Y.shape)\n",
    "\n",
    "X3 = X[[ 'local_scheduled_dep_time','scheduled_turn_minutes']]\n",
    "\n",
    "scl = StandardScaler() # import the standardscaler\n",
    "XScl3 = scl.fit_transform(X3)\n",
    "\n",
    "\n",
    "cv = StratifiedKFold(n_splits=10) \n",
    "\n",
    "clf = DecisionTreeClassifier(criterion ='entropy', max_depth = 6 ) # old was 6\n",
    "\n",
    "for train, test in cv.split(XScl3,Y):\n",
    "    clf.fit(XScl3[train],Y[train])\n",
    "    yhat[test] = clf.predict(XScl3[test])\n",
    "\n",
    "total_accuracy = mt.accuracy_score(Y,yhat)\n",
    "conf_matrix = mt.confusion_matrix(Y,yhat)\n",
    "\n",
    "precision = conf_matrix[0,0] / (conf_matrix[0,0]+ conf_matrix[1,0])\n",
    "recall = conf_matrix[0,0] / (conf_matrix[0,0]+ conf_matrix[0,1])\n",
    "f_measure = (2* conf_matrix[0,0]) / ((2* conf_matrix[0,0])+ conf_matrix[0,1] + conf_matrix[1,0])\n",
    "\n",
    "print('-------------------------------')\n",
    "print('Decision Tree Output')\n",
    "print( total_accuracy)\n",
    "print(conf_matrix)\n",
    "print('Precision: ',precision, 'Recall: ',recall, 'F-measure: ', f_measure)"
   ]
  },
  {
   "cell_type": "code",
   "execution_count": null,
   "metadata": {
    "collapsed": true
   },
   "outputs": [],
   "source": [
    "Well, the output makes no sense.  We are now not classifying anything as posi"
   ]
  },
  {
   "cell_type": "code",
   "execution_count": null,
   "metadata": {
    "collapsed": true
   },
   "outputs": [],
   "source": []
  },
  {
   "cell_type": "code",
   "execution_count": null,
   "metadata": {
    "collapsed": true
   },
   "outputs": [],
   "source": []
  },
  {
   "cell_type": "code",
   "execution_count": 156,
   "metadata": {
    "collapsed": false
   },
   "outputs": [
    {
     "name": "stdout",
     "output_type": "stream",
     "text": [
      "Logistic Regression 0.728242762595\n",
      "CPU times: user 14.2 s, sys: 7.48 s, total: 21.7 s\n",
      "Wall time: 24.7 s\n"
     ]
    }
   ],
   "source": [
    "%%time\n",
    "\n",
    "#Basic Logistic Regression\n",
    "from sklearn.naive_bayes import GaussianNB\n",
    "from sklearn.model_selection import ShuffleSplit\n",
    "\n",
    "yhat = np.zeros(Y.shape) # we will fill this with predictions\n",
    "\n",
    "scl = StandardScaler()\n",
    "XScl = scl.fit_transform(X)\n",
    "\n",
    "# create cross validation iterator\n",
    "cv = StratifiedKFold(n_splits=10)\n",
    "\n",
    "# get a handle to the classifier object, which defines the type\n",
    "clf = GaussianNB()\n",
    "\n",
    "# now iterate through and get predictions, saved to the correct row in yhat\n",
    "# NOTE: you can parallelize this using the cross_val_predict method\n",
    "for train, test in cv.split(XScl,Y):\n",
    "    #print(\"X NAN\", np.any(np.isnan(XScl[train])))\n",
    "    #print(\"X Finite\", np.any(np.isfinite(XScl[train])))\n",
    "    #print(\"Y NAN\", np.any(np.isnan(Y[train])))\n",
    "    #print(\"Y Finite\", np.any(np.isfinite(Y[train])))\n",
    "    clf.fit(XScl[train],Y[train])\n",
    "    yhat[test] = clf.predict(XScl[test])\n",
    " \n",
    "    \n",
    "total_accuracy = mt.accuracy_score(Y, yhat)\n",
    "print ('Logistic Regression', total_accuracy)"
   ]
  },
  {
   "cell_type": "code",
   "execution_count": 158,
   "metadata": {
    "collapsed": false
   },
   "outputs": [
    {
     "name": "stdout",
     "output_type": "stream",
     "text": [
      "Logistic Regression 0.822925577417\n",
      "CPU times: user 4min 28s, sys: 22.6 s, total: 4min 51s\n",
      "Wall time: 3min 42s\n"
     ]
    }
   ],
   "source": [
    "%%time\n",
    "\n",
    "#Basic Logistic Regression with PCA\n",
    "from sklearn.naive_bayes import GaussianNB\n",
    "from sklearn.model_selection import ShuffleSplit\n",
    "\n",
    "yhat = np.zeros(Y.shape) # we will fill this with predictions\n",
    "\n",
    "scl = StandardScaler()\n",
    "XScl = scl.fit_transform(X)\n",
    "\n",
    "# create cross validation iterator\n",
    "cv = StratifiedKFold(n_splits=10)\n",
    "\n",
    "\n",
    "# setup pipeline to take PCA, then fit a different classifier\n",
    "clf_pipe = Pipeline(\n",
    "    [('PCA',PCA(n_components=150,svd_solver='randomized')),\n",
    "     ('CLF',GaussianNB())]\n",
    ")\n",
    "\n",
    "# now iterate through and get predictions, saved to the correct row in yhat\n",
    "# NOTE: you can parallelize this using the cross_val_predict method\n",
    "for train, test in cv.split(XScl,Y):\n",
    "    #print(\"X NAN\", np.any(np.isnan(XScl[train])))\n",
    "    #print(\"X Finite\", np.any(np.isfinite(XScl[train])))\n",
    "    #print(\"Y NAN\", np.any(np.isnan(Y[train])))\n",
    "    #print(\"Y Finite\", np.any(np.isfinite(Y[train])))\n",
    "    clf_pipe.fit(XScl[train],Y[train])\n",
    "    yhat[test] = clf_pipe.predict(XScl[test])\n",
    " \n",
    "    \n",
    "total_accuracy = mt.accuracy_score(Y, yhat)\n",
    "print ('Logistic Regression with PCA', total_accuracy)"
   ]
  },
  {
   "cell_type": "code",
   "execution_count": 160,
   "metadata": {
    "collapsed": false
   },
   "outputs": [
    {
     "name": "stdout",
     "output_type": "stream",
     "text": [
      "Logistic Regression 0.870712709919\n",
      "CPU times: user 1h 25min 44s, sys: 41.7 s, total: 1h 26min 25s\n",
      "Wall time: 45min 43s\n"
     ]
    }
   ],
   "source": [
    "%%time\n",
    "\n",
    "#Random Forest with PCA\n",
    "from sklearn.ensemble import RandomForestClassifier\n",
    "\n",
    "yhat = np.zeros(Y.shape) # we will fill this with predictions\n",
    "\n",
    "scl = StandardScaler()\n",
    "XScl = scl.fit_transform(X)\n",
    "\n",
    "# create cross validation iterator\n",
    "cv = StratifiedKFold(n_splits=10)\n",
    "\n",
    "\n",
    "# setup pipeline to take PCA, then fit a different classifier\n",
    "clf_pipe = Pipeline(\n",
    "    [('PCA',PCA(n_components=150,svd_solver='randomized')),\n",
    "     ('CLF',RandomForestClassifier(max_depth=50, n_estimators=150, n_jobs=-1))]\n",
    ")\n",
    "\n",
    "# now iterate through and get predictions, saved to the correct row in yhat\n",
    "# NOTE: you can parallelize this using the cross_val_predict method\n",
    "for train, test in cv.split(XScl,Y):\n",
    "    #print(\"X NAN\", np.any(np.isnan(XScl[train])))\n",
    "    #print(\"X Finite\", np.any(np.isfinite(XScl[train])))\n",
    "    #print(\"Y NAN\", np.any(np.isnan(Y[train])))\n",
    "    #print(\"Y Finite\", np.any(np.isfinite(Y[train])))\n",
    "    clf_pipe.fit(XScl[train],Y[train])\n",
    "    yhat[test] = clf_pipe.predict(XScl[test])\n",
    " \n",
    "    \n",
    "total_accuracy = mt.accuracy_score(Y, yhat)\n",
    "print ('Random Forest Classifier', total_accuracy)\n",
    "\n"
   ]
  },
  {
   "cell_type": "code",
   "execution_count": 153,
   "metadata": {
    "collapsed": false
   },
   "outputs": [
    {
     "ename": "NameError",
     "evalue": "name 'Stratified' is not defined",
     "output_type": "error",
     "traceback": [
      "\u001b[0;31m---------------------------------------------------------------------------\u001b[0m",
      "\u001b[0;31mNameError\u001b[0m                                 Traceback (most recent call last)",
      "\u001b[0;32m<ipython-input-153-8d51debf30f8>\u001b[0m in \u001b[0;36m<module>\u001b[0;34m()\u001b[0m\n\u001b[0;32m----> 1\u001b[0;31m \u001b[0mget_ipython\u001b[0m\u001b[0;34m(\u001b[0m\u001b[0;34m)\u001b[0m\u001b[0;34m.\u001b[0m\u001b[0mrun_cell_magic\u001b[0m\u001b[0;34m(\u001b[0m\u001b[0;34m'time'\u001b[0m\u001b[0;34m,\u001b[0m \u001b[0;34m''\u001b[0m\u001b[0;34m,\u001b[0m \u001b[0;34m\"\\nfrom sklearn.neighbors import KNeighborsClassifier\\nfrom sklearn.model_selection import StratifiedKFold\\nfrom sklearn.preprocessing import StandardScaler\\nimport numpy as np\\nfrom sklearn import metrics as mt\\n\\n\\nyhat = np.zeros(Y.shape) # we will fill this with predictions\\n\\nscl = StandardScaler()\\nXScl = scl.fit_transform(X)\\n\\n# create cross validation iterator\\ncv = Stratified(n_splits=10)\\n\\n# get a handle to the classifier object, which defines the type\\nclf = KNeighborsClassifier(n_neighbors=5)\\n\\n# now iterate through and get predictions, saved to the correct row in yhat\\n# NOTE: you can parallelize this using the cross_val_predict method\\nfor train, test in cv.split(XScl,Y):\\n    clf.fit(XScl[train],Y[train])\\n    yhat[test] = clf.predict(XScl[test])\\n \\n    \\ntotal_accuracy = mt.accuracy_score(Y, yhat)\\nprint ('Logistic Regression', total_accuracy)\"\u001b[0m\u001b[0;34m)\u001b[0m\u001b[0;34m\u001b[0m\u001b[0m\n\u001b[0m",
      "\u001b[0;32m//anaconda/lib/python3.5/site-packages/IPython/core/interactiveshell.py\u001b[0m in \u001b[0;36mrun_cell_magic\u001b[0;34m(self, magic_name, line, cell)\u001b[0m\n\u001b[1;32m   2113\u001b[0m             \u001b[0mmagic_arg_s\u001b[0m \u001b[0;34m=\u001b[0m \u001b[0mself\u001b[0m\u001b[0;34m.\u001b[0m\u001b[0mvar_expand\u001b[0m\u001b[0;34m(\u001b[0m\u001b[0mline\u001b[0m\u001b[0;34m,\u001b[0m \u001b[0mstack_depth\u001b[0m\u001b[0;34m)\u001b[0m\u001b[0;34m\u001b[0m\u001b[0m\n\u001b[1;32m   2114\u001b[0m             \u001b[0;32mwith\u001b[0m \u001b[0mself\u001b[0m\u001b[0;34m.\u001b[0m\u001b[0mbuiltin_trap\u001b[0m\u001b[0;34m:\u001b[0m\u001b[0;34m\u001b[0m\u001b[0m\n\u001b[0;32m-> 2115\u001b[0;31m                 \u001b[0mresult\u001b[0m \u001b[0;34m=\u001b[0m \u001b[0mfn\u001b[0m\u001b[0;34m(\u001b[0m\u001b[0mmagic_arg_s\u001b[0m\u001b[0;34m,\u001b[0m \u001b[0mcell\u001b[0m\u001b[0;34m)\u001b[0m\u001b[0;34m\u001b[0m\u001b[0m\n\u001b[0m\u001b[1;32m   2116\u001b[0m             \u001b[0;32mreturn\u001b[0m \u001b[0mresult\u001b[0m\u001b[0;34m\u001b[0m\u001b[0m\n\u001b[1;32m   2117\u001b[0m \u001b[0;34m\u001b[0m\u001b[0m\n",
      "\u001b[0;32m<decorator-gen-59>\u001b[0m in \u001b[0;36mtime\u001b[0;34m(self, line, cell, local_ns)\u001b[0m\n",
      "\u001b[0;32m//anaconda/lib/python3.5/site-packages/IPython/core/magic.py\u001b[0m in \u001b[0;36m<lambda>\u001b[0;34m(f, *a, **k)\u001b[0m\n\u001b[1;32m    186\u001b[0m     \u001b[0;31m# but it's overkill for just that one bit of state.\u001b[0m\u001b[0;34m\u001b[0m\u001b[0;34m\u001b[0m\u001b[0m\n\u001b[1;32m    187\u001b[0m     \u001b[0;32mdef\u001b[0m \u001b[0mmagic_deco\u001b[0m\u001b[0;34m(\u001b[0m\u001b[0marg\u001b[0m\u001b[0;34m)\u001b[0m\u001b[0;34m:\u001b[0m\u001b[0;34m\u001b[0m\u001b[0m\n\u001b[0;32m--> 188\u001b[0;31m         \u001b[0mcall\u001b[0m \u001b[0;34m=\u001b[0m \u001b[0;32mlambda\u001b[0m \u001b[0mf\u001b[0m\u001b[0;34m,\u001b[0m \u001b[0;34m*\u001b[0m\u001b[0ma\u001b[0m\u001b[0;34m,\u001b[0m \u001b[0;34m**\u001b[0m\u001b[0mk\u001b[0m\u001b[0;34m:\u001b[0m \u001b[0mf\u001b[0m\u001b[0;34m(\u001b[0m\u001b[0;34m*\u001b[0m\u001b[0ma\u001b[0m\u001b[0;34m,\u001b[0m \u001b[0;34m**\u001b[0m\u001b[0mk\u001b[0m\u001b[0;34m)\u001b[0m\u001b[0;34m\u001b[0m\u001b[0m\n\u001b[0m\u001b[1;32m    189\u001b[0m \u001b[0;34m\u001b[0m\u001b[0m\n\u001b[1;32m    190\u001b[0m         \u001b[0;32mif\u001b[0m \u001b[0mcallable\u001b[0m\u001b[0;34m(\u001b[0m\u001b[0marg\u001b[0m\u001b[0;34m)\u001b[0m\u001b[0;34m:\u001b[0m\u001b[0;34m\u001b[0m\u001b[0m\n",
      "\u001b[0;32m//anaconda/lib/python3.5/site-packages/IPython/core/magics/execution.py\u001b[0m in \u001b[0;36mtime\u001b[0;34m(self, line, cell, local_ns)\u001b[0m\n\u001b[1;32m   1183\u001b[0m         \u001b[0;32melse\u001b[0m\u001b[0;34m:\u001b[0m\u001b[0;34m\u001b[0m\u001b[0m\n\u001b[1;32m   1184\u001b[0m             \u001b[0mst\u001b[0m \u001b[0;34m=\u001b[0m \u001b[0mclock2\u001b[0m\u001b[0;34m(\u001b[0m\u001b[0;34m)\u001b[0m\u001b[0;34m\u001b[0m\u001b[0m\n\u001b[0;32m-> 1185\u001b[0;31m             \u001b[0mexec\u001b[0m\u001b[0;34m(\u001b[0m\u001b[0mcode\u001b[0m\u001b[0;34m,\u001b[0m \u001b[0mglob\u001b[0m\u001b[0;34m,\u001b[0m \u001b[0mlocal_ns\u001b[0m\u001b[0;34m)\u001b[0m\u001b[0;34m\u001b[0m\u001b[0m\n\u001b[0m\u001b[1;32m   1186\u001b[0m             \u001b[0mend\u001b[0m \u001b[0;34m=\u001b[0m \u001b[0mclock2\u001b[0m\u001b[0;34m(\u001b[0m\u001b[0;34m)\u001b[0m\u001b[0;34m\u001b[0m\u001b[0m\n\u001b[1;32m   1187\u001b[0m             \u001b[0mout\u001b[0m \u001b[0;34m=\u001b[0m \u001b[0;32mNone\u001b[0m\u001b[0;34m\u001b[0m\u001b[0m\n",
      "\u001b[0;32m<timed exec>\u001b[0m in \u001b[0;36m<module>\u001b[0;34m()\u001b[0m\n",
      "\u001b[0;31mNameError\u001b[0m: name 'Stratified' is not defined"
     ]
    }
   ],
   "source": [
    "%%time\n",
    "\n",
    "from sklearn.neighbors import KNeighborsClassifier\n",
    "from sklearn.model_selection import StratifiedKFold\n",
    "from sklearn.preprocessing import StandardScaler\n",
    "import numpy as np\n",
    "from sklearn import metrics as mt\n",
    "\n",
    "\n",
    "yhat = np.zeros(Y.shape) # we will fill this with predictions\n",
    "\n",
    "scl = StandardScaler()\n",
    "XScl = scl.fit_transform(X)\n",
    "\n",
    "# create cross validation iterator\n",
    "cv = StratifiedKFold(n_splits=10)\n",
    "\n",
    "# get a handle to the classifier object, which defines the type\n",
    "clf = KNeighborsClassifier(n_neighbors=5)\n",
    "\n",
    "# now iterate through and get predictions, saved to the correct row in yhat\n",
    "# NOTE: you can parallelize this using the cross_val_predict method\n",
    "for train, test in cv.split(XScl,Y):\n",
    "    clf.fit(XScl[train],Y[train])\n",
    "    yhat[test] = clf.predict(XScl[test])\n",
    " \n",
    "    \n",
    "total_accuracy = mt.accuracy_score(Y, yhat)\n",
    "print ('KNN', total_accuracy)"
   ]
  },
  {
   "cell_type": "code",
   "execution_count": 119,
   "metadata": {
    "collapsed": false
   },
   "outputs": [
    {
     "data": {
      "text/plain": [
       "KNeighborsClassifier(algorithm='auto', leaf_size=30, metric='minkowski',\n",
       "           metric_params=None, n_jobs=1, n_neighbors=5, p=2,\n",
       "           weights='uniform')"
      ]
     },
     "execution_count": 119,
     "metadata": {},
     "output_type": "execute_result"
    }
   ],
   "source": [
    "yhat"
   ]
  },
  {
   "cell_type": "code",
   "execution_count": null,
   "metadata": {
    "collapsed": true
   },
   "outputs": [],
   "source": [
    "# logistic regression?\n",
    "\n"
   ]
  },
  {
   "cell_type": "code",
   "execution_count": null,
   "metadata": {
    "collapsed": true
   },
   "outputs": [],
   "source": [
    "# KD tree?"
   ]
  },
  {
   "cell_type": "code",
   "execution_count": null,
   "metadata": {
    "collapsed": true
   },
   "outputs": [],
   "source": [
    "# Decision Tree?"
   ]
  },
  {
   "cell_type": "code",
   "execution_count": null,
   "metadata": {
    "collapsed": true
   },
   "outputs": [],
   "source": [
    "#Naive Bayes"
   ]
  },
  {
   "cell_type": "code",
   "execution_count": null,
   "metadata": {
    "collapsed": false
   },
   "outputs": [],
   "source": [
    "#KNN\n",
    "\n",
    "#%%time\n",
    "\n",
    "# setup pipeline to take PCA, then fit a KNN classifier\n",
    "clf_pipe = Pipeline(\n",
    "    [('PCA_Eric',PCA(n_components=200)),\n",
    "     ('CLF_Eric',KNeighborsClassifier(n_neighbors=1))]\n",
    ")\n",
    "\n",
    "# now iterate through and get predictions, saved to the correct row in yhat\n",
    "for train, test in cv.split(X,Y):\n",
    "    clf_pipe.fit(X[train],Y[train])\n",
    "    yhat[test] = clf_pipe.predict(X[test])\n",
    "\n",
    "total_accuracy = mt.accuracy_score(Y, yhat)\n",
    "print ('KNN, pipeline accuracy', total_accuracy)"
   ]
  },
  {
   "cell_type": "code",
   "execution_count": null,
   "metadata": {
    "collapsed": true
   },
   "outputs": [],
   "source": [
    "#Random Forest"
   ]
  },
  {
   "cell_type": "code",
   "execution_count": null,
   "metadata": {
    "collapsed": true
   },
   "outputs": [],
   "source": []
  }
 ],
 "metadata": {
  "anaconda-cloud": {},
  "kernelspec": {
   "display_name": "Python [default]",
   "language": "python",
   "name": "python3"
  },
  "language_info": {
   "codemirror_mode": {
    "name": "ipython",
    "version": 3
   },
   "file_extension": ".py",
   "mimetype": "text/x-python",
   "name": "python",
   "nbconvert_exporter": "python",
   "pygments_lexer": "ipython3",
   "version": "3.5.2"
  }
 },
 "nbformat": 4,
 "nbformat_minor": 1
}
