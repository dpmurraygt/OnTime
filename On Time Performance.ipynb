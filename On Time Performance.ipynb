{
 "cells": [
  {
   "cell_type": "code",
   "execution_count": 38,
   "metadata": {
    "collapsed": true
   },
   "outputs": [],
   "source": [
    "# import packages\n",
    "\n",
    "import pandas as pd\n",
    "import seaborn as sns\n",
    "import numpy as np\n",
    "import matplotlib.pyplot as plt\n",
    "import scipy.stats \n",
    "import sklearn as sk\n",
    "import statsmodels.api as sm\n",
    "#import statsmodels.formula.api as smf\n",
    "from statsmodels.stats.outliers_influence import variance_inflation_factor\n",
    "\n",
    "import pandas as pd\n",
    "from pandas.tools.plotting import scatter_plot\n",
    "from pandas.tools.plotting import scatter_matrix\n",
    "\n",
    "from sklearn.preprocessing import scale, StandardScaler\n",
    "from sklearn import preprocessing, cross_validation, svm\n",
    "from sklearn.linear_model import LinearRegression\n",
    "from sklearn.linear_model import Lasso, Lars\n",
    "from sklearn.linear_model import SGDRegressor\n",
    "from sklearn.decomposition import PCA \n",
    "from sklearn.cluster import KMeans\n",
    "from sklearn.neighbors import KNeighborsRegressor\n",
    "from sklearn.pipeline import Pipeline\n",
    "\n",
    "import locale\n",
    "locale.setlocale( locale.LC_ALL, 'en_US.UTF-8' ) \n",
    "\n",
    "from pandas.tools.plotting import scatter_matrix\n",
    "\n",
    "from sklearn.svm import SVR\n",
    "from sklearn.feature_selection import RFE, RFECV\n",
    "\n",
    "#configure the random seed so we our randomness is reproducible for selection of learn/test sets\n",
    "np.random.seed(0)\n",
    "\n",
    "%matplotlib inline"
   ]
  },
  {
   "cell_type": "code",
   "execution_count": 39,
   "metadata": {
    "collapsed": false
   },
   "outputs": [
    {
     "name": "stderr",
     "output_type": "stream",
     "text": [
      "//anaconda/lib/python3.5/site-packages/IPython/core/interactiveshell.py:2717: DtypeWarning: Columns (1) have mixed types. Specify dtype option on import or set low_memory=False.\n",
      "  interactivity=interactivity, compiler=compiler, result=result)\n"
     ]
    }
   ],
   "source": [
    "#read in the data file\n",
    "OnTime=pd.read_csv(\"Data/20170112_DataMiningI_TestDataSet_v01.csv\", header=1, skiprows=0)"
   ]
  },
  {
   "cell_type": "code",
   "execution_count": 40,
   "metadata": {
    "collapsed": false
   },
   "outputs": [
    {
     "data": {
      "text/html": [
       "<div>\n",
       "<table border=\"1\" class=\"dataframe\">\n",
       "  <thead>\n",
       "    <tr style=\"text-align: right;\">\n",
       "      <th></th>\n",
       "      <th>origin</th>\n",
       "      <th>origin_latitude</th>\n",
       "      <th>origin_longitude</th>\n",
       "      <th>destination</th>\n",
       "      <th>destination_latitude</th>\n",
       "      <th>destination_longitude</th>\n",
       "      <th>origin_country</th>\n",
       "      <th>destination_country</th>\n",
       "      <th>flight_number</th>\n",
       "      <th>miles_flown</th>\n",
       "      <th>...</th>\n",
       "      <th>weather_delay_minutes</th>\n",
       "      <th>dot_delay_mins</th>\n",
       "      <th>flt_attendant_change_ind</th>\n",
       "      <th>total_bags</th>\n",
       "      <th>bag_weight_total</th>\n",
       "      <th>freight_weight_total</th>\n",
       "      <th>scheduled_turn_minutes</th>\n",
       "      <th>itins_in</th>\n",
       "      <th>itins_out</th>\n",
       "      <th>itins_on_leg</th>\n",
       "    </tr>\n",
       "  </thead>\n",
       "  <tbody>\n",
       "    <tr>\n",
       "      <th>0</th>\n",
       "      <td>FLL</td>\n",
       "      <td>26.07222</td>\n",
       "      <td>-80.15306</td>\n",
       "      <td>CMH</td>\n",
       "      <td>39.99111</td>\n",
       "      <td>-82.87833</td>\n",
       "      <td>United States of America</td>\n",
       "      <td>United States of America</td>\n",
       "      <td>3,133</td>\n",
       "      <td>972</td>\n",
       "      <td>...</td>\n",
       "      <td>0</td>\n",
       "      <td>-14</td>\n",
       "      <td>Y</td>\n",
       "      <td>136</td>\n",
       "      <td>4,080</td>\n",
       "      <td>649</td>\n",
       "      <td>35</td>\n",
       "      <td>2</td>\n",
       "      <td>2</td>\n",
       "      <td>4</td>\n",
       "    </tr>\n",
       "    <tr>\n",
       "      <th>1</th>\n",
       "      <td>MCO</td>\n",
       "      <td>10:21 AM</td>\n",
       "      <td>-81.32472</td>\n",
       "      <td>CMH</td>\n",
       "      <td>39.99111</td>\n",
       "      <td>-82.87833</td>\n",
       "      <td>United States of America</td>\n",
       "      <td>United States of America</td>\n",
       "      <td>718</td>\n",
       "      <td>802</td>\n",
       "      <td>...</td>\n",
       "      <td>0</td>\n",
       "      <td>4</td>\n",
       "      <td>Y</td>\n",
       "      <td>138</td>\n",
       "      <td>4,140</td>\n",
       "      <td>0</td>\n",
       "      <td>40</td>\n",
       "      <td>3</td>\n",
       "      <td>2</td>\n",
       "      <td>5</td>\n",
       "    </tr>\n",
       "    <tr>\n",
       "      <th>2</th>\n",
       "      <td>ATL</td>\n",
       "      <td>3:22 PM</td>\n",
       "      <td>-84.42722</td>\n",
       "      <td>RDU</td>\n",
       "      <td>35.87528</td>\n",
       "      <td>-78.78194</td>\n",
       "      <td>United States of America</td>\n",
       "      <td>United States of America</td>\n",
       "      <td>1,798</td>\n",
       "      <td>356</td>\n",
       "      <td>...</td>\n",
       "      <td>0</td>\n",
       "      <td>16</td>\n",
       "      <td>Y</td>\n",
       "      <td>93</td>\n",
       "      <td>2,790</td>\n",
       "      <td>173</td>\n",
       "      <td>45</td>\n",
       "      <td>24</td>\n",
       "      <td>0</td>\n",
       "      <td>24</td>\n",
       "    </tr>\n",
       "    <tr>\n",
       "      <th>3</th>\n",
       "      <td>PHX</td>\n",
       "      <td>33.43611</td>\n",
       "      <td>-112.00944</td>\n",
       "      <td>PIT</td>\n",
       "      <td>40.49667</td>\n",
       "      <td>-80.23583</td>\n",
       "      <td>United States of America</td>\n",
       "      <td>United States of America</td>\n",
       "      <td>2,404</td>\n",
       "      <td>1,813</td>\n",
       "      <td>...</td>\n",
       "      <td>0</td>\n",
       "      <td>-15</td>\n",
       "      <td>Y</td>\n",
       "      <td>163</td>\n",
       "      <td>4,890</td>\n",
       "      <td>0</td>\n",
       "      <td>35</td>\n",
       "      <td>14</td>\n",
       "      <td>0</td>\n",
       "      <td>14</td>\n",
       "    </tr>\n",
       "    <tr>\n",
       "      <th>4</th>\n",
       "      <td>MCI</td>\n",
       "      <td>39.2975</td>\n",
       "      <td>-94.71389</td>\n",
       "      <td>ATL</td>\n",
       "      <td>33.64083</td>\n",
       "      <td>-84.42722</td>\n",
       "      <td>United States of America</td>\n",
       "      <td>United States of America</td>\n",
       "      <td>3,015</td>\n",
       "      <td>692</td>\n",
       "      <td>...</td>\n",
       "      <td>0</td>\n",
       "      <td>26</td>\n",
       "      <td>Y</td>\n",
       "      <td>69</td>\n",
       "      <td>2,070</td>\n",
       "      <td>5</td>\n",
       "      <td>30</td>\n",
       "      <td>7</td>\n",
       "      <td>12</td>\n",
       "      <td>18</td>\n",
       "    </tr>\n",
       "  </tbody>\n",
       "</table>\n",
       "<p>5 rows × 47 columns</p>\n",
       "</div>"
      ],
      "text/plain": [
       "  origin origin_latitude  origin_longitude destination  destination_latitude  \\\n",
       "0    FLL        26.07222         -80.15306         CMH              39.99111   \n",
       "1    MCO        10:21 AM         -81.32472         CMH              39.99111   \n",
       "2    ATL         3:22 PM         -84.42722         RDU              35.87528   \n",
       "3    PHX        33.43611        -112.00944         PIT              40.49667   \n",
       "4    MCI         39.2975         -94.71389         ATL              33.64083   \n",
       "\n",
       "   destination_longitude            origin_country       destination_country  \\\n",
       "0              -82.87833  United States of America  United States of America   \n",
       "1              -82.87833  United States of America  United States of America   \n",
       "2              -78.78194  United States of America  United States of America   \n",
       "3              -80.23583  United States of America  United States of America   \n",
       "4              -84.42722  United States of America  United States of America   \n",
       "\n",
       "  flight_number miles_flown     ...      weather_delay_minutes  \\\n",
       "0         3,133         972     ...                          0   \n",
       "1           718         802     ...                          0   \n",
       "2         1,798         356     ...                          0   \n",
       "3         2,404       1,813     ...                          0   \n",
       "4         3,015         692     ...                          0   \n",
       "\n",
       "   dot_delay_mins flt_attendant_change_ind  total_bags  bag_weight_total  \\\n",
       "0             -14                        Y         136             4,080   \n",
       "1               4                        Y         138             4,140   \n",
       "2              16                        Y          93             2,790   \n",
       "3             -15                        Y         163             4,890   \n",
       "4              26                        Y          69             2,070   \n",
       "\n",
       "   freight_weight_total scheduled_turn_minutes itins_in  itins_out  \\\n",
       "0                   649                     35        2          2   \n",
       "1                     0                     40        3          2   \n",
       "2                   173                     45       24          0   \n",
       "3                     0                     35       14          0   \n",
       "4                     5                     30        7         12   \n",
       "\n",
       "  itins_on_leg  \n",
       "0            4  \n",
       "1            5  \n",
       "2           24  \n",
       "3           14  \n",
       "4           18  \n",
       "\n",
       "[5 rows x 47 columns]"
      ]
     },
     "execution_count": 40,
     "metadata": {},
     "output_type": "execute_result"
    }
   ],
   "source": [
    "OnTime.head()"
   ]
  },
  {
   "cell_type": "code",
   "execution_count": 56,
   "metadata": {
    "collapsed": false
   },
   "outputs": [
    {
     "data": {
      "text/plain": [
       "origin                         object\n",
       "origin_latitude               float64\n",
       "origin_longitude              float64\n",
       "destination                    object\n",
       "destination_latitude          float64\n",
       "destination_longitude         float64\n",
       "origin_country                 object\n",
       "destination_country            object\n",
       "flight_number                  object\n",
       "miles_flown                    object\n",
       "departure_date                 object\n",
       "day_of_week                     int64\n",
       "flight_type_code               object\n",
       "flight_route_number             int64\n",
       "route_sequence_number           int64\n",
       "aircraft_type_cde               int64\n",
       "flight_cancellation_code       object\n",
       "alternate_airport              object\n",
       "push_delay_mins                 int64\n",
       "delay_type                     object\n",
       "delay_id                       object\n",
       "aircraft_seat_count             int64\n",
       "aircraft_tow_weight            object\n",
       "aircraft_landing_weight        object\n",
       "fuel_loaded                   float64\n",
       "central_scheduled_dep_time     object\n",
       "local_scheduled_dep_time       object\n",
       "central_scheduled_arr_time     object\n",
       "local_schedulced_arr_time      object\n",
       "total_passengers                int64\n",
       "local_passengers                int64\n",
       "connecting_passengers           int64\n",
       "thru_passengers                 int64\n",
       "unaccompanied_minors            int64\n",
       "total_nonrev_passengers         int64\n",
       "dot_security_delay_time         int64\n",
       "NAS_delay_minutes               int64\n",
       "weather_delay_minutes           int64\n",
       "dot_delay_mins                  int64\n",
       "flt_attendant_change_ind       object\n",
       "total_bags                      int64\n",
       "bag_weight_total               object\n",
       "freight_weight_total           object\n",
       "scheduled_turn_minutes          int64\n",
       "itins_in                        int64\n",
       "itins_out                       int64\n",
       "itins_on_leg                    int64\n",
       "PercentFull                   float64\n",
       "OnTimeIndicator                 int64\n",
       "dtype: object"
      ]
     },
     "execution_count": 56,
     "metadata": {},
     "output_type": "execute_result"
    }
   ],
   "source": [
    "OnTime.dtypes"
   ]
  },
  {
   "cell_type": "code",
   "execution_count": 42,
   "metadata": {
    "collapsed": false
   },
   "outputs": [
    {
     "name": "stderr",
     "output_type": "stream",
     "text": [
      "//anaconda/lib/python3.5/site-packages/ipykernel/__main__.py:2: FutureWarning: convert_objects is deprecated.  Use the data-type specific converters pd.to_datetime, pd.to_timedelta and pd.to_numeric.\n",
      "  from ipykernel import kernelapp as app\n"
     ]
    }
   ],
   "source": [
    "#some questionable data in origin_latitude, coerce it to float64\n",
    "OnTime['origin_latitude']=OnTime['origin_latitude'].convert_objects(convert_numeric=True)\n",
    "\n",
    "#This will create some NaN values where the total capacity of the plane is listed as 0\n",
    "OnTime['PercentFull']=OnTime['total_passengers']/OnTime['aircraft_seat_count']"
   ]
  },
  {
   "cell_type": "code",
   "execution_count": 58,
   "metadata": {
    "collapsed": false
   },
   "outputs": [
    {
     "data": {
      "text/plain": [
       "origin                         object\n",
       "origin_latitude               float64\n",
       "origin_longitude              float64\n",
       "destination                    object\n",
       "destination_latitude          float64\n",
       "destination_longitude         float64\n",
       "origin_country                 object\n",
       "destination_country            object\n",
       "flight_number                  object\n",
       "miles_flown                    object\n",
       "departure_date                 object\n",
       "day_of_week                     int64\n",
       "flight_type_code               object\n",
       "flight_route_number             int64\n",
       "route_sequence_number           int64\n",
       "aircraft_type_cde               int64\n",
       "flight_cancellation_code       object\n",
       "alternate_airport              object\n",
       "push_delay_mins                 int64\n",
       "delay_type                     object\n",
       "delay_id                       object\n",
       "aircraft_seat_count             int64\n",
       "aircraft_tow_weight            object\n",
       "aircraft_landing_weight        object\n",
       "fuel_loaded                   float64\n",
       "central_scheduled_dep_time     object\n",
       "local_scheduled_dep_time       object\n",
       "central_scheduled_arr_time     object\n",
       "local_schedulced_arr_time      object\n",
       "total_passengers                int64\n",
       "local_passengers                int64\n",
       "connecting_passengers           int64\n",
       "thru_passengers                 int64\n",
       "unaccompanied_minors            int64\n",
       "total_nonrev_passengers         int64\n",
       "dot_security_delay_time         int64\n",
       "NAS_delay_minutes               int64\n",
       "weather_delay_minutes           int64\n",
       "dot_delay_mins                  int64\n",
       "flt_attendant_change_ind       object\n",
       "total_bags                      int64\n",
       "bag_weight_total               object\n",
       "freight_weight_total           object\n",
       "scheduled_turn_minutes          int64\n",
       "itins_in                        int64\n",
       "itins_out                       int64\n",
       "itins_on_leg                    int64\n",
       "PercentFull                   float64\n",
       "OnTimeIndicator                 int64\n",
       "dtype: object"
      ]
     },
     "execution_count": 58,
     "metadata": {},
     "output_type": "execute_result"
    }
   ],
   "source": [
    "OnTime.dtypes"
   ]
  },
  {
   "cell_type": "code",
   "execution_count": 62,
   "metadata": {
    "collapsed": false
   },
   "outputs": [],
   "source": [
    "#Create indicator for ontime performance, where 1 = OnTime and 0 = LATE\n",
    "OnTime['OnTimeIndicator'] = np.where(OnTime['dot_delay_mins']>=0, 0, 1)\n",
    "\n",
    "#Need to fix the time of day first\n",
    "OnTime['local_scheduled_dep_time']=OnTime['local_scheduled_dep_time'].apply(locale.atoi)"
   ]
  },
  {
   "cell_type": "code",
   "execution_count": 64,
   "metadata": {
    "collapsed": false
   },
   "outputs": [],
   "source": [
    "#Need some Time of Day buckets\n",
    "OnTime['TimeBucket']=pd.cut(OnTime['local_scheduled_dep_time'],[0, 600, 1000, 1500, 2000, 2400],5, \n",
    "       labels=[\"PreDawn\", \"AMRush\", \"MidDay\", \"PMRush\", \"LateNight\"])"
   ]
  },
  {
   "cell_type": "code",
   "execution_count": 34,
   "metadata": {
    "collapsed": false
   },
   "outputs": [
    {
     "data": {
      "text/plain": [
       "0         1,205\n",
       "1           925\n",
       "2         2,200\n",
       "3         1,105\n",
       "4         1,825\n",
       "5           820\n",
       "6         2,220\n",
       "7         1,150\n",
       "8         1,655\n",
       "9           905\n",
       "10        1,635\n",
       "11        1,235\n",
       "12        1,430\n",
       "13        2,225\n",
       "14        1,005\n",
       "15        1,705\n",
       "16          745\n",
       "17        1,600\n",
       "18          850\n",
       "19        1,550\n",
       "20        1,145\n",
       "21        1,505\n",
       "22        1,405\n",
       "23        1,730\n",
       "24          615\n",
       "25        1,310\n",
       "26          725\n",
       "27        1,250\n",
       "28        1,900\n",
       "29          605\n",
       "          ...  \n",
       "112029    2,005\n",
       "112030    2,005\n",
       "112031    2,005\n",
       "112032      740\n",
       "112033    1,915\n",
       "112034      740\n",
       "112035      740\n",
       "112036      835\n",
       "112037      835\n",
       "112038    2,005\n",
       "112039    2,005\n",
       "112040    2,005\n",
       "112041    2,005\n",
       "112042    1,915\n",
       "112043    2,005\n",
       "112044      740\n",
       "112045      740\n",
       "112046      740\n",
       "112047      740\n",
       "112048      835\n",
       "112049      740\n",
       "112050      740\n",
       "112051    2,005\n",
       "112052    2,005\n",
       "112053      740\n",
       "112054    2,005\n",
       "112055      740\n",
       "112056    2,005\n",
       "112057    2,005\n",
       "112058    2,005\n",
       "Name: local_scheduled_dep_time, dtype: object"
      ]
     },
     "execution_count": 34,
     "metadata": {},
     "output_type": "execute_result"
    }
   ],
   "source": [
    "OnTime['local_scheduled_dep_time']"
   ]
  },
  {
   "cell_type": "code",
   "execution_count": 30,
   "metadata": {
    "collapsed": false
   },
   "outputs": [
    {
     "data": {
      "image/png": "[encoded data removed]",
      "text/plain": [
       "<matplotlib.figure.Figure at 0x118557630>"
      ]
     },
     "metadata": {},
     "output_type": "display_data"
    }
   ],
   "source": [
    "#show classes, we need to ensure there isn't a major class imbalance\n",
    "ax = sns.countplot(y =  OnTime['OnTimeIndicator'])"
   ]
  },
  {
   "cell_type": "markdown",
   "metadata": {},
   "source": [
    "There's a bit of class imbalance but probably not enough to worry about"
   ]
  },
  {
   "cell_type": "code",
   "execution_count": 65,
   "metadata": {
    "collapsed": false
   },
   "outputs": [],
   "source": [
    "#One Hot Encode any categorical variables\n",
    "#Definitely origin and destination variables\n",
    "#Aircraft Code\n",
    "\n",
    "cols_to_encode = ['origin', 'destination', 'aircraft_type_cde', 'day_of_week', 'TimeBucket']\n",
    "OnTime = pd.get_dummies(OnTime,columns = cols_to_encode)"
   ]
  },
  {
   "cell_type": "code",
   "execution_count": 67,
   "metadata": {
    "collapsed": false
   },
   "outputs": [
    {
     "data": {
      "text/plain": [
       "(112059, 257)"
      ]
     },
     "execution_count": 67,
     "metadata": {},
     "output_type": "execute_result"
    }
   ],
   "source": [
    "OnTime.dtypes\n",
    "OnTime.shape"
   ]
  },
  {
   "cell_type": "code",
   "execution_count": null,
   "metadata": {
    "collapsed": true
   },
   "outputs": [],
   "source": [
    "#Define our X and Y Sets\n",
    "\n",
    "#Y set: \n",
    "Y=OnTime['OnTimeIndicator']\n",
    "\n",
    "#X Set:\n",
    "\n"
   ]
  },
  {
   "cell_type": "code",
   "execution_count": null,
   "metadata": {
    "collapsed": true
   },
   "outputs": [],
   "source": [
    "#Naive Bayes"
   ]
  },
  {
   "cell_type": "code",
   "execution_count": null,
   "metadata": {
    "collapsed": true
   },
   "outputs": [],
   "source": [
    "#KNN\n",
    "\n",
    "%%time\n",
    "\n",
    "# setup pipeline to take PCA, then fit a KNN classifier\n",
    "clf_pipe = Pipeline(\n",
    "    [('PCA_Eric',PCA(n_components=300,svd_solver='randomized')),\n",
    "     ('CLF_Eric',KNeighborsClassifier(n_neighbors=1))]\n",
    ")\n",
    "\n",
    "# now iterate through and get predictions, saved to the correct row in yhat\n",
    "for train, test in cv.split(X,y):\n",
    "    clf_pipe.fit(X[train],y[train])\n",
    "    yhat[test] = clf_pipe.predict(X[test])\n",
    "\n",
    "total_accuracy = mt.accuracy_score(y, yhat)\n",
    "print ('KNN, pipeline accuracy', total_accuracy)"
   ]
  },
  {
   "cell_type": "code",
   "execution_count": null,
   "metadata": {
    "collapsed": true
   },
   "outputs": [],
   "source": [
    "#Random Forest"
   ]
  },
  {
   "cell_type": "code",
   "execution_count": null,
   "metadata": {
    "collapsed": true
   },
   "outputs": [],
   "source": []
  }
 ],
 "metadata": {
  "anaconda-cloud": {},
  "kernelspec": {
   "display_name": "Python [default]",
   "language": "python",
   "name": "python3"
  },
  "language_info": {
   "codemirror_mode": {
    "name": "ipython",
    "version": 3
   },
   "file_extension": ".py",
   "mimetype": "text/x-python",
   "name": "python",
   "nbconvert_exporter": "python",
   "pygments_lexer": "ipython3",
   "version": "3.5.2"
  }
 },
 "nbformat": 4,
 "nbformat_minor": 1
}
