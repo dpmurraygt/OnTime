{
 "cells": [
  {
   "cell_type": "markdown",
   "metadata": {},
   "source": [
    "# Project 2: Predicting Ontime Performance for Mystery Airline\n",
    "\n",
    "#### Dennis Murray and Alex Deshowitz\n",
    "#### MSDS ...\n"
   ]
  },
  {
   "cell_type": "markdown",
   "metadata": {},
   "source": [
    "## Data Dictionary\n",
    "\n",
    "#### Overview\n",
    "This dataset contains one month of flight(leg) level information for an airline.  This dataset was created with the intent to forecast ontime performance for an airline.  Ontime performance as defined by the US department of transportation as any flight arriving within 15 minutes of its scheduled arrival time in the destination city\n",
    "\n",
    "* **Origin** - The DOT airport code denoting the starting point of a flight leg (see link for list of codes:####)\n",
    "* **Destination** - The DOT airport code denoting the ending point of a flight leg.  This list contains the same values as the origin field as an origin can be a destination and a destination can be an origin.  All airlines serve markets in this fashion.  For example, if Delta Airlines serves ATL-MSY (Dallas-New Orleans), they also serve the market in the opposite direction: MSY-ATL. \n",
    "* **Market** - A market is any origin and destination pair.  For example: ATL-TPA is a market.  Airlines always serve markets in a balanced fashion.  This means that if the airline serves ATL-MSY 11 times a day, the airline also serves the MSY-ATL 11 times a day.  The airline can still arbitrage the capacity in directions which have imbalanced demand patterns via changes in aircraft size (gauge).  For instance, Delta may serve MSY-ATL with 11 regional jets and ATL-MSY with 11 Boeing 757s (considerably larger aircraft). However, most airlines use far more sophisticated methods.  Markets tend to have time of day seat (gauge) patterns that attempt to best match demand patterns.  This means that we expect to see markets with mixed gauge patterns throughout the day.\n",
    "* **Origin Latitude** - The latitude of the origin airport\n",
    "* **Origin Longitude** - The longitude of the origin airport\n",
    "* **Destination Latitude** - The latitude of the Destination airport\n",
    "* **Destination Longitude** - The longitude of the Destination airport\n",
    "* **Origin Country** - The country of origin for the flight leg.  Note that SJU (San Juan) is not included as international in this dataset per DOT specification.\n",
    "* **Origin Country** - The destination country for the flight leg.  Note that SJU (San Juan) is not included as international in this dataset per DOT specification.\n",
    "* **Flight Number** - Distinct number denoting a specific flight on a specific day.  While flight numbers can repeat on a day level, they cannot repeat at the same airport within 6 hours for obvious issues associated with the potential to have multiple flights in air with the same number at the same time from the same airline.  The number for scheduled flights ranges from 1-6999.  However, mistakes do happen, so it is best not to hard code filter any of these numbers.\n",
    "* **Miles Flown** - Great circle mileage calculation for miles flown.  Note that this does not vary by market as this is simply the scheduled mileage and does not take into account flight path diversions.\n",
    "* **Departure Date** - The date of departure between 5/1/2016 and 5/31/2016\n",
    "* **Day of Week** - The day of week that a flight departs with 1 being equivalent to Monday\n",
    "* **Flight Type Code** - One of 3 values indicating the flight type for DOT purposes.  This dataset was prefiltered to include only those types considered by the DOT for Ontime departures.\n",
    "    * **Blank Value**- Records that have no value for the flight type code were scheduled flights that flew as scheduled\n",
    "    * **Code S**- Records with flight type code S represent stub originator flights.  Stub originators are flights that were not scheduled to be originators on the flight line, but had an aircraft swap that made the route appear to have multiple orginator flights.  An originator is an aircraft's first flight of the day.  On average, aircraft in this dataset fly 6 flight legs per day.  A flight line could have both an originator and a stub originator with the given scenario.  Flight 1 on flight line number 150 from DAL-HOU departed HOU at 6am, and arrived in DAL at 7am.  The aircraft on flight route 150 was scheduled to continue on from HOU to ATL at 9am.  However, another flight line, say line 200, that was supposed to begin its day flying HOU-MCO at 8am had an aircraft go down for maintenance.  This line now has no aircraft to fly.  The dispatchers may decide that the aircraft on line 150 can take over line 200 and the aircraft on line 200 can take over line 150 because it leaves later and the maintenance issue can be fixed in time for the 9am HOU-ATL flight.  The flight that takes over line 150 is now considered a stub originator, flight type code 's.'  \n",
    "    * **Code X**- Flight type code X denotes a flight that was cancelled.  Due to the sparse nature of the attributes in this dataset, we will calculate OTP with \n",
    "* **Flight Route Number**: The route number denotes an aircraft's line of flying for the day.  These will repeat for a given aircraft for a day for all flights in the flight line.\n",
    "* **Route Sequence Number**: A number between 1 and 10 that denotes the aircraft's leg number on the flight line.\n",
    "* **Aircraft Type Code** : The type of aircraft flying the flight.  All aircraft in this dataset are Boeing 737 variants\n",
    "    *  WIll come back and fill these in later.  May need to change in the dataset.\n",
    "* **Flight Cancellation code**: Code denoting the cancellation reason if the flight is cancelled.  Unlikely to use this for predictive purposes.\n",
    "* **Alternate Airport**: If a flight has to divert for any reason to a different airport, this field will show the airport code where the aircraft landed\n",
    "* **Push Delay Mins**: The number of minutes after the scheduled departure time that the aircraft pushed from the gate.  This is not used by the DOT.\n",
    "* **Delay Type**: When a flight takes any type of departure delay, the departure station codes a reason for the delay.  The most common codes are : HD- some sort of hold, OP - operational, WX - weather, IF - inflight\n",
    "* **Aircraft Tow Weight**: The weight of the aircraft prior to departure\n",
    "* **Aicraft Landing Weight**: The standard landing weight of the aircraft.  This landing weight is aircraft specific and used for calculating landing fees at the destination airport.\n",
    "* **Fuel Loaded**: Weight of the fuel loaded in thousands of pounds\n",
    "* **Central Scheduled Departure Time**: Scheduled departure time of the aircraft in Central time.  \n",
    "* **Local Scheduled Departure Time**: Scheduled departure time of the aircraft in Local time.  \n",
    "* **Central Scheduled Arrival Time**: Scheduled arrival time of the aircraft in Central time. \n",
    "* **Local Scheduled Arrival Time**: Scheduled arrival time of the aircraft in Local time. \n",
    "* **Total Passengers**: Total number of people onboard the aircraft\n",
    "* **Local Passengers**: The number of passengers traveling nonstop on the flight.  These people are not and will not be making a connection.\n",
    "* **Connect Passengers**: The number of passengers making a connection at some point in their itinerary.\n",
    "* **Thru Passengers**: The number of passengers onboard the aircraft who had flown on a previous flight on that aircraft and rather than making a connection stay on the aircraft.\n",
    "* **Unaccompanied Minors**: The count of minors of age 5-11 not traveling with someone else at least age 12 or greater.\n",
    "* **Total Nonrev Passengers**: The number of passengers onboard not paying a fare.  The individuals could be employees travleing for work or leisure, companion passholders, guest pass users, etc.\n",
    "* **DOT Security Delay Time**: The delay time accounted for by security backups\n",
    "* **NAS Delay Minutes**: The number of delay minutes due to National Airspace issues.\n",
    "* **Weather Delay Minutes**: Delay minutes attributed to weather issues\n",
    "* **DOT Delay Minutes**: Difference between actual arrival time and the scheduled arrival time.\n",
    "* **Flight attendant change Indicator**: Field indicating whether there was a crew change for the flight attendants on a flight\n",
    "* **Total Bags** : The number of checked bags on the flight\n",
    "* **Bag Weight**: The weight of the bags on the flight\n",
    "* **Freight Weight Total**: The weight of the total freight onboard the aircraft\n",
    "* **Scheduled Turn Minutes**: The scheduled amount of time in the origin city that the ground grew has to unload passengers and bags, load passengers and bags, refuel, restock, and prep the plane for the next departure.\n",
    "* ** Itins In**: The total number of itineraries scheduled that could have inbound connections on the leg.  \n",
    "* ** Itins Out**: The total number of itineraries that the flight connects to\n",
    "* ** Total Itins on Leg**: The total number of possible itineraries on the flight leg.  This number is not necessarily the aggregation of itins in and itins out.  There are nuances that can cause this number to be slightly higher or lower since an itin in can also be an itin out.\n",
    "\n"
   ]
  },
  {
   "cell_type": "markdown",
   "metadata": {},
   "source": [
    "# Classification Overview \n",
    "\n",
    "This project seeks to classify 2 main objectives:\n",
    "    * Ontime performance Percentage as defined by the DOT\n",
    "    * D0 percentage - The Precentage of time a flight departs ontime"
   ]
  },
  {
   "cell_type": "code",
   "execution_count": 23,
   "metadata": {
    "collapsed": false
   },
   "outputs": [],
   "source": [
    "# import packages\n",
    "\n",
    "import pandas as pd\n",
    "import seaborn as sns\n",
    "import numpy as np\n",
    "import matplotlib.pyplot as plt\n",
    "import scipy.stats \n",
    "import sklearn as sk\n",
    "import statsmodels.api as sm\n",
    "#import statsmodels.formula.api as smf\n",
    "from statsmodels.stats.outliers_influence import variance_inflation_factor\n",
    "\n",
    "import pandas as pd\n",
    "from pandas.tools.plotting import scatter_plot\n",
    "from pandas.tools.plotting import scatter_matrix\n",
    "\n",
    "from sklearn.preprocessing import scale, StandardScaler\n",
    "from sklearn import preprocessing, cross_validation, svm\n",
    "from sklearn.linear_model import LinearRegression, Lasso, Lars, SGDRegressor\n",
    "\n",
    "from sklearn.decomposition import PCA \n",
    "from sklearn.cluster import KMeans\n",
    "from sklearn.neighbors import KNeighborsRegressor\n",
    "from sklearn.pipeline import Pipeline\n",
    "from sklearn.neighbors import KNeighborsClassifier\n",
    "#from sklearn.model_selection import StratifiedKFold\n",
    "from sklearn.preprocessing import StandardScaler\n",
    "import numpy as np\n",
    "from sklearn import metrics as mt\n",
    "\n",
    "\n",
    "import locale\n",
    "locale.setlocale( locale.LC_ALL, 'en_US.UTF-8' ) \n",
    "\n",
    "from pandas.tools.plotting import scatter_matrix\n",
    "\n",
    "from sklearn.svm import SVR\n",
    "from sklearn.feature_selection import RFE, RFECV\n",
    "\n",
    "from sklearn.decomposition import PCA \n",
    "from sklearn.pipeline import Pipeline\n",
    "\n",
    "\n",
    "#configure the random seed so we our randomness is reproducible for selection of learn/test sets\n",
    "np.random.seed(0)\n",
    "\n",
    "%matplotlib inline"
   ]
  },
  {
   "cell_type": "markdown",
   "metadata": {},
   "source": [
    "## Data Definitions"
   ]
  },
  {
   "cell_type": "code",
   "execution_count": 24,
   "metadata": {
    "collapsed": false
   },
   "outputs": [],
   "source": [
    "#read in the data file\n",
    "OnTime=pd.read_csv(\"Data/20170112_DataMiningI_TestDataSet_v01.csv\", header=0)"
   ]
  },
  {
   "cell_type": "code",
   "execution_count": 25,
   "metadata": {
    "collapsed": false
   },
   "outputs": [
    {
     "data": {
      "text/plain": [
       "origin                         object\n",
       "origin_latitude               float64\n",
       "origin_longitude              float64\n",
       "destination                    object\n",
       "destination_latitude          float64\n",
       "destination_longitude         float64\n",
       "origin_country                 object\n",
       "destination_country            object\n",
       "flight_number                  object\n",
       "miles_flown                    object\n",
       "departure_date                 object\n",
       "day_of_week                     int64\n",
       "flight_type_code               object\n",
       "flight_route_number             int64\n",
       "route_sequence_number           int64\n",
       "aircraft_type_cde               int64\n",
       "flight_cancellation_code       object\n",
       "alternate_airport              object\n",
       "push_delay_mins                 int64\n",
       "delay_type                     object\n",
       "delay_id                       object\n",
       "aircraft_seat_count             int64\n",
       "aircraft_tow_weight            object\n",
       "aircraft_landing_weight        object\n",
       "fuel_loaded                   float64\n",
       "central_scheduled_dep_time     object\n",
       "local_scheduled_dep_time       object\n",
       "central_scheduled_arr_time     object\n",
       "local_schedulced_arr_time      object\n",
       "total_passengers                int64\n",
       "local_passengers                int64\n",
       "connecting_passengers           int64\n",
       "thru_passengers                 int64\n",
       "unaccompanied_minors            int64\n",
       "total_nonrev_passengers         int64\n",
       "dot_security_delay_time         int64\n",
       "NAS_delay_minutes               int64\n",
       "weather_delay_minutes           int64\n",
       "dot_delay_mins                  int64\n",
       "flt_attendant_change_ind       object\n",
       "total_bags                      int64\n",
       "bag_weight_total               object\n",
       "freight_weight_total           object\n",
       "scheduled_turn_minutes          int64\n",
       "itins_in                        int64\n",
       "itins_out                       int64\n",
       "itins_on_leg                    int64\n",
       "dtype: object"
      ]
     },
     "execution_count": 25,
     "metadata": {},
     "output_type": "execute_result"
    }
   ],
   "source": [
    "OnTime.dtypes"
   ]
  },
  {
   "cell_type": "code",
   "execution_count": 26,
   "metadata": {
    "collapsed": false,
    "scrolled": true
   },
   "outputs": [
    {
     "data": {
      "text/plain": [
       "count     112059\n",
       "unique         3\n",
       "top             \n",
       "freq      110711\n",
       "Name: flight_type_code, dtype: object"
      ]
     },
     "execution_count": 26,
     "metadata": {},
     "output_type": "execute_result"
    }
   ],
   "source": [
    "OnTime['flight_type_code'].describe()"
   ]
  },
  {
   "cell_type": "code",
   "execution_count": 27,
   "metadata": {
    "collapsed": false,
    "scrolled": true
   },
   "outputs": [
    {
     "data": {
      "text/plain": [
       "origin                         object\n",
       "origin_latitude               float64\n",
       "origin_longitude              float64\n",
       "destination                    object\n",
       "destination_latitude          float64\n",
       "destination_longitude         float64\n",
       "origin_country                 object\n",
       "destination_country            object\n",
       "flight_number                  object\n",
       "miles_flown                    object\n",
       "departure_date                 object\n",
       "day_of_week                     int64\n",
       "flight_type_code               object\n",
       "flight_route_number             int64\n",
       "route_sequence_number           int64\n",
       "aircraft_type_cde               int64\n",
       "flight_cancellation_code       object\n",
       "alternate_airport              object\n",
       "push_delay_mins                 int64\n",
       "delay_type                     object\n",
       "delay_id                       object\n",
       "aircraft_seat_count             int64\n",
       "aircraft_tow_weight            object\n",
       "aircraft_landing_weight        object\n",
       "fuel_loaded                   float64\n",
       "central_scheduled_dep_time     object\n",
       "local_scheduled_dep_time       object\n",
       "central_scheduled_arr_time     object\n",
       "local_schedulced_arr_time      object\n",
       "total_passengers                int64\n",
       "local_passengers                int64\n",
       "connecting_passengers           int64\n",
       "thru_passengers                 int64\n",
       "unaccompanied_minors            int64\n",
       "total_nonrev_passengers         int64\n",
       "dot_security_delay_time         int64\n",
       "NAS_delay_minutes               int64\n",
       "weather_delay_minutes           int64\n",
       "dot_delay_mins                  int64\n",
       "flt_attendant_change_ind       object\n",
       "total_bags                      int64\n",
       "bag_weight_total               object\n",
       "freight_weight_total           object\n",
       "scheduled_turn_minutes          int64\n",
       "itins_in                        int64\n",
       "itins_out                       int64\n",
       "itins_on_leg                    int64\n",
       "dtype: object"
      ]
     },
     "execution_count": 27,
     "metadata": {},
     "output_type": "execute_result"
    }
   ],
   "source": [
    "OnTime.dtypes"
   ]
  },
  {
   "cell_type": "markdown",
   "metadata": {},
   "source": [
    "# Data Cleaning"
   ]
  },
  {
   "cell_type": "markdown",
   "metadata": {},
   "source": [
    "The first thing we want to get rid of in this dataset is cancelled flights.  While a cancelled flight is technically not considered ontime, the data in this set is too sparse to forecast cancellations. we would need more data to be able to forecast cancellations"
   ]
  },
  {
   "cell_type": "code",
   "execution_count": 28,
   "metadata": {
    "collapsed": false
   },
   "outputs": [
    {
     "data": {
      "text/plain": [
       "1004"
      ]
     },
     "execution_count": 28,
     "metadata": {},
     "output_type": "execute_result"
    }
   ],
   "source": [
    "len(OnTime) - len(OnTime.loc[OnTime['flight_type_code']!= 'X'])"
   ]
  },
  {
   "cell_type": "markdown",
   "metadata": {},
   "source": [
    "looks like we are filtering out about 1004 records"
   ]
  },
  {
   "cell_type": "code",
   "execution_count": 29,
   "metadata": {
    "collapsed": true
   },
   "outputs": [],
   "source": [
    "OnTime = OnTime.loc[OnTime['flight_type_code']!= 'X']"
   ]
  },
  {
   "cell_type": "code",
   "execution_count": 30,
   "metadata": {
    "collapsed": false
   },
   "outputs": [
    {
     "data": {
      "text/plain": [
       "count     111055\n",
       "unique         2\n",
       "top             \n",
       "freq      110711\n",
       "Name: flight_type_code, dtype: object"
      ]
     },
     "execution_count": 30,
     "metadata": {},
     "output_type": "execute_result"
    }
   ],
   "source": [
    "OnTime['flight_type_code'].describe()"
   ]
  },
  {
   "cell_type": "markdown",
   "metadata": {},
   "source": [
    "Now we have a dataset that excludes those sparse records."
   ]
  },
  {
   "cell_type": "code",
   "execution_count": 31,
   "metadata": {
    "collapsed": false
   },
   "outputs": [
    {
     "name": "stdout",
     "output_type": "stream",
     "text": [
      "0    3.0\n",
      "1    2.0\n",
      "2    7.0\n",
      "3    3.0\n",
      "4    6.0\n",
      "Name: route_sequence_number, dtype: float64\n"
     ]
    }
   ],
   "source": [
    "# need to fix route sequence number\n",
    "\n",
    "#print(OnTime['route_sequence_number'].unique(), (OnTime['route_sequence_number']/100000000).unique())\n",
    "\n",
    "print((OnTime['route_sequence_number']/100000000).head())"
   ]
  },
  {
   "cell_type": "code",
   "execution_count": 32,
   "metadata": {
    "collapsed": false
   },
   "outputs": [
    {
     "name": "stdout",
     "output_type": "stream",
     "text": [
      "0    3.0\n",
      "1    2.0\n",
      "2    7.0\n",
      "3    3.0\n",
      "4    6.0\n",
      "Name: route_sequence_number, dtype: float64 [  3.   2.   7.   6.   1.   5.   4.   9.  10.   8.]\n"
     ]
    }
   ],
   "source": [
    "OnTime['route_sequence_number'] = OnTime['route_sequence_number']/100000000\n",
    "\n",
    "print(OnTime['route_sequence_number'].head(), OnTime['route_sequence_number'].unique())\n"
   ]
  },
  {
   "cell_type": "code",
   "execution_count": 33,
   "metadata": {
    "collapsed": false
   },
   "outputs": [
    {
     "data": {
      "image/png": "[encoded data removed]",
      "text/plain": [
       "<matplotlib.figure.Figure at 0x125e545c0>"
      ]
     },
     "metadata": {},
     "output_type": "display_data"
    }
   ],
   "source": [
    "\n",
    "\n",
    "ax  = sns.countplot(OnTime['route_sequence_number'])\n",
    "ax = plt.ylabel('Route Sequence Number Count')\n",
    "ax = plt.xlabel('Route Sequence Number')"
   ]
  },
  {
   "cell_type": "markdown",
   "metadata": {},
   "source": [
    "The countplots look good with the removal of the cancelled flights.  Previously, we had some route sequence numbers >10.  This is not possible, because the most legs a line can contain in this dataset is 10"
   ]
  },
  {
   "cell_type": "code",
   "execution_count": 34,
   "metadata": {
    "collapsed": false
   },
   "outputs": [],
   "source": [
    "#Create indicator for ontime performance, where 1 = OnTime and 0 = LATE\n",
    "OnTime['OnTimeIndicator'] = np.where(OnTime['dot_delay_mins']>=15, 0, 1)\n",
    "\n",
    "#Need to fix the time of day first\n",
    "OnTime['local_scheduled_dep_time']=OnTime['local_scheduled_dep_time'].apply(locale.atoi)\n",
    "\n",
    "#Fix weight fields to be numeric\n",
    "OnTime['bag_weight_total']=OnTime['bag_weight_total'].apply(locale.atoi)\n",
    "OnTime['freight_weight_total']=OnTime['freight_weight_total'].apply(locale.atoi)\n",
    "OnTime['aircraft_landing_weight']=OnTime['aircraft_landing_weight'].apply(locale.atoi)\n",
    "OnTime['aircraft_tow_weight']=OnTime['aircraft_tow_weight'].apply(locale.atoi)\n",
    "OnTime['miles_flown']=OnTime['miles_flown'].apply(locale.atoi)\n"
   ]
  },
  {
   "cell_type": "code",
   "execution_count": 35,
   "metadata": {
    "collapsed": false
   },
   "outputs": [],
   "source": [
    "#Need some Time of Day buckets\n",
    "OnTime['TimeBucket']=pd.cut(OnTime['local_scheduled_dep_time'],[0, 600, 1000, 1500, 2000, 2400],5, \n",
    "       labels=[\"PreDawn\", \"AMRush\", \"MidDay\", \"PMRush\", \"LateNight\"])\n",
    "\n",
    "#Need an \"International\" code\n",
    "OnTime['International'] = np.where(OnTime['origin_country']!=OnTime['destination_country'], 1, 0)"
   ]
  },
  {
   "cell_type": "code",
   "execution_count": 36,
   "metadata": {
    "collapsed": false
   },
   "outputs": [
    {
     "name": "stdout",
     "output_type": "stream",
     "text": [
      "0         United States of America\n",
      "1         United States of America\n",
      "2         United States of America\n",
      "3         United States of America\n",
      "4         United States of America\n",
      "5         United States of America\n",
      "6         United States of America\n",
      "7         United States of America\n",
      "8         United States of America\n",
      "9         United States of America\n",
      "10        United States of America\n",
      "11        United States of America\n",
      "12        United States of America\n",
      "13        United States of America\n",
      "14        United States of America\n",
      "15        United States of America\n",
      "16        United States of America\n",
      "17        United States of America\n",
      "18        United States of America\n",
      "19        United States of America\n",
      "20        United States of America\n",
      "21        United States of America\n",
      "22        United States of America\n",
      "23        United States of America\n",
      "24        United States of America\n",
      "25        United States of America\n",
      "26        United States of America\n",
      "27        United States of America\n",
      "28        United States of America\n",
      "29        United States of America\n",
      "                    ...           \n",
      "112029    United States of America\n",
      "112030    United States of America\n",
      "112031    United States of America\n",
      "112032    United States of America\n",
      "112033    United States of America\n",
      "112034    United States of America\n",
      "112035    United States of America\n",
      "112036    United States of America\n",
      "112037    United States of America\n",
      "112038    United States of America\n",
      "112039    United States of America\n",
      "112040    United States of America\n",
      "112041    United States of America\n",
      "112042    United States of America\n",
      "112043    United States of America\n",
      "112044    United States of America\n",
      "112045    United States of America\n",
      "112046    United States of America\n",
      "112047    United States of America\n",
      "112048    United States of America\n",
      "112049    United States of America\n",
      "112050    United States of America\n",
      "112051    United States of America\n",
      "112052    United States of America\n",
      "112053    United States of America\n",
      "112054    United States of America\n",
      "112055    United States of America\n",
      "112056    United States of America\n",
      "112057    United States of America\n",
      "112058    United States of America\n",
      "Name: origin_country, dtype: object 0         United States of America\n",
      "1         United States of America\n",
      "2         United States of America\n",
      "3         United States of America\n",
      "4         United States of America\n",
      "5         United States of America\n",
      "6         United States of America\n",
      "7         United States of America\n",
      "8         United States of America\n",
      "9                       Costa Rica\n",
      "10        United States of America\n",
      "11        United States of America\n",
      "12        United States of America\n",
      "13        United States of America\n",
      "14        United States of America\n",
      "15        United States of America\n",
      "16        United States of America\n",
      "17        United States of America\n",
      "18        United States of America\n",
      "19        United States of America\n",
      "20                          Mexico\n",
      "21        United States of America\n",
      "22        United States of America\n",
      "23        United States of America\n",
      "24        United States of America\n",
      "25        United States of America\n",
      "26        United States of America\n",
      "27        United States of America\n",
      "28        United States of America\n",
      "29        United States of America\n",
      "                    ...           \n",
      "112029    United States of America\n",
      "112030    United States of America\n",
      "112031    United States of America\n",
      "112032    United States of America\n",
      "112033    United States of America\n",
      "112034    United States of America\n",
      "112035    United States of America\n",
      "112036    United States of America\n",
      "112037    United States of America\n",
      "112038    United States of America\n",
      "112039    United States of America\n",
      "112040    United States of America\n",
      "112041    United States of America\n",
      "112042    United States of America\n",
      "112043    United States of America\n",
      "112044    United States of America\n",
      "112045    United States of America\n",
      "112046    United States of America\n",
      "112047    United States of America\n",
      "112048    United States of America\n",
      "112049    United States of America\n",
      "112050    United States of America\n",
      "112051    United States of America\n",
      "112052    United States of America\n",
      "112053    United States of America\n",
      "112054    United States of America\n",
      "112055    United States of America\n",
      "112056    United States of America\n",
      "112057    United States of America\n",
      "112058    United States of America\n",
      "Name: destination_country, dtype: object 0         0\n",
      "1         0\n",
      "2         0\n",
      "3         0\n",
      "4         0\n",
      "5         0\n",
      "6         0\n",
      "7         0\n",
      "8         0\n",
      "9         1\n",
      "10        0\n",
      "11        0\n",
      "12        0\n",
      "13        0\n",
      "14        0\n",
      "15        0\n",
      "16        0\n",
      "17        0\n",
      "18        0\n",
      "19        0\n",
      "20        1\n",
      "21        0\n",
      "22        0\n",
      "23        0\n",
      "24        0\n",
      "25        0\n",
      "26        0\n",
      "27        0\n",
      "28        0\n",
      "29        0\n",
      "         ..\n",
      "112029    0\n",
      "112030    0\n",
      "112031    0\n",
      "112032    0\n",
      "112033    0\n",
      "112034    0\n",
      "112035    0\n",
      "112036    0\n",
      "112037    0\n",
      "112038    0\n",
      "112039    0\n",
      "112040    0\n",
      "112041    0\n",
      "112042    0\n",
      "112043    0\n",
      "112044    0\n",
      "112045    0\n",
      "112046    0\n",
      "112047    0\n",
      "112048    0\n",
      "112049    0\n",
      "112050    0\n",
      "112051    0\n",
      "112052    0\n",
      "112053    0\n",
      "112054    0\n",
      "112055    0\n",
      "112056    0\n",
      "112057    0\n",
      "112058    0\n",
      "Name: International, dtype: int64\n"
     ]
    }
   ],
   "source": [
    "print(OnTime['origin_country'], OnTime['destination_country'], OnTime['International'])"
   ]
  },
  {
   "cell_type": "code",
   "execution_count": 37,
   "metadata": {
    "collapsed": false
   },
   "outputs": [
    {
     "data": {
      "image/png": "[encoded data removed]",
      "text/plain": [
       "<matplotlib.figure.Figure at 0x118c0f550>"
      ]
     },
     "metadata": {},
     "output_type": "display_data"
    }
   ],
   "source": [
    "#show classes, we need to ensure there isn't a major class imbalance\n",
    "ax = sns.countplot(y =  OnTime['OnTimeIndicator'])"
   ]
  },
  {
   "cell_type": "markdown",
   "metadata": {},
   "source": [
    "This is actually probably a big enough class imbalance that we need to address it and possibly boost for late flights."
   ]
  },
  {
   "cell_type": "code",
   "execution_count": 38,
   "metadata": {
    "collapsed": false
   },
   "outputs": [
    {
     "data": {
      "text/plain": [
       "array(['origin', 'origin_latitude', 'origin_longitude', 'destination',\n",
       "       'destination_latitude', 'destination_longitude', 'origin_country',\n",
       "       'destination_country', 'flight_number', 'miles_flown',\n",
       "       'departure_date', 'day_of_week', 'flight_type_code',\n",
       "       'flight_route_number', 'route_sequence_number', 'aircraft_type_cde',\n",
       "       'flight_cancellation_code', 'alternate_airport', 'push_delay_mins',\n",
       "       'delay_type', 'delay_id', 'aircraft_seat_count',\n",
       "       'aircraft_tow_weight', 'aircraft_landing_weight', 'fuel_loaded',\n",
       "       'central_scheduled_dep_time', 'local_scheduled_dep_time',\n",
       "       'central_scheduled_arr_time', 'local_schedulced_arr_time',\n",
       "       'total_passengers', 'local_passengers', 'connecting_passengers',\n",
       "       'thru_passengers', 'unaccompanied_minors',\n",
       "       'total_nonrev_passengers', 'dot_security_delay_time',\n",
       "       'NAS_delay_minutes', 'weather_delay_minutes', 'dot_delay_mins',\n",
       "       'flt_attendant_change_ind', 'total_bags', 'bag_weight_total',\n",
       "       'freight_weight_total', 'scheduled_turn_minutes', 'itins_in',\n",
       "       'itins_out', 'itins_on_leg', 'OnTimeIndicator', 'TimeBucket',\n",
       "       'International'], dtype=object)"
      ]
     },
     "execution_count": 38,
     "metadata": {},
     "output_type": "execute_result"
    }
   ],
   "source": [
    "OnTime.columns.values"
   ]
  },
  {
   "cell_type": "code",
   "execution_count": 39,
   "metadata": {
    "collapsed": false
   },
   "outputs": [],
   "source": [
    "#One Hot Encode any categorical variables\n",
    "#Definitely origin and destination variables\n",
    "#Aircraft Code\n",
    "\n",
    "cols_to_encode = ['origin', 'destination', 'aircraft_type_cde', 'day_of_week', 'TimeBucket', \n",
    "                  'flight_type_code', 'flt_attendant_change_ind', 'International', 'delay_type', 'delay_id']\n",
    "OnTime = pd.get_dummies(OnTime,columns = cols_to_encode)"
   ]
  },
  {
   "cell_type": "code",
   "execution_count": 51,
   "metadata": {
    "collapsed": false,
    "scrolled": false
   },
   "outputs": [
    {
     "data": {
      "text/html": [
       "<div>\n",
       "<table border=\"1\" class=\"dataframe\">\n",
       "  <thead>\n",
       "    <tr style=\"text-align: right;\">\n",
       "      <th></th>\n",
       "      <th>origin_latitude</th>\n",
       "      <th>origin_longitude</th>\n",
       "      <th>destination_latitude</th>\n",
       "      <th>destination_longitude</th>\n",
       "      <th>miles_flown</th>\n",
       "      <th>flight_route_number</th>\n",
       "      <th>route_sequence_number</th>\n",
       "      <th>push_delay_mins</th>\n",
       "      <th>aircraft_seat_count</th>\n",
       "      <th>aircraft_tow_weight</th>\n",
       "      <th>...</th>\n",
       "      <th>delay_id_15</th>\n",
       "      <th>delay_id_16</th>\n",
       "      <th>delay_id_2</th>\n",
       "      <th>delay_id_3</th>\n",
       "      <th>delay_id_4</th>\n",
       "      <th>delay_id_5</th>\n",
       "      <th>delay_id_6</th>\n",
       "      <th>delay_id_7</th>\n",
       "      <th>delay_id_8</th>\n",
       "      <th>delay_id_9</th>\n",
       "    </tr>\n",
       "  </thead>\n",
       "  <tbody>\n",
       "    <tr>\n",
       "      <th>count</th>\n",
       "      <td>111055.000000</td>\n",
       "      <td>111055.000000</td>\n",
       "      <td>111055.000000</td>\n",
       "      <td>111055.000000</td>\n",
       "      <td>111055.000000</td>\n",
       "      <td>111055.000000</td>\n",
       "      <td>111055.000000</td>\n",
       "      <td>111055.000000</td>\n",
       "      <td>111055.000000</td>\n",
       "      <td>111055.000000</td>\n",
       "      <td>...</td>\n",
       "      <td>111055.000000</td>\n",
       "      <td>111055.000000</td>\n",
       "      <td>111055.000000</td>\n",
       "      <td>111055.000000</td>\n",
       "      <td>111055.000000</td>\n",
       "      <td>111055.000000</td>\n",
       "      <td>111055.000000</td>\n",
       "      <td>111055.000000</td>\n",
       "      <td>111055.000000</td>\n",
       "      <td>111055.000000</td>\n",
       "    </tr>\n",
       "    <tr>\n",
       "      <th>mean</th>\n",
       "      <td>36.000711</td>\n",
       "      <td>-97.204804</td>\n",
       "      <td>36.003330</td>\n",
       "      <td>-97.208694</td>\n",
       "      <td>760.316618</td>\n",
       "      <td>312.861069</td>\n",
       "      <td>3.527720</td>\n",
       "      <td>3.829841</td>\n",
       "      <td>146.832687</td>\n",
       "      <td>129827.855009</td>\n",
       "      <td>...</td>\n",
       "      <td>0.000135</td>\n",
       "      <td>0.000468</td>\n",
       "      <td>0.033380</td>\n",
       "      <td>0.046499</td>\n",
       "      <td>0.034325</td>\n",
       "      <td>0.005214</td>\n",
       "      <td>0.024204</td>\n",
       "      <td>0.006231</td>\n",
       "      <td>0.000495</td>\n",
       "      <td>0.001306</td>\n",
       "    </tr>\n",
       "    <tr>\n",
       "      <th>std</th>\n",
       "      <td>5.055974</td>\n",
       "      <td>16.076966</td>\n",
       "      <td>5.059994</td>\n",
       "      <td>16.090650</td>\n",
       "      <td>464.998176</td>\n",
       "      <td>181.796940</td>\n",
       "      <td>1.931696</td>\n",
       "      <td>13.977466</td>\n",
       "      <td>11.447985</td>\n",
       "      <td>12730.636376</td>\n",
       "      <td>...</td>\n",
       "      <td>0.011621</td>\n",
       "      <td>0.021634</td>\n",
       "      <td>0.179627</td>\n",
       "      <td>0.210565</td>\n",
       "      <td>0.182064</td>\n",
       "      <td>0.072017</td>\n",
       "      <td>0.153683</td>\n",
       "      <td>0.078692</td>\n",
       "      <td>0.022249</td>\n",
       "      <td>0.036110</td>\n",
       "    </tr>\n",
       "    <tr>\n",
       "      <th>min</th>\n",
       "      <td>9.992500</td>\n",
       "      <td>-122.595000</td>\n",
       "      <td>9.992500</td>\n",
       "      <td>-122.595000</td>\n",
       "      <td>137.000000</td>\n",
       "      <td>1.000000</td>\n",
       "      <td>1.000000</td>\n",
       "      <td>0.000000</td>\n",
       "      <td>122.000000</td>\n",
       "      <td>85948.000000</td>\n",
       "      <td>...</td>\n",
       "      <td>0.000000</td>\n",
       "      <td>0.000000</td>\n",
       "      <td>0.000000</td>\n",
       "      <td>0.000000</td>\n",
       "      <td>0.000000</td>\n",
       "      <td>0.000000</td>\n",
       "      <td>0.000000</td>\n",
       "      <td>0.000000</td>\n",
       "      <td>0.000000</td>\n",
       "      <td>0.000000</td>\n",
       "    </tr>\n",
       "    <tr>\n",
       "      <th>25%</th>\n",
       "      <td>32.846940</td>\n",
       "      <td>-115.158890</td>\n",
       "      <td>32.846940</td>\n",
       "      <td>-115.158890</td>\n",
       "      <td>377.000000</td>\n",
       "      <td>158.000000</td>\n",
       "      <td>2.000000</td>\n",
       "      <td>0.000000</td>\n",
       "      <td>143.000000</td>\n",
       "      <td>121745.000000</td>\n",
       "      <td>...</td>\n",
       "      <td>0.000000</td>\n",
       "      <td>0.000000</td>\n",
       "      <td>0.000000</td>\n",
       "      <td>0.000000</td>\n",
       "      <td>0.000000</td>\n",
       "      <td>0.000000</td>\n",
       "      <td>0.000000</td>\n",
       "      <td>0.000000</td>\n",
       "      <td>0.000000</td>\n",
       "      <td>0.000000</td>\n",
       "    </tr>\n",
       "    <tr>\n",
       "      <th>50%</th>\n",
       "      <td>36.079720</td>\n",
       "      <td>-95.278610</td>\n",
       "      <td>36.079720</td>\n",
       "      <td>-95.278610</td>\n",
       "      <td>650.000000</td>\n",
       "      <td>316.000000</td>\n",
       "      <td>3.000000</td>\n",
       "      <td>0.000000</td>\n",
       "      <td>143.000000</td>\n",
       "      <td>129663.000000</td>\n",
       "      <td>...</td>\n",
       "      <td>0.000000</td>\n",
       "      <td>0.000000</td>\n",
       "      <td>0.000000</td>\n",
       "      <td>0.000000</td>\n",
       "      <td>0.000000</td>\n",
       "      <td>0.000000</td>\n",
       "      <td>0.000000</td>\n",
       "      <td>0.000000</td>\n",
       "      <td>0.000000</td>\n",
       "      <td>0.000000</td>\n",
       "    </tr>\n",
       "    <tr>\n",
       "      <th>75%</th>\n",
       "      <td>39.858330</td>\n",
       "      <td>-83.344440</td>\n",
       "      <td>39.858330</td>\n",
       "      <td>-83.344440</td>\n",
       "      <td>997.000000</td>\n",
       "      <td>464.000000</td>\n",
       "      <td>5.000000</td>\n",
       "      <td>2.000000</td>\n",
       "      <td>143.000000</td>\n",
       "      <td>136456.000000</td>\n",
       "      <td>...</td>\n",
       "      <td>0.000000</td>\n",
       "      <td>0.000000</td>\n",
       "      <td>0.000000</td>\n",
       "      <td>0.000000</td>\n",
       "      <td>0.000000</td>\n",
       "      <td>0.000000</td>\n",
       "      <td>0.000000</td>\n",
       "      <td>0.000000</td>\n",
       "      <td>0.000000</td>\n",
       "      <td>0.000000</td>\n",
       "    </tr>\n",
       "    <tr>\n",
       "      <th>max</th>\n",
       "      <td>47.620000</td>\n",
       "      <td>-66.002220</td>\n",
       "      <td>47.620000</td>\n",
       "      <td>-66.002220</td>\n",
       "      <td>2627.000000</td>\n",
       "      <td>647.000000</td>\n",
       "      <td>10.000000</td>\n",
       "      <td>779.000000</td>\n",
       "      <td>175.000000</td>\n",
       "      <td>174254.000000</td>\n",
       "      <td>...</td>\n",
       "      <td>1.000000</td>\n",
       "      <td>1.000000</td>\n",
       "      <td>1.000000</td>\n",
       "      <td>1.000000</td>\n",
       "      <td>1.000000</td>\n",
       "      <td>1.000000</td>\n",
       "      <td>1.000000</td>\n",
       "      <td>1.000000</td>\n",
       "      <td>1.000000</td>\n",
       "      <td>1.000000</td>\n",
       "    </tr>\n",
       "  </tbody>\n",
       "</table>\n",
       "<p>8 rows × 275 columns</p>\n",
       "</div>"
      ],
      "text/plain": [
       "       origin_latitude  origin_longitude  destination_latitude  \\\n",
       "count    111055.000000     111055.000000         111055.000000   \n",
       "mean         36.000711        -97.204804             36.003330   \n",
       "std           5.055974         16.076966              5.059994   \n",
       "min           9.992500       -122.595000              9.992500   \n",
       "25%          32.846940       -115.158890             32.846940   \n",
       "50%          36.079720        -95.278610             36.079720   \n",
       "75%          39.858330        -83.344440             39.858330   \n",
       "max          47.620000        -66.002220             47.620000   \n",
       "\n",
       "       destination_longitude    miles_flown  flight_route_number  \\\n",
       "count          111055.000000  111055.000000        111055.000000   \n",
       "mean              -97.208694     760.316618           312.861069   \n",
       "std                16.090650     464.998176           181.796940   \n",
       "min              -122.595000     137.000000             1.000000   \n",
       "25%              -115.158890     377.000000           158.000000   \n",
       "50%               -95.278610     650.000000           316.000000   \n",
       "75%               -83.344440     997.000000           464.000000   \n",
       "max               -66.002220    2627.000000           647.000000   \n",
       "\n",
       "       route_sequence_number  push_delay_mins  aircraft_seat_count  \\\n",
       "count          111055.000000    111055.000000        111055.000000   \n",
       "mean                3.527720         3.829841           146.832687   \n",
       "std                 1.931696        13.977466            11.447985   \n",
       "min                 1.000000         0.000000           122.000000   \n",
       "25%                 2.000000         0.000000           143.000000   \n",
       "50%                 3.000000         0.000000           143.000000   \n",
       "75%                 5.000000         2.000000           143.000000   \n",
       "max                10.000000       779.000000           175.000000   \n",
       "\n",
       "       aircraft_tow_weight      ...          delay_id_15    delay_id_16  \\\n",
       "count        111055.000000      ...        111055.000000  111055.000000   \n",
       "mean         129827.855009      ...             0.000135       0.000468   \n",
       "std           12730.636376      ...             0.011621       0.021634   \n",
       "min           85948.000000      ...             0.000000       0.000000   \n",
       "25%          121745.000000      ...             0.000000       0.000000   \n",
       "50%          129663.000000      ...             0.000000       0.000000   \n",
       "75%          136456.000000      ...             0.000000       0.000000   \n",
       "max          174254.000000      ...             1.000000       1.000000   \n",
       "\n",
       "          delay_id_2     delay_id_3     delay_id_4     delay_id_5  \\\n",
       "count  111055.000000  111055.000000  111055.000000  111055.000000   \n",
       "mean        0.033380       0.046499       0.034325       0.005214   \n",
       "std         0.179627       0.210565       0.182064       0.072017   \n",
       "min         0.000000       0.000000       0.000000       0.000000   \n",
       "25%         0.000000       0.000000       0.000000       0.000000   \n",
       "50%         0.000000       0.000000       0.000000       0.000000   \n",
       "75%         0.000000       0.000000       0.000000       0.000000   \n",
       "max         1.000000       1.000000       1.000000       1.000000   \n",
       "\n",
       "          delay_id_6     delay_id_7     delay_id_8     delay_id_9  \n",
       "count  111055.000000  111055.000000  111055.000000  111055.000000  \n",
       "mean        0.024204       0.006231       0.000495       0.001306  \n",
       "std         0.153683       0.078692       0.022249       0.036110  \n",
       "min         0.000000       0.000000       0.000000       0.000000  \n",
       "25%         0.000000       0.000000       0.000000       0.000000  \n",
       "50%         0.000000       0.000000       0.000000       0.000000  \n",
       "75%         0.000000       0.000000       0.000000       0.000000  \n",
       "max         1.000000       1.000000       1.000000       1.000000  \n",
       "\n",
       "[8 rows x 275 columns]"
      ]
     },
     "execution_count": 51,
     "metadata": {},
     "output_type": "execute_result"
    }
   ],
   "source": [
    "OnTime.describe()"
   ]
  },
  {
   "cell_type": "code",
   "execution_count": 145,
   "metadata": {
    "collapsed": false
   },
   "outputs": [
    {
     "data": {
      "text/plain": [
       "array(['origin_latitude', 'origin_longitude', 'destination_latitude',\n",
       "       'destination_longitude', 'miles_flown', 'push_delay_mins',\n",
       "       'aircraft_seat_count', 'aircraft_tow_weight',\n",
       "       'aircraft_landing_weight', 'fuel_loaded', 'connecting_passengers',\n",
       "       'thru_passengers', 'unaccompanied_minors',\n",
       "       'total_nonrev_passengers', 'dot_security_delay_time',\n",
       "       'weather_delay_minutes', 'dot_delay_mins', 'total_bags',\n",
       "       'bag_weight_total', 'freight_weight_total',\n",
       "       'scheduled_turn_minutes', 'itins_in', 'itins_out', 'itins_on_leg',\n",
       "       'origin_ABQ', 'origin_ALB', 'origin_AMA', 'origin_ATL',\n",
       "       'origin_AUA', 'origin_AUS', 'origin_BDL', 'origin_BHM',\n",
       "       'origin_BNA', 'origin_BOI', 'origin_BOS', 'origin_BUF',\n",
       "       'origin_BUR', 'origin_BWI', 'origin_BZE', 'origin_CAK',\n",
       "       'origin_CHS', 'origin_CLE', 'origin_CLT', 'origin_CMH',\n",
       "       'origin_CRP', 'origin_CUN', 'origin_DAL', 'origin_DAY',\n",
       "       'origin_DCA', 'origin_DEN', 'origin_DSM', 'origin_DTW',\n",
       "       'origin_ECP', 'origin_ELP', 'origin_EWR', 'origin_FLL',\n",
       "       'origin_FNT', 'origin_GEG', 'origin_GRR', 'origin_GSP',\n",
       "       'origin_HOU', 'origin_HRL', 'origin_IAD', 'origin_ICT',\n",
       "       'origin_IND', 'origin_ISP', 'origin_JAX', 'origin_LAS',\n",
       "       'origin_LAX', 'origin_LBB', 'origin_LGA', 'origin_LIR',\n",
       "       'origin_LIT', 'origin_MAF', 'origin_MBJ', 'origin_MCI',\n",
       "       'origin_MCO', 'origin_MDW', 'origin_MEM', 'origin_MEX',\n",
       "       'origin_MHT', 'origin_MKE', 'origin_MSP', 'origin_MSY',\n",
       "       'origin_NAS', 'origin_OAK', 'origin_OKC', 'origin_OMA',\n",
       "       'origin_ONT', 'origin_ORF', 'origin_PBI', 'origin_PDX',\n",
       "       'origin_PHL', 'origin_PHX', 'origin_PIT', 'origin_PNS',\n",
       "       'origin_PUJ', 'origin_PVD', 'origin_PVR', 'origin_PWM',\n",
       "       'origin_RDU', 'origin_RIC', 'origin_RNO', 'origin_ROC',\n",
       "       'origin_RSW', 'origin_SAN', 'origin_SAT', 'origin_SDF',\n",
       "       'origin_SEA', 'origin_SFO', 'origin_SJC', 'origin_SJD',\n",
       "       'origin_SJO', 'origin_SJU', 'origin_SLC', 'origin_SMF',\n",
       "       'origin_SNA', 'origin_STL', 'origin_TPA', 'origin_TUL',\n",
       "       'origin_TUS', 'destination_ABQ', 'destination_ALB',\n",
       "       'destination_AMA', 'destination_ATL', 'destination_AUA',\n",
       "       'destination_AUS', 'destination_BDL', 'destination_BHM',\n",
       "       'destination_BNA', 'destination_BOI', 'destination_BOS',\n",
       "       'destination_BUF', 'destination_BUR', 'destination_BWI',\n",
       "       'destination_BZE', 'destination_CAK', 'destination_CHS',\n",
       "       'destination_CLE', 'destination_CLT', 'destination_CMH',\n",
       "       'destination_CRP', 'destination_CUN', 'destination_DAL',\n",
       "       'destination_DAY', 'destination_DCA', 'destination_DEN',\n",
       "       'destination_DSM', 'destination_DTW', 'destination_ECP',\n",
       "       'destination_ELP', 'destination_EWR', 'destination_FLL',\n",
       "       'destination_FNT', 'destination_GEG', 'destination_GRR',\n",
       "       'destination_GSP', 'destination_HOU', 'destination_HRL',\n",
       "       'destination_IAD', 'destination_ICT', 'destination_IND',\n",
       "       'destination_ISP', 'destination_JAX', 'destination_LAS',\n",
       "       'destination_LAX', 'destination_LBB', 'destination_LGA',\n",
       "       'destination_LIR', 'destination_LIT', 'destination_MAF',\n",
       "       'destination_MBJ', 'destination_MCI', 'destination_MCO',\n",
       "       'destination_MDW', 'destination_MEM', 'destination_MEX',\n",
       "       'destination_MHT', 'destination_MKE', 'destination_MSP',\n",
       "       'destination_MSY', 'destination_NAS', 'destination_OAK',\n",
       "       'destination_OKC', 'destination_OMA', 'destination_ONT',\n",
       "       'destination_ORF', 'destination_PBI', 'destination_PDX',\n",
       "       'destination_PHL', 'destination_PHX', 'destination_PIT',\n",
       "       'destination_PNS', 'destination_PUJ', 'destination_PVD',\n",
       "       'destination_PVR', 'destination_PWM', 'destination_RDU',\n",
       "       'destination_RIC', 'destination_RNO', 'destination_ROC',\n",
       "       'destination_RSW', 'destination_SAN', 'destination_SAT',\n",
       "       'destination_SDF', 'destination_SEA', 'destination_SFO',\n",
       "       'destination_SJC', 'destination_SJD', 'destination_SJO',\n",
       "       'destination_SJU', 'destination_SLC', 'destination_SMF',\n",
       "       'destination_SNA', 'destination_STL', 'destination_TPA',\n",
       "       'destination_TUL', 'destination_TUS', 'aircraft_type_cde_2',\n",
       "       'aircraft_type_cde_3', 'aircraft_type_cde_5', 'aircraft_type_cde_6',\n",
       "       'aircraft_type_cde_8', 'day_of_week_1', 'day_of_week_2',\n",
       "       'day_of_week_3', 'day_of_week_4', 'day_of_week_5', 'day_of_week_6',\n",
       "       'day_of_week_7', 'TimeBucket_PreDawn', 'TimeBucket_AMRush',\n",
       "       'TimeBucket_MidDay', 'TimeBucket_PMRush', 'TimeBucket_LateNight',\n",
       "       'flight_type_code_ ', 'flight_type_code_S',\n",
       "       'flt_attendant_change_ind_N', 'flt_attendant_change_ind_Y',\n",
       "       'International_0', 'International_1', 'delay_type_  ',\n",
       "       'delay_type_DP', 'delay_type_EA', 'delay_type_FO', 'delay_type_HD',\n",
       "       'delay_type_IF', 'delay_type_MX', 'delay_type_OP', 'delay_type_PV',\n",
       "       'delay_type_SD', 'delay_id_  ', 'delay_id_1', 'delay_id_10',\n",
       "       'delay_id_11', 'delay_id_12', 'delay_id_13', 'delay_id_14',\n",
       "       'delay_id_15', 'delay_id_16', 'delay_id_2', 'delay_id_3',\n",
       "       'delay_id_4', 'delay_id_5', 'delay_id_6', 'delay_id_7',\n",
       "       'delay_id_8', 'delay_id_9'], dtype=object)"
      ]
     },
     "execution_count": 145,
     "metadata": {},
     "output_type": "execute_result"
    }
   ],
   "source": [
    "#Define our X and Y Sets\n",
    "\n",
    "#Y set: \n",
    "Y=np.array(OnTime['OnTimeIndicator'])\n",
    "\n",
    "\n",
    "\n",
    "columnstotake=np.r_[1, 2, 3, 4, 8, 14, 15, 16, 17, 18, 25:30, 31:40, 41:285]\n",
    "#columnstotake=np.r_[1, 2, 3, 4, 8, 14, 15, 16, 17, 18, 25:30]\n",
    "\n",
    "columnstotake = columnstotake - 1\n",
    "\n",
    "#X Set:\n",
    "#X=OnTime.ix[:, [-'OnTimeIndicator']]\n",
    "X=OnTime.ix[:,columnstotake]\n",
    "X.columns.values"
   ]
  },
  {
   "cell_type": "code",
   "execution_count": 156,
   "metadata": {
    "collapsed": false
   },
   "outputs": [
    {
     "name": "stdout",
     "output_type": "stream",
     "text": [
      "Logistic Regression 0.728242762595\n",
      "CPU times: user 14.2 s, sys: 7.48 s, total: 21.7 s\n",
      "Wall time: 24.7 s\n"
     ]
    }
   ],
   "source": [
    "%%time\n",
    "\n",
    "#Basic Logistic Regression\n",
    "from sklearn.naive_bayes import GaussianNB\n",
    "from sklearn.model_selection import ShuffleSplit\n",
    "\n",
    "yhat = np.zeros(Y.shape) # we will fill this with predictions\n",
    "\n",
    "scl = StandardScaler()\n",
    "XScl = scl.fit_transform(X)\n",
    "\n",
    "# create cross validation iterator\n",
    "cv = StratifiedKFold(n_splits=10)\n",
    "\n",
    "# get a handle to the classifier object, which defines the type\n",
    "clf = GaussianNB()\n",
    "\n",
    "# now iterate through and get predictions, saved to the correct row in yhat\n",
    "# NOTE: you can parallelize this using the cross_val_predict method\n",
    "for train, test in cv.split(XScl,Y):\n",
    "    #print(\"X NAN\", np.any(np.isnan(XScl[train])))\n",
    "    #print(\"X Finite\", np.any(np.isfinite(XScl[train])))\n",
    "    #print(\"Y NAN\", np.any(np.isnan(Y[train])))\n",
    "    #print(\"Y Finite\", np.any(np.isfinite(Y[train])))\n",
    "    clf.fit(XScl[train],Y[train])\n",
    "    yhat[test] = clf.predict(XScl[test])\n",
    " \n",
    "    \n",
    "total_accuracy = mt.accuracy_score(Y, yhat)\n",
    "print ('Logistic Regression', total_accuracy)"
   ]
  },
  {
   "cell_type": "code",
   "execution_count": 158,
   "metadata": {
    "collapsed": false
   },
   "outputs": [
    {
     "name": "stdout",
     "output_type": "stream",
     "text": [
      "Logistic Regression 0.822925577417\n",
      "CPU times: user 4min 28s, sys: 22.6 s, total: 4min 51s\n",
      "Wall time: 3min 42s\n"
     ]
    }
   ],
   "source": [
    "%%time\n",
    "\n",
    "#Basic Logistic Regression with PCA\n",
    "from sklearn.naive_bayes import GaussianNB\n",
    "from sklearn.model_selection import ShuffleSplit\n",
    "\n",
    "yhat = np.zeros(Y.shape) # we will fill this with predictions\n",
    "\n",
    "scl = StandardScaler()\n",
    "XScl = scl.fit_transform(X)\n",
    "\n",
    "# create cross validation iterator\n",
    "cv = StratifiedKFold(n_splits=10)\n",
    "\n",
    "\n",
    "# setup pipeline to take PCA, then fit a different classifier\n",
    "clf_pipe = Pipeline(\n",
    "    [('PCA',PCA(n_components=150,svd_solver='randomized')),\n",
    "     ('CLF',GaussianNB())]\n",
    ")\n",
    "\n",
    "# now iterate through and get predictions, saved to the correct row in yhat\n",
    "# NOTE: you can parallelize this using the cross_val_predict method\n",
    "for train, test in cv.split(XScl,Y):\n",
    "    #print(\"X NAN\", np.any(np.isnan(XScl[train])))\n",
    "    #print(\"X Finite\", np.any(np.isfinite(XScl[train])))\n",
    "    #print(\"Y NAN\", np.any(np.isnan(Y[train])))\n",
    "    #print(\"Y Finite\", np.any(np.isfinite(Y[train])))\n",
    "    clf_pipe.fit(XScl[train],Y[train])\n",
    "    yhat[test] = clf_pipe.predict(XScl[test])\n",
    " \n",
    "    \n",
    "total_accuracy = mt.accuracy_score(Y, yhat)\n",
    "print ('Logistic Regression with PCA', total_accuracy)"
   ]
  },
  {
   "cell_type": "code",
   "execution_count": 160,
   "metadata": {
    "collapsed": false
   },
   "outputs": [
    {
     "name": "stdout",
     "output_type": "stream",
     "text": [
      "Logistic Regression 0.870712709919\n",
      "CPU times: user 1h 25min 44s, sys: 41.7 s, total: 1h 26min 25s\n",
      "Wall time: 45min 43s\n"
     ]
    }
   ],
   "source": [
    "%%time\n",
    "\n",
    "#Random Forest with PCA\n",
    "from sklearn.ensemble import RandomForestClassifier\n",
    "\n",
    "yhat = np.zeros(Y.shape) # we will fill this with predictions\n",
    "\n",
    "scl = StandardScaler()\n",
    "XScl = scl.fit_transform(X)\n",
    "\n",
    "# create cross validation iterator\n",
    "cv = StratifiedKFold(n_splits=10)\n",
    "\n",
    "\n",
    "# setup pipeline to take PCA, then fit a different classifier\n",
    "clf_pipe = Pipeline(\n",
    "    [('PCA',PCA(n_components=150,svd_solver='randomized')),\n",
    "     ('CLF',RandomForestClassifier(max_depth=50, n_estimators=150, n_jobs=-1))]\n",
    ")\n",
    "\n",
    "# now iterate through and get predictions, saved to the correct row in yhat\n",
    "# NOTE: you can parallelize this using the cross_val_predict method\n",
    "for train, test in cv.split(XScl,Y):\n",
    "    #print(\"X NAN\", np.any(np.isnan(XScl[train])))\n",
    "    #print(\"X Finite\", np.any(np.isfinite(XScl[train])))\n",
    "    #print(\"Y NAN\", np.any(np.isnan(Y[train])))\n",
    "    #print(\"Y Finite\", np.any(np.isfinite(Y[train])))\n",
    "    clf_pipe.fit(XScl[train],Y[train])\n",
    "    yhat[test] = clf_pipe.predict(XScl[test])\n",
    " \n",
    "    \n",
    "total_accuracy = mt.accuracy_score(Y, yhat)\n",
    "print ('Random Forest Classifier', total_accuracy)\n",
    "\n"
   ]
  },
  {
   "cell_type": "code",
   "execution_count": 153,
   "metadata": {
    "collapsed": false
   },
   "outputs": [
    {
     "ename": "NameError",
     "evalue": "name 'Stratified' is not defined",
     "output_type": "error",
     "traceback": [
      "\u001b[0;31m---------------------------------------------------------------------------\u001b[0m",
      "\u001b[0;31mNameError\u001b[0m                                 Traceback (most recent call last)",
      "\u001b[0;32m<ipython-input-153-8d51debf30f8>\u001b[0m in \u001b[0;36m<module>\u001b[0;34m()\u001b[0m\n\u001b[0;32m----> 1\u001b[0;31m \u001b[0mget_ipython\u001b[0m\u001b[0;34m(\u001b[0m\u001b[0;34m)\u001b[0m\u001b[0;34m.\u001b[0m\u001b[0mrun_cell_magic\u001b[0m\u001b[0;34m(\u001b[0m\u001b[0;34m'time'\u001b[0m\u001b[0;34m,\u001b[0m \u001b[0;34m''\u001b[0m\u001b[0;34m,\u001b[0m \u001b[0;34m\"\\nfrom sklearn.neighbors import KNeighborsClassifier\\nfrom sklearn.model_selection import StratifiedKFold\\nfrom sklearn.preprocessing import StandardScaler\\nimport numpy as np\\nfrom sklearn import metrics as mt\\n\\n\\nyhat = np.zeros(Y.shape) # we will fill this with predictions\\n\\nscl = StandardScaler()\\nXScl = scl.fit_transform(X)\\n\\n# create cross validation iterator\\ncv = Stratified(n_splits=10)\\n\\n# get a handle to the classifier object, which defines the type\\nclf = KNeighborsClassifier(n_neighbors=5)\\n\\n# now iterate through and get predictions, saved to the correct row in yhat\\n# NOTE: you can parallelize this using the cross_val_predict method\\nfor train, test in cv.split(XScl,Y):\\n    clf.fit(XScl[train],Y[train])\\n    yhat[test] = clf.predict(XScl[test])\\n \\n    \\ntotal_accuracy = mt.accuracy_score(Y, yhat)\\nprint ('Logistic Regression', total_accuracy)\"\u001b[0m\u001b[0;34m)\u001b[0m\u001b[0;34m\u001b[0m\u001b[0m\n\u001b[0m",
      "\u001b[0;32m//anaconda/lib/python3.5/site-packages/IPython/core/interactiveshell.py\u001b[0m in \u001b[0;36mrun_cell_magic\u001b[0;34m(self, magic_name, line, cell)\u001b[0m\n\u001b[1;32m   2113\u001b[0m             \u001b[0mmagic_arg_s\u001b[0m \u001b[0;34m=\u001b[0m \u001b[0mself\u001b[0m\u001b[0;34m.\u001b[0m\u001b[0mvar_expand\u001b[0m\u001b[0;34m(\u001b[0m\u001b[0mline\u001b[0m\u001b[0;34m,\u001b[0m \u001b[0mstack_depth\u001b[0m\u001b[0;34m)\u001b[0m\u001b[0;34m\u001b[0m\u001b[0m\n\u001b[1;32m   2114\u001b[0m             \u001b[0;32mwith\u001b[0m \u001b[0mself\u001b[0m\u001b[0;34m.\u001b[0m\u001b[0mbuiltin_trap\u001b[0m\u001b[0;34m:\u001b[0m\u001b[0;34m\u001b[0m\u001b[0m\n\u001b[0;32m-> 2115\u001b[0;31m                 \u001b[0mresult\u001b[0m \u001b[0;34m=\u001b[0m \u001b[0mfn\u001b[0m\u001b[0;34m(\u001b[0m\u001b[0mmagic_arg_s\u001b[0m\u001b[0;34m,\u001b[0m \u001b[0mcell\u001b[0m\u001b[0;34m)\u001b[0m\u001b[0;34m\u001b[0m\u001b[0m\n\u001b[0m\u001b[1;32m   2116\u001b[0m             \u001b[0;32mreturn\u001b[0m \u001b[0mresult\u001b[0m\u001b[0;34m\u001b[0m\u001b[0m\n\u001b[1;32m   2117\u001b[0m \u001b[0;34m\u001b[0m\u001b[0m\n",
      "\u001b[0;32m<decorator-gen-59>\u001b[0m in \u001b[0;36mtime\u001b[0;34m(self, line, cell, local_ns)\u001b[0m\n",
      "\u001b[0;32m//anaconda/lib/python3.5/site-packages/IPython/core/magic.py\u001b[0m in \u001b[0;36m<lambda>\u001b[0;34m(f, *a, **k)\u001b[0m\n\u001b[1;32m    186\u001b[0m     \u001b[0;31m# but it's overkill for just that one bit of state.\u001b[0m\u001b[0;34m\u001b[0m\u001b[0;34m\u001b[0m\u001b[0m\n\u001b[1;32m    187\u001b[0m     \u001b[0;32mdef\u001b[0m \u001b[0mmagic_deco\u001b[0m\u001b[0;34m(\u001b[0m\u001b[0marg\u001b[0m\u001b[0;34m)\u001b[0m\u001b[0;34m:\u001b[0m\u001b[0;34m\u001b[0m\u001b[0m\n\u001b[0;32m--> 188\u001b[0;31m         \u001b[0mcall\u001b[0m \u001b[0;34m=\u001b[0m \u001b[0;32mlambda\u001b[0m \u001b[0mf\u001b[0m\u001b[0;34m,\u001b[0m \u001b[0;34m*\u001b[0m\u001b[0ma\u001b[0m\u001b[0;34m,\u001b[0m \u001b[0;34m**\u001b[0m\u001b[0mk\u001b[0m\u001b[0;34m:\u001b[0m \u001b[0mf\u001b[0m\u001b[0;34m(\u001b[0m\u001b[0;34m*\u001b[0m\u001b[0ma\u001b[0m\u001b[0;34m,\u001b[0m \u001b[0;34m**\u001b[0m\u001b[0mk\u001b[0m\u001b[0;34m)\u001b[0m\u001b[0;34m\u001b[0m\u001b[0m\n\u001b[0m\u001b[1;32m    189\u001b[0m \u001b[0;34m\u001b[0m\u001b[0m\n\u001b[1;32m    190\u001b[0m         \u001b[0;32mif\u001b[0m \u001b[0mcallable\u001b[0m\u001b[0;34m(\u001b[0m\u001b[0marg\u001b[0m\u001b[0;34m)\u001b[0m\u001b[0;34m:\u001b[0m\u001b[0;34m\u001b[0m\u001b[0m\n",
      "\u001b[0;32m//anaconda/lib/python3.5/site-packages/IPython/core/magics/execution.py\u001b[0m in \u001b[0;36mtime\u001b[0;34m(self, line, cell, local_ns)\u001b[0m\n\u001b[1;32m   1183\u001b[0m         \u001b[0;32melse\u001b[0m\u001b[0;34m:\u001b[0m\u001b[0;34m\u001b[0m\u001b[0m\n\u001b[1;32m   1184\u001b[0m             \u001b[0mst\u001b[0m \u001b[0;34m=\u001b[0m \u001b[0mclock2\u001b[0m\u001b[0;34m(\u001b[0m\u001b[0;34m)\u001b[0m\u001b[0;34m\u001b[0m\u001b[0m\n\u001b[0;32m-> 1185\u001b[0;31m             \u001b[0mexec\u001b[0m\u001b[0;34m(\u001b[0m\u001b[0mcode\u001b[0m\u001b[0;34m,\u001b[0m \u001b[0mglob\u001b[0m\u001b[0;34m,\u001b[0m \u001b[0mlocal_ns\u001b[0m\u001b[0;34m)\u001b[0m\u001b[0;34m\u001b[0m\u001b[0m\n\u001b[0m\u001b[1;32m   1186\u001b[0m             \u001b[0mend\u001b[0m \u001b[0;34m=\u001b[0m \u001b[0mclock2\u001b[0m\u001b[0;34m(\u001b[0m\u001b[0;34m)\u001b[0m\u001b[0;34m\u001b[0m\u001b[0m\n\u001b[1;32m   1187\u001b[0m             \u001b[0mout\u001b[0m \u001b[0;34m=\u001b[0m \u001b[0;32mNone\u001b[0m\u001b[0;34m\u001b[0m\u001b[0m\n",
      "\u001b[0;32m<timed exec>\u001b[0m in \u001b[0;36m<module>\u001b[0;34m()\u001b[0m\n",
      "\u001b[0;31mNameError\u001b[0m: name 'Stratified' is not defined"
     ]
    }
   ],
   "source": [
    "%%time\n",
    "\n",
    "from sklearn.neighbors import KNeighborsClassifier\n",
    "from sklearn.model_selection import StratifiedKFold\n",
    "from sklearn.preprocessing import StandardScaler\n",
    "import numpy as np\n",
    "from sklearn import metrics as mt\n",
    "\n",
    "\n",
    "yhat = np.zeros(Y.shape) # we will fill this with predictions\n",
    "\n",
    "scl = StandardScaler()\n",
    "XScl = scl.fit_transform(X)\n",
    "\n",
    "# create cross validation iterator\n",
    "cv = StratifiedKFold(n_splits=10)\n",
    "\n",
    "# get a handle to the classifier object, which defines the type\n",
    "clf = KNeighborsClassifier(n_neighbors=5)\n",
    "\n",
    "# now iterate through and get predictions, saved to the correct row in yhat\n",
    "# NOTE: you can parallelize this using the cross_val_predict method\n",
    "for train, test in cv.split(XScl,Y):\n",
    "    clf.fit(XScl[train],Y[train])\n",
    "    yhat[test] = clf.predict(XScl[test])\n",
    " \n",
    "    \n",
    "total_accuracy = mt.accuracy_score(Y, yhat)\n",
    "print ('KNN', total_accuracy)"
   ]
  },
  {
   "cell_type": "code",
   "execution_count": 119,
   "metadata": {
    "collapsed": false
   },
   "outputs": [
    {
     "data": {
      "text/plain": [
       "KNeighborsClassifier(algorithm='auto', leaf_size=30, metric='minkowski',\n",
       "           metric_params=None, n_jobs=1, n_neighbors=5, p=2,\n",
       "           weights='uniform')"
      ]
     },
     "execution_count": 119,
     "metadata": {},
     "output_type": "execute_result"
    }
   ],
   "source": [
    "yhat"
   ]
  },
  {
   "cell_type": "code",
   "execution_count": null,
   "metadata": {
    "collapsed": true
   },
   "outputs": [],
   "source": [
    "# logistic regression?\n",
    "\n"
   ]
  },
  {
   "cell_type": "code",
   "execution_count": null,
   "metadata": {
    "collapsed": true
   },
   "outputs": [],
   "source": [
    "# KD tree?"
   ]
  },
  {
   "cell_type": "code",
   "execution_count": null,
   "metadata": {
    "collapsed": true
   },
   "outputs": [],
   "source": [
    "# Decision Tree?"
   ]
  },
  {
   "cell_type": "code",
   "execution_count": null,
   "metadata": {
    "collapsed": true
   },
   "outputs": [],
   "source": [
    "#Naive Bayes"
   ]
  },
  {
   "cell_type": "code",
   "execution_count": null,
   "metadata": {
    "collapsed": false
   },
   "outputs": [],
   "source": [
    "#KNN\n",
    "\n",
    "#%%time\n",
    "\n",
    "# setup pipeline to take PCA, then fit a KNN classifier\n",
    "clf_pipe = Pipeline(\n",
    "    [('PCA_Eric',PCA(n_components=200)),\n",
    "     ('CLF_Eric',KNeighborsClassifier(n_neighbors=1))]\n",
    ")\n",
    "\n",
    "# now iterate through and get predictions, saved to the correct row in yhat\n",
    "for train, test in cv.split(X,Y):\n",
    "    clf_pipe.fit(X[train],Y[train])\n",
    "    yhat[test] = clf_pipe.predict(X[test])\n",
    "\n",
    "total_accuracy = mt.accuracy_score(Y, yhat)\n",
    "print ('KNN, pipeline accuracy', total_accuracy)"
   ]
  },
  {
   "cell_type": "code",
   "execution_count": null,
   "metadata": {
    "collapsed": true
   },
   "outputs": [],
   "source": [
    "#Random Forest"
   ]
  },
  {
   "cell_type": "code",
   "execution_count": null,
   "metadata": {
    "collapsed": true
   },
   "outputs": [],
   "source": []
  }
 ],
 "metadata": {
  "anaconda-cloud": {},
  "kernelspec": {
   "display_name": "Python [default]",
   "language": "python",
   "name": "python3"
  }
 },
 "nbformat": 4,
 "nbformat_minor": 1
}
