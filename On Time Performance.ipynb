{
 "cells": [
  {
   "cell_type": "markdown",
   "metadata": {},
   "source": [
    "# Project 2: Predicting Ontime Performance for Mystery Airline\n",
    "\n",
    "#### Dennis Murray and Alex Deshowitz\n",
    "#### MSDS ...\n"
   ]
  },
  {
   "cell_type": "markdown",
   "metadata": {},
   "source": [
    "## Data Dictionary\n",
    "\n",
    "#### Overview\n",
    "This dataset contains one month of flight(leg) level information for an airline.  This dataset was created with the intent to forecast ontime performance for an airline.  Ontime performance as defined by the US department of transportation as any flight arriving within 15 minutes of its scheduled arrival time in the destination city\n",
    "\n",
    "* **Origin** - The DOT airport code denoting the starting point of a flight leg (see link for list of codes:####)\n",
    "* **Destination** - The DOT airport code denoting the ending point of a flight leg.  This list contains the same values as the origin field as an origin can be a destination and a destination can be an origin.  All airlines serve markets in this fashion.  For example, if Delta Airlines serves ATL-MSY (Dallas-New Orleans), they also serve the market in the opposite direction: MSY-ATL. \n",
    "* **Market** - A market is any origin and destination pair.  For example: ATL-TPA is a market.  Airlines always serve markets in a balanced fashion.  This means that if the airline serves ATL-MSY 11 times a day, the airline also serves the MSY-ATL 11 times a day.  The airline can still arbitrage the capacity in directions which have imbalanced demand patterns via changes in aircraft size (gauge).  For instance, Delta may serve MSY-ATL with 11 regional jets and ATL-MSY with 11 Boeing 757s (considerably larger aircraft). However, most airlines use far more sophisticated methods.  Markets tend to have time of day seat (gauge) patterns that attempt to best match demand patterns.  This means that we expect to see markets with mixed gauge patterns throughout the day.\n",
    "* **Origin Latitude** - The latitude of the origin airport\n",
    "* **Origin Longitude** - The longitude of the origin airport\n",
    "* **Destination Latitude** - The latitude of the Destination airport\n",
    "* **Destination Longitude** - The longitude of the Destination airport\n",
    "* **Origin Country** - The country of origin for the flight leg.  Note that SJU (San Juan) is not included as international in this dataset per DOT specification.\n",
    "* **Origin Country** - The destination country for the flight leg.  Note that SJU (San Juan) is not included as international in this dataset per DOT specification.\n",
    "* **Flight Number** - Distinct number denoting a specific flight on a specific day.  While flight numbers can repeat on a day level, they cannot repeat at the same airport within 6 hours for obvious issues associated with the potential to have multiple flights in air with the same number at the same time from the same airline.  The number for scheduled flights ranges from 1-6999.  However, mistakes do happen, so it is best not to hard code filter any of these numbers.\n",
    "* **Miles Flown** - Great circle mileage calculation for miles flown.  Note that this does not vary by market as this is simply the scheduled mileage and does not take into account flight path diversions.\n",
    "* **Departure Date** - The date of departure between 5/1/2016 and 5/31/2016\n",
    "* **Day of Week** - The day of week that a flight departs with 1 being equivalent to Monday\n",
    "* **Flight Type Code** - One of 3 values indicating the flight type for DOT purposes.  This dataset was prefiltered to include only those types considered by the DOT for Ontime departures.\n",
    "    * **Blank Value**- Records that have no value for the flight type code were scheduled flights that flew as scheduled\n",
    "    * **Code S**- Records with flight type code S represent stub originator flights.  Stub originators are flights that were not scheduled to be originators on the flight line, but had an aircraft swap that made the route appear to have multiple orginator flights.  An originator is an aircraft's first flight of the day.  On average, aircraft in this dataset fly 6 flight legs per day.  A flight line could have both an originator and a stub originator with the given scenario.  Flight 1 on flight line number 150 from DAL-HOU departed HOU at 6am, and arrived in DAL at 7am.  The aircraft on flight route 150 was scheduled to continue on from HOU to ATL at 9am.  However, another flight line, say line 200, that was supposed to begin its day flying HOU-MCO at 8am had an aircraft go down for maintenance.  This line now has no aircraft to fly.  The dispatchers may decide that the aircraft on line 150 can take over line 200 and the aircraft on line 200 can take over line 150 because it leaves later and the maintenance issue can be fixed in time for the 9am HOU-ATL flight.  The flight that takes over line 150 is now considered a stub originator, flight type code 's.'  \n",
    "    * **Code X**- Flight type code X denotes a flight that was cancelled.  Due to the sparse nature of the attributes in this dataset, we will calculate OTP with \n",
    "* **Flight Route Number**: The route number denotes an aircraft's line of flying for the day.  These will repeat for a given aircraft for a day for all flights in the flight line.\n",
    "* **Route Sequence Number**: A number between 1 and 10 that denotes the aircraft's leg number on the flight line.\n",
    "* **Aircraft Type Code** : The type of aircraft flying the flight.  All aircraft in this dataset are Boeing 737 variants\n",
    "\n"
   ]
  },
  {
   "cell_type": "markdown",
   "metadata": {},
   "source": [
    "# Classification Overview \n",
    "\n",
    "This project seeks to classify 2 main objectives:\n",
    "    1.) Ontime performance Percentage as defined by the DOT\n",
    "    2.) D0 percentage - The Precentage of time a flight departs ontime"
   ]
  },
  {
   "cell_type": "code",
   "execution_count": 1,
   "metadata": {
    "collapsed": true
   },
   "outputs": [],
   "source": [
    "# import packages\n",
    "\n",
    "import pandas as pd\n",
    "import seaborn as sns\n",
    "import numpy as np\n",
    "import matplotlib.pyplot as plt\n",
    "import scipy.stats \n",
    "import sklearn as sk\n",
    "import statsmodels.api as sm\n",
    "#import statsmodels.formula.api as smf\n",
    "from statsmodels.stats.outliers_influence import variance_inflation_factor\n",
    "\n",
    "import pandas as pd\n",
    "from pandas.tools.plotting import scatter_plot\n",
    "from pandas.tools.plotting import scatter_matrix\n",
    "\n",
    "from sklearn.preprocessing import scale, StandardScaler\n",
    "from sklearn import preprocessing, cross_validation, svm\n",
    "from sklearn.linear_model import LinearRegression\n",
    "from sklearn.linear_model import Lasso, Lars\n",
    "from sklearn.linear_model import SGDRegressor\n",
    "from sklearn.decomposition import PCA \n",
    "from sklearn.cluster import KMeans\n",
    "from sklearn.neighbors import KNeighborsRegressor\n",
    "from sklearn.pipeline import Pipeline\n",
    "\n",
    "import locale\n",
    "locale.setlocale( locale.LC_ALL, 'en_US.UTF-8' ) \n",
    "\n",
    "from pandas.tools.plotting import scatter_matrix\n",
    "\n",
    "from sklearn.svm import SVR\n",
    "from sklearn.feature_selection import RFE, RFECV\n",
    "\n",
    "#configure the random seed so we our randomness is reproducible for selection of learn/test sets\n",
    "np.random.seed(0)\n",
    "\n",
    "%matplotlib inline"
   ]
  },
  {
   "cell_type": "markdown",
   "metadata": {},
   "source": [
    "## Data Definitions"
   ]
  },
  {
   "cell_type": "code",
   "execution_count": 2,
   "metadata": {
    "collapsed": false
   },
   "outputs": [
    {
     "name": "stderr",
     "output_type": "stream",
     "text": [
      "//anaconda/lib/python3.5/site-packages/IPython/core/interactiveshell.py:2717: DtypeWarning: Columns (1) have mixed types. Specify dtype option on import or set low_memory=False.\n",
      "  interactivity=interactivity, compiler=compiler, result=result)\n"
     ]
    }
   ],
   "source": [
    "#read in the data file\n",
    "OnTime=pd.read_csv(\"Data/20170112_DataMiningI_TestDataSet_v01.csv\", header=1, skiprows=0)"
   ]
  },
  {
   "cell_type": "code",
   "execution_count": 3,
   "metadata": {
    "collapsed": false
   },
   "outputs": [
    {
     "data": {
      "text/html": [
       "<div>\n",
       "<table border=\"1\" class=\"dataframe\">\n",
       "  <thead>\n",
       "    <tr style=\"text-align: right;\">\n",
       "      <th></th>\n",
       "      <th>origin</th>\n",
       "      <th>origin_latitude</th>\n",
       "      <th>origin_longitude</th>\n",
       "      <th>destination</th>\n",
       "      <th>destination_latitude</th>\n",
       "      <th>destination_longitude</th>\n",
       "      <th>origin_country</th>\n",
       "      <th>destination_country</th>\n",
       "      <th>flight_number</th>\n",
       "      <th>miles_flown</th>\n",
       "      <th>...</th>\n",
       "      <th>weather_delay_minutes</th>\n",
       "      <th>dot_delay_mins</th>\n",
       "      <th>flt_attendant_change_ind</th>\n",
       "      <th>total_bags</th>\n",
       "      <th>bag_weight_total</th>\n",
       "      <th>freight_weight_total</th>\n",
       "      <th>scheduled_turn_minutes</th>\n",
       "      <th>itins_in</th>\n",
       "      <th>itins_out</th>\n",
       "      <th>itins_on_leg</th>\n",
       "    </tr>\n",
       "  </thead>\n",
       "  <tbody>\n",
       "    <tr>\n",
       "      <th>0</th>\n",
       "      <td>FLL</td>\n",
       "      <td>26.07222</td>\n",
       "      <td>-80.15306</td>\n",
       "      <td>CMH</td>\n",
       "      <td>39.99111</td>\n",
       "      <td>-82.87833</td>\n",
       "      <td>United States of America</td>\n",
       "      <td>United States of America</td>\n",
       "      <td>3,133</td>\n",
       "      <td>972</td>\n",
       "      <td>...</td>\n",
       "      <td>0</td>\n",
       "      <td>-14</td>\n",
       "      <td>Y</td>\n",
       "      <td>136</td>\n",
       "      <td>4,080</td>\n",
       "      <td>649</td>\n",
       "      <td>35</td>\n",
       "      <td>2</td>\n",
       "      <td>2</td>\n",
       "      <td>4</td>\n",
       "    </tr>\n",
       "    <tr>\n",
       "      <th>1</th>\n",
       "      <td>MCO</td>\n",
       "      <td>10:21 AM</td>\n",
       "      <td>-81.32472</td>\n",
       "      <td>CMH</td>\n",
       "      <td>39.99111</td>\n",
       "      <td>-82.87833</td>\n",
       "      <td>United States of America</td>\n",
       "      <td>United States of America</td>\n",
       "      <td>718</td>\n",
       "      <td>802</td>\n",
       "      <td>...</td>\n",
       "      <td>0</td>\n",
       "      <td>4</td>\n",
       "      <td>Y</td>\n",
       "      <td>138</td>\n",
       "      <td>4,140</td>\n",
       "      <td>0</td>\n",
       "      <td>40</td>\n",
       "      <td>3</td>\n",
       "      <td>2</td>\n",
       "      <td>5</td>\n",
       "    </tr>\n",
       "    <tr>\n",
       "      <th>2</th>\n",
       "      <td>ATL</td>\n",
       "      <td>3:22 PM</td>\n",
       "      <td>-84.42722</td>\n",
       "      <td>RDU</td>\n",
       "      <td>35.87528</td>\n",
       "      <td>-78.78194</td>\n",
       "      <td>United States of America</td>\n",
       "      <td>United States of America</td>\n",
       "      <td>1,798</td>\n",
       "      <td>356</td>\n",
       "      <td>...</td>\n",
       "      <td>0</td>\n",
       "      <td>16</td>\n",
       "      <td>Y</td>\n",
       "      <td>93</td>\n",
       "      <td>2,790</td>\n",
       "      <td>173</td>\n",
       "      <td>45</td>\n",
       "      <td>24</td>\n",
       "      <td>0</td>\n",
       "      <td>24</td>\n",
       "    </tr>\n",
       "    <tr>\n",
       "      <th>3</th>\n",
       "      <td>PHX</td>\n",
       "      <td>33.43611</td>\n",
       "      <td>-112.00944</td>\n",
       "      <td>PIT</td>\n",
       "      <td>40.49667</td>\n",
       "      <td>-80.23583</td>\n",
       "      <td>United States of America</td>\n",
       "      <td>United States of America</td>\n",
       "      <td>2,404</td>\n",
       "      <td>1,813</td>\n",
       "      <td>...</td>\n",
       "      <td>0</td>\n",
       "      <td>-15</td>\n",
       "      <td>Y</td>\n",
       "      <td>163</td>\n",
       "      <td>4,890</td>\n",
       "      <td>0</td>\n",
       "      <td>35</td>\n",
       "      <td>14</td>\n",
       "      <td>0</td>\n",
       "      <td>14</td>\n",
       "    </tr>\n",
       "    <tr>\n",
       "      <th>4</th>\n",
       "      <td>MCI</td>\n",
       "      <td>39.2975</td>\n",
       "      <td>-94.71389</td>\n",
       "      <td>ATL</td>\n",
       "      <td>33.64083</td>\n",
       "      <td>-84.42722</td>\n",
       "      <td>United States of America</td>\n",
       "      <td>United States of America</td>\n",
       "      <td>3,015</td>\n",
       "      <td>692</td>\n",
       "      <td>...</td>\n",
       "      <td>0</td>\n",
       "      <td>26</td>\n",
       "      <td>Y</td>\n",
       "      <td>69</td>\n",
       "      <td>2,070</td>\n",
       "      <td>5</td>\n",
       "      <td>30</td>\n",
       "      <td>7</td>\n",
       "      <td>12</td>\n",
       "      <td>18</td>\n",
       "    </tr>\n",
       "  </tbody>\n",
       "</table>\n",
       "<p>5 rows × 47 columns</p>\n",
       "</div>"
      ],
      "text/plain": [
       "  origin origin_latitude  origin_longitude destination  destination_latitude  \\\n",
       "0    FLL        26.07222         -80.15306         CMH              39.99111   \n",
       "1    MCO        10:21 AM         -81.32472         CMH              39.99111   \n",
       "2    ATL         3:22 PM         -84.42722         RDU              35.87528   \n",
       "3    PHX        33.43611        -112.00944         PIT              40.49667   \n",
       "4    MCI         39.2975         -94.71389         ATL              33.64083   \n",
       "\n",
       "   destination_longitude            origin_country       destination_country  \\\n",
       "0              -82.87833  United States of America  United States of America   \n",
       "1              -82.87833  United States of America  United States of America   \n",
       "2              -78.78194  United States of America  United States of America   \n",
       "3              -80.23583  United States of America  United States of America   \n",
       "4              -84.42722  United States of America  United States of America   \n",
       "\n",
       "  flight_number miles_flown     ...      weather_delay_minutes  \\\n",
       "0         3,133         972     ...                          0   \n",
       "1           718         802     ...                          0   \n",
       "2         1,798         356     ...                          0   \n",
       "3         2,404       1,813     ...                          0   \n",
       "4         3,015         692     ...                          0   \n",
       "\n",
       "   dot_delay_mins flt_attendant_change_ind  total_bags  bag_weight_total  \\\n",
       "0             -14                        Y         136             4,080   \n",
       "1               4                        Y         138             4,140   \n",
       "2              16                        Y          93             2,790   \n",
       "3             -15                        Y         163             4,890   \n",
       "4              26                        Y          69             2,070   \n",
       "\n",
       "   freight_weight_total scheduled_turn_minutes itins_in  itins_out  \\\n",
       "0                   649                     35        2          2   \n",
       "1                     0                     40        3          2   \n",
       "2                   173                     45       24          0   \n",
       "3                     0                     35       14          0   \n",
       "4                     5                     30        7         12   \n",
       "\n",
       "  itins_on_leg  \n",
       "0            4  \n",
       "1            5  \n",
       "2           24  \n",
       "3           14  \n",
       "4           18  \n",
       "\n",
       "[5 rows x 47 columns]"
      ]
     },
     "execution_count": 3,
     "metadata": {},
     "output_type": "execute_result"
    }
   ],
   "source": [
    "OnTime.head()"
   ]
  },
  {
   "cell_type": "code",
   "execution_count": 72,
   "metadata": {
    "collapsed": false
   },
   "outputs": [
    {
     "data": {
      "text/plain": [
       "origin                         object\n",
       "origin_latitude                object\n",
       "origin_longitude              float64\n",
       "destination                    object\n",
       "destination_latitude          float64\n",
       "destination_longitude         float64\n",
       "origin_country                 object\n",
       "destination_country            object\n",
       "flight_number                  object\n",
       "miles_flown                    object\n",
       "departure_date                 object\n",
       "day_of_week                     int64\n",
       "flight_type_code               object\n",
       "flight_route_number             int64\n",
       "route_sequence_number           int64\n",
       "aircraft_type_cde               int64\n",
       "flight_cancellation_code       object\n",
       "alternate_airport              object\n",
       "push_delay_mins                 int64\n",
       "delay_type                     object\n",
       "delay_id                       object\n",
       "aircraft_seat_count             int64\n",
       "aircraft_tow_weight            object\n",
       "aircraft_landing_weight        object\n",
       "fuel_loaded                   float64\n",
       "central_scheduled_dep_time     object\n",
       "local_scheduled_dep_time       object\n",
       "central_scheduled_arr_time     object\n",
       "local_schedulced_arr_time      object\n",
       "total_passengers                int64\n",
       "local_passengers                int64\n",
       "connecting_passengers           int64\n",
       "thru_passengers                 int64\n",
       "unaccompanied_minors            int64\n",
       "total_nonrev_passengers         int64\n",
       "dot_security_delay_time         int64\n",
       "NAS_delay_minutes               int64\n",
       "weather_delay_minutes           int64\n",
       "dot_delay_mins                  int64\n",
       "flt_attendant_change_ind       object\n",
       "total_bags                      int64\n",
       "bag_weight_total               object\n",
       "freight_weight_total           object\n",
       "scheduled_turn_minutes          int64\n",
       "itins_in                        int64\n",
       "itins_out                       int64\n",
       "itins_on_leg                    int64\n",
       "dtype: object"
      ]
     },
     "execution_count": 72,
     "metadata": {},
     "output_type": "execute_result"
    }
   ],
   "source": [
    "OnTime.dtypes"
   ]
  },
  {
   "cell_type": "code",
   "execution_count": 4,
   "metadata": {
    "collapsed": false
   },
   "outputs": [
    {
     "name": "stderr",
     "output_type": "stream",
     "text": [
      "//anaconda/lib/python3.5/site-packages/ipykernel/__main__.py:2: FutureWarning: convert_objects is deprecated.  Use the data-type specific converters pd.to_datetime, pd.to_timedelta and pd.to_numeric.\n",
      "  from ipykernel import kernelapp as app\n"
     ]
    }
   ],
   "source": [
    "#some questionable data in origin_latitude, coerce it to float64\n",
    "OnTime['origin_latitude']=OnTime['origin_latitude'].convert_objects(convert_numeric=True)\n",
    "\n",
    "#This will create some NaN values where the total capacity of the plane is listed as 0\n",
    "OnTime['PercentFull']=OnTime['total_passengers']/OnTime['aircraft_seat_count']"
   ]
  },
  {
   "cell_type": "code",
   "execution_count": 11,
   "metadata": {
    "collapsed": false,
    "scrolled": true
   },
   "outputs": [
    {
     "data": {
      "text/plain": [
       "count     112059\n",
       "unique         3\n",
       "top             \n",
       "freq      110711\n",
       "Name: flight_type_code, dtype: object"
      ]
     },
     "execution_count": 11,
     "metadata": {},
     "output_type": "execute_result"
    }
   ],
   "source": [
    "OnTime['flight_type_code'].describe()"
   ]
  },
  {
   "cell_type": "code",
   "execution_count": 13,
   "metadata": {
    "collapsed": false,
    "scrolled": true
   },
   "outputs": [
    {
     "data": {
      "text/plain": [
       "origin                         object\n",
       "origin_latitude               float64\n",
       "origin_longitude              float64\n",
       "destination                    object\n",
       "destination_latitude          float64\n",
       "destination_longitude         float64\n",
       "origin_country                 object\n",
       "destination_country            object\n",
       "flight_number                  object\n",
       "miles_flown                    object\n",
       "departure_date                 object\n",
       "day_of_week                     int64\n",
       "flight_type_code               object\n",
       "flight_route_number             int64\n",
       "route_sequence_number           int64\n",
       "aircraft_type_cde               int64\n",
       "flight_cancellation_code       object\n",
       "alternate_airport              object\n",
       "push_delay_mins                 int64\n",
       "delay_type                     object\n",
       "delay_id                       object\n",
       "aircraft_seat_count             int64\n",
       "aircraft_tow_weight            object\n",
       "aircraft_landing_weight        object\n",
       "fuel_loaded                   float64\n",
       "central_scheduled_dep_time     object\n",
       "local_scheduled_dep_time        int64\n",
       "central_scheduled_arr_time     object\n",
       "local_schedulced_arr_time      object\n",
       "total_passengers                int64\n",
       "local_passengers                int64\n",
       "connecting_passengers           int64\n",
       "thru_passengers                 int64\n",
       "unaccompanied_minors            int64\n",
       "total_nonrev_passengers         int64\n",
       "dot_security_delay_time         int64\n",
       "NAS_delay_minutes               int64\n",
       "weather_delay_minutes           int64\n",
       "dot_delay_mins                  int64\n",
       "flt_attendant_change_ind       object\n",
       "total_bags                      int64\n",
       "bag_weight_total                int64\n",
       "freight_weight_total            int64\n",
       "scheduled_turn_minutes          int64\n",
       "itins_in                        int64\n",
       "itins_out                       int64\n",
       "itins_on_leg                    int64\n",
       "PercentFull                   float64\n",
       "OnTimeIndicator                 int64\n",
       "dtype: object"
      ]
     },
     "execution_count": 13,
     "metadata": {},
     "output_type": "execute_result"
    }
   ],
   "source": [
    "OnTime.dtypes"
   ]
  },
  {
   "cell_type": "code",
   "execution_count": 12,
   "metadata": {
    "collapsed": false
   },
   "outputs": [],
   "source": [
    "#Create indicator for ontime performance, where 1 = OnTime and 0 = LATE\n",
    "OnTime['OnTimeIndicator'] = np.where(OnTime['dot_delay_mins']>=0, 0, 1)\n",
    "\n",
    "#Need to fix the time of day first\n",
    "OnTime['local_scheduled_dep_time']=OnTime['local_scheduled_dep_time'].apply(locale.atoi)\n",
    "\n",
    "#Fix weight fields to be numeric\n",
    "OnTime['bag_weight_total']=OnTime['bag_weight_total'].apply(locale.atoi)\n",
    "OnTime['freight_weight_total']=OnTime['freight_weight_total'].apply(locale.atoi)\n",
    "OnTime['aircraft_landing_weight']=OnTime['aircraft_landing_weight'].apply(locale.atoi)\n",
    "OnTime['aircraft_tow_weight']=OnTime['aircraft_tow_weight'].apply(locale.atoi)\n"
   ]
  },
  {
   "cell_type": "code",
   "execution_count": 14,
   "metadata": {
    "collapsed": false
   },
   "outputs": [],
   "source": [
    "#Need some Time of Day buckets\n",
    "OnTime['TimeBucket']=pd.cut(OnTime['local_scheduled_dep_time'],[0, 600, 1000, 1500, 2000, 2400],5, \n",
    "       labels=[\"PreDawn\", \"AMRush\", \"MidDay\", \"PMRush\", \"LateNight\"])\n",
    "\n",
    "#Need an \"International\" code\n",
    "OnTime['International'] = np.where(OnTime['origin_country']!=OnTime['destination_country'], 1, 0)"
   ]
  },
  {
   "cell_type": "code",
   "execution_count": 15,
   "metadata": {
    "collapsed": false
   },
   "outputs": [
    {
     "name": "stdout",
     "output_type": "stream",
     "text": [
      "0         United States of America\n",
      "1         United States of America\n",
      "2         United States of America\n",
      "3         United States of America\n",
      "4         United States of America\n",
      "5         United States of America\n",
      "6         United States of America\n",
      "7         United States of America\n",
      "8         United States of America\n",
      "9         United States of America\n",
      "10        United States of America\n",
      "11        United States of America\n",
      "12        United States of America\n",
      "13        United States of America\n",
      "14        United States of America\n",
      "15        United States of America\n",
      "16        United States of America\n",
      "17        United States of America\n",
      "18        United States of America\n",
      "19        United States of America\n",
      "20        United States of America\n",
      "21        United States of America\n",
      "22        United States of America\n",
      "23        United States of America\n",
      "24        United States of America\n",
      "25        United States of America\n",
      "26        United States of America\n",
      "27        United States of America\n",
      "28        United States of America\n",
      "29        United States of America\n",
      "                    ...           \n",
      "112029    United States of America\n",
      "112030    United States of America\n",
      "112031    United States of America\n",
      "112032    United States of America\n",
      "112033    United States of America\n",
      "112034    United States of America\n",
      "112035    United States of America\n",
      "112036    United States of America\n",
      "112037    United States of America\n",
      "112038    United States of America\n",
      "112039    United States of America\n",
      "112040    United States of America\n",
      "112041    United States of America\n",
      "112042    United States of America\n",
      "112043    United States of America\n",
      "112044    United States of America\n",
      "112045    United States of America\n",
      "112046    United States of America\n",
      "112047    United States of America\n",
      "112048    United States of America\n",
      "112049    United States of America\n",
      "112050    United States of America\n",
      "112051    United States of America\n",
      "112052    United States of America\n",
      "112053    United States of America\n",
      "112054    United States of America\n",
      "112055    United States of America\n",
      "112056    United States of America\n",
      "112057    United States of America\n",
      "112058    United States of America\n",
      "Name: origin_country, dtype: object 0         United States of America\n",
      "1         United States of America\n",
      "2         United States of America\n",
      "3         United States of America\n",
      "4         United States of America\n",
      "5         United States of America\n",
      "6         United States of America\n",
      "7         United States of America\n",
      "8         United States of America\n",
      "9                       Costa Rica\n",
      "10        United States of America\n",
      "11        United States of America\n",
      "12        United States of America\n",
      "13        United States of America\n",
      "14        United States of America\n",
      "15        United States of America\n",
      "16        United States of America\n",
      "17        United States of America\n",
      "18        United States of America\n",
      "19        United States of America\n",
      "20                          Mexico\n",
      "21        United States of America\n",
      "22        United States of America\n",
      "23        United States of America\n",
      "24        United States of America\n",
      "25        United States of America\n",
      "26        United States of America\n",
      "27        United States of America\n",
      "28        United States of America\n",
      "29        United States of America\n",
      "                    ...           \n",
      "112029    United States of America\n",
      "112030    United States of America\n",
      "112031    United States of America\n",
      "112032    United States of America\n",
      "112033    United States of America\n",
      "112034    United States of America\n",
      "112035    United States of America\n",
      "112036    United States of America\n",
      "112037    United States of America\n",
      "112038    United States of America\n",
      "112039    United States of America\n",
      "112040    United States of America\n",
      "112041    United States of America\n",
      "112042    United States of America\n",
      "112043    United States of America\n",
      "112044    United States of America\n",
      "112045    United States of America\n",
      "112046    United States of America\n",
      "112047    United States of America\n",
      "112048    United States of America\n",
      "112049    United States of America\n",
      "112050    United States of America\n",
      "112051    United States of America\n",
      "112052    United States of America\n",
      "112053    United States of America\n",
      "112054    United States of America\n",
      "112055    United States of America\n",
      "112056    United States of America\n",
      "112057    United States of America\n",
      "112058    United States of America\n",
      "Name: destination_country, dtype: object 0         0\n",
      "1         0\n",
      "2         0\n",
      "3         0\n",
      "4         0\n",
      "5         0\n",
      "6         0\n",
      "7         0\n",
      "8         0\n",
      "9         1\n",
      "10        0\n",
      "11        0\n",
      "12        0\n",
      "13        0\n",
      "14        0\n",
      "15        0\n",
      "16        0\n",
      "17        0\n",
      "18        0\n",
      "19        0\n",
      "20        1\n",
      "21        0\n",
      "22        0\n",
      "23        0\n",
      "24        0\n",
      "25        0\n",
      "26        0\n",
      "27        0\n",
      "28        0\n",
      "29        0\n",
      "         ..\n",
      "112029    0\n",
      "112030    0\n",
      "112031    0\n",
      "112032    0\n",
      "112033    0\n",
      "112034    0\n",
      "112035    0\n",
      "112036    0\n",
      "112037    0\n",
      "112038    0\n",
      "112039    0\n",
      "112040    0\n",
      "112041    0\n",
      "112042    0\n",
      "112043    0\n",
      "112044    0\n",
      "112045    0\n",
      "112046    0\n",
      "112047    0\n",
      "112048    0\n",
      "112049    0\n",
      "112050    0\n",
      "112051    0\n",
      "112052    0\n",
      "112053    0\n",
      "112054    0\n",
      "112055    0\n",
      "112056    0\n",
      "112057    0\n",
      "112058    0\n",
      "Name: International, dtype: int64\n"
     ]
    }
   ],
   "source": [
    "print(OnTime['origin_country'], OnTime['destination_country'], OnTime['International'])"
   ]
  },
  {
   "cell_type": "code",
   "execution_count": 30,
   "metadata": {
    "collapsed": false
   },
   "outputs": [
    {
     "data": {
      "image/png": "[encoded data removed]",
      "text/plain": [
       "<matplotlib.figure.Figure at 0x118557630>"
      ]
     },
     "metadata": {},
     "output_type": "display_data"
    }
   ],
   "source": [
    "#show classes, we need to ensure there isn't a major class imbalance\n",
    "ax = sns.countplot(y =  OnTime['OnTimeIndicator'])"
   ]
  },
  {
   "cell_type": "markdown",
   "metadata": {},
   "source": [
    "There's a bit of class imbalance but probably not enough to worry about"
   ]
  },
  {
   "cell_type": "code",
   "execution_count": 16,
   "metadata": {
    "collapsed": false
   },
   "outputs": [],
   "source": [
    "#One Hot Encode any categorical variables\n",
    "#Definitely origin and destination variables\n",
    "#Aircraft Code\n",
    "\n",
    "cols_to_encode = ['origin', 'destination', 'aircraft_type_cde', 'day_of_week', 'TimeBucket', \n",
    "                  'flight_type_code', 'flt_attendant_change_ind', 'International']\n",
    "OnTime = pd.get_dummies(OnTime,columns = cols_to_encode)"
   ]
  },
  {
   "cell_type": "code",
   "execution_count": 21,
   "metadata": {
    "collapsed": false
   },
   "outputs": [
    {
     "data": {
      "text/plain": [
       "origin_latitude               float64\n",
       "origin_longitude              float64\n",
       "destination_latitude          float64\n",
       "destination_longitude         float64\n",
       "origin_country                 object\n",
       "destination_country            object\n",
       "flight_number                  object\n",
       "miles_flown                    object\n",
       "departure_date                 object\n",
       "flight_route_number             int64\n",
       "route_sequence_number           int64\n",
       "flight_cancellation_code       object\n",
       "alternate_airport              object\n",
       "push_delay_mins                 int64\n",
       "delay_type                     object\n",
       "delay_id                       object\n",
       "aircraft_seat_count             int64\n",
       "aircraft_tow_weight            object\n",
       "aircraft_landing_weight        object\n",
       "fuel_loaded                   float64\n",
       "central_scheduled_dep_time     object\n",
       "local_scheduled_dep_time        int64\n",
       "central_scheduled_arr_time     object\n",
       "local_schedulced_arr_time      object\n",
       "total_passengers                int64\n",
       "local_passengers                int64\n",
       "connecting_passengers           int64\n",
       "thru_passengers                 int64\n",
       "unaccompanied_minors            int64\n",
       "total_nonrev_passengers         int64\n",
       "                               ...   \n",
       "destination_STL               float64\n",
       "destination_TPA               float64\n",
       "destination_TUL               float64\n",
       "destination_TUS               float64\n",
       "aircraft_type_cde_0           float64\n",
       "aircraft_type_cde_2           float64\n",
       "aircraft_type_cde_3           float64\n",
       "aircraft_type_cde_5           float64\n",
       "aircraft_type_cde_6           float64\n",
       "aircraft_type_cde_8           float64\n",
       "day_of_week_1                 float64\n",
       "day_of_week_2                 float64\n",
       "day_of_week_3                 float64\n",
       "day_of_week_4                 float64\n",
       "day_of_week_5                 float64\n",
       "day_of_week_6                 float64\n",
       "day_of_week_7                 float64\n",
       "TimeBucket_PreDawn            float64\n",
       "TimeBucket_AMRush             float64\n",
       "TimeBucket_MidDay             float64\n",
       "TimeBucket_PMRush             float64\n",
       "TimeBucket_LateNight          float64\n",
       "flight_type_code_             float64\n",
       "flight_type_code_S            float64\n",
       "flight_type_code_X            float64\n",
       "flt_attendant_change_ind_     float64\n",
       "flt_attendant_change_ind_N    float64\n",
       "flt_attendant_change_ind_Y    float64\n",
       "International_0               float64\n",
       "International_1               float64\n",
       "dtype: object"
      ]
     },
     "execution_count": 21,
     "metadata": {},
     "output_type": "execute_result"
    }
   ],
   "source": [
    "OnTime.dtypes"
   ]
  },
  {
   "cell_type": "code",
   "execution_count": 22,
   "metadata": {
    "collapsed": false
   },
   "outputs": [
    {
     "ename": "SyntaxError",
     "evalue": "invalid syntax (<ipython-input-22-1ffa2ba18e70>, line 7)",
     "output_type": "error",
     "traceback": [
      "\u001b[0;36m  File \u001b[0;32m\"<ipython-input-22-1ffa2ba18e70>\"\u001b[0;36m, line \u001b[0;32m7\u001b[0m\n\u001b[0;31m    X=OnTime.ix[:,[:-5:8]]\u001b[0m\n\u001b[0m                   ^\u001b[0m\n\u001b[0;31mSyntaxError\u001b[0m\u001b[0;31m:\u001b[0m invalid syntax\n"
     ]
    }
   ],
   "source": [
    "#Define our X and Y Sets\n",
    "\n",
    "#Y set: \n",
    "Y=OnTime['OnTimeIndicator']\n",
    "\n",
    "#X Set:\n",
    "X=OnTime.ix[:,[]]\n"
   ]
  },
  {
   "cell_type": "code",
   "execution_count": null,
   "metadata": {
    "collapsed": true
   },
   "outputs": [],
   "source": [
    "# logistic regression?"
   ]
  },
  {
   "cell_type": "code",
   "execution_count": null,
   "metadata": {
    "collapsed": true
   },
   "outputs": [],
   "source": [
    "# KD tree?"
   ]
  },
  {
   "cell_type": "code",
   "execution_count": null,
   "metadata": {
    "collapsed": true
   },
   "outputs": [],
   "source": [
    "# Decision Tree?"
   ]
  },
  {
   "cell_type": "code",
   "execution_count": null,
   "metadata": {
    "collapsed": true
   },
   "outputs": [],
   "source": [
    "#Naive Bayes"
   ]
  },
  {
   "cell_type": "code",
   "execution_count": null,
   "metadata": {
    "collapsed": true
   },
   "outputs": [],
   "source": [
    "#KNN\n",
    "\n",
    "%%time\n",
    "\n",
    "# setup pipeline to take PCA, then fit a KNN classifier\n",
    "clf_pipe = Pipeline(\n",
    "    [('PCA_Eric',PCA(n_components=300,svd_solver='randomized')),\n",
    "     ('CLF_Eric',KNeighborsClassifier(n_neighbors=1))]\n",
    ")\n",
    "\n",
    "# now iterate through and get predictions, saved to the correct row in yhat\n",
    "for train, test in cv.split(X,y):\n",
    "    clf_pipe.fit(X[train],y[train])\n",
    "    yhat[test] = clf_pipe.predict(X[test])\n",
    "\n",
    "total_accuracy = mt.accuracy_score(y, yhat)\n",
    "print ('KNN, pipeline accuracy', total_accuracy)"
   ]
  },
  {
   "cell_type": "code",
   "execution_count": null,
   "metadata": {
    "collapsed": true
   },
   "outputs": [],
   "source": [
    "#Random Forest"
   ]
  },
  {
   "cell_type": "code",
   "execution_count": null,
   "metadata": {
    "collapsed": true
   },
   "outputs": [],
   "source": []
  }
 ],
 "metadata": {
  "anaconda-cloud": {},
  "kernelspec": {
   "display_name": "Python [default]",
   "language": "python",
   "name": "python3"
  },
  "language_info": {
   "codemirror_mode": {
    "name": "ipython",
    "version": 3
   },
   "file_extension": ".py",
   "mimetype": "text/x-python",
   "name": "python",
   "nbconvert_exporter": "python",
   "pygments_lexer": "ipython3",
   "version": "3.5.2"
  }
 },
 "nbformat": 4,
 "nbformat_minor": 1
}
